{
 "cells": [
  {
   "cell_type": "markdown",
   "metadata": {},
   "source": [
    " #Program to develop a regression model on an existing dataset\n"
   ]
  },
  {
   "cell_type": "code",
   "execution_count": 1,
   "metadata": {},
   "outputs": [],
   "source": [
    "#importing different libraries\n",
    "\n",
    "import pandas            as pd\n",
    "import numpy             as np\n",
    "import seaborn           as sea\n",
    "import matplotlib.pyplot as plt\n",
    "from math                                 import sqrt\n",
    "from sklearn.datasets                     import load_boston\n",
    "from sklearn.model_selection              import train_test_split        as tts\n",
    "from sklearn                              import linear_model\n",
    "from sklearn.metrics                      import mean_squared_error       as mse\n",
    "from scipy                                import stats\n",
    "from sklearn.preprocessing                import MinMaxScaler              as mms\n",
    "from statsmodels.stats.outliers_influence import variance_inflation_factor as vif\n",
    "from sklearn.preprocessing                import StandardScaler            as ss \n",
    "from statsmodels.stats.stattools          import durbin_watson\n"
   ]
  },
  {
   "cell_type": "code",
   "execution_count": 2,
   "metadata": {},
   "outputs": [],
   "source": [
    "#Loading Boston dataset from the sklearn.datasets\n",
    "\n",
    "lv_boston = load_boston()"
   ]
  },
  {
   "cell_type": "code",
   "execution_count": 3,
   "metadata": {},
   "outputs": [
    {
     "name": "stdout",
     "output_type": "stream",
     "text": [
      "Keys of boston dataset:dict_keys(['data', 'target', 'feature_names', 'DESCR', 'filename'])\n",
      "Description of boston dataset:.. _boston_dataset:\n",
      "\n",
      "Boston house prices dataset\n",
      "---------------------------\n",
      "\n",
      "**Data Set Characteristics:**  \n",
      "\n",
      "    :Number of Instances: 506 \n",
      "\n",
      "    :Number of Attributes: 13 numeric/categorical predictive. Median Value (attribute 14) is usually the target.\n",
      "\n",
      "    :Attribute Information (in order):\n",
      "        - CRIM     per capita crime rate by town\n",
      "        - ZN       proportion of residential land zoned for lots over 25,000 sq.ft.\n",
      "        - INDUS    proportion of non-retail business acres per town\n",
      "        - CHAS     Charles River dummy variable (= 1 if tract bounds river; 0 otherwise)\n",
      "        - NOX      nitric oxides concentration (parts per 10 million)\n",
      "        - RM       average number of rooms per dwelling\n",
      "        - AGE      proportion of owner-occupied units built prior to 1940\n",
      "        - DIS      weighted distances to five Boston employment centres\n",
      "        - RAD      index of accessibility to radial highways\n",
      "        - TAX      full-value property-tax rate per $10,000\n",
      "        - PTRATIO  pupil-teacher ratio by town\n",
      "        - B        1000(Bk - 0.63)^2 where Bk is the proportion of blacks by town\n",
      "        - LSTAT    % lower status of the population\n",
      "        - MEDV     Median value of owner-occupied homes in $1000's\n",
      "\n",
      "    :Missing Attribute Values: None\n",
      "\n",
      "    :Creator: Harrison, D. and Rubinfeld, D.L.\n",
      "\n",
      "This is a copy of UCI ML housing dataset.\n",
      "https://archive.ics.uci.edu/ml/machine-learning-databases/housing/\n",
      "\n",
      "\n",
      "This dataset was taken from the StatLib library which is maintained at Carnegie Mellon University.\n",
      "\n",
      "The Boston house-price data of Harrison, D. and Rubinfeld, D.L. 'Hedonic\n",
      "prices and the demand for clean air', J. Environ. Economics & Management,\n",
      "vol.5, 81-102, 1978.   Used in Belsley, Kuh & Welsch, 'Regression diagnostics\n",
      "...', Wiley, 1980.   N.B. Various transformations are used in the table on\n",
      "pages 244-261 of the latter.\n",
      "\n",
      "The Boston house-price data has been used in many machine learning papers that address regression\n",
      "problems.   \n",
      "     \n",
      ".. topic:: References\n",
      "\n",
      "   - Belsley, Kuh & Welsch, 'Regression diagnostics: Identifying Influential Data and Sources of Collinearity', Wiley, 1980. 244-261.\n",
      "   - Quinlan,R. (1993). Combining Instance-Based and Model-Based Learning. In Proceedings on the Tenth International Conference of Machine Learning, 236-243, University of Massachusetts, Amherst. Morgan Kaufmann.\n",
      "\n",
      "Feature Names:['CRIM' 'ZN' 'INDUS' 'CHAS' 'NOX' 'RM' 'AGE' 'DIS' 'RAD' 'TAX' 'PTRATIO'\n",
      " 'B' 'LSTAT']\n",
      "Dimensions of data variables:(506, 13)\n",
      "Dimensions of target variable:(506,)\n"
     ]
    }
   ],
   "source": [
    "#Displaying the structure of dataset\n",
    "\n",
    "print(\"Keys of boston dataset:{0}\".format(lv_boston.keys()))\n",
    "print(\"Description of boston dataset:{0}\".format(lv_boston['DESCR']))\n",
    "print(\"Feature Names:{0}\".format(lv_boston['feature_names']))\n",
    "print(\"Dimensions of data variables:{0}\".format(lv_boston['data'].shape))\n",
    "print(\"Dimensions of target variable:{0}\".format(lv_boston['target'].shape))\n",
    "\n"
   ]
  },
  {
   "cell_type": "code",
   "execution_count": 4,
   "metadata": {},
   "outputs": [
    {
     "name": "stdout",
     "output_type": "stream",
     "text": [
      "      CRIM    ZN  INDUS  CHAS    NOX     RM   AGE     DIS  RAD    TAX  \\\n",
      "0  0.00632  18.0   2.31   0.0  0.538  6.575  65.2  4.0900  1.0  296.0   \n",
      "1  0.02731   0.0   7.07   0.0  0.469  6.421  78.9  4.9671  2.0  242.0   \n",
      "2  0.02729   0.0   7.07   0.0  0.469  7.185  61.1  4.9671  2.0  242.0   \n",
      "3  0.03237   0.0   2.18   0.0  0.458  6.998  45.8  6.0622  3.0  222.0   \n",
      "4  0.06905   0.0   2.18   0.0  0.458  7.147  54.2  6.0622  3.0  222.0   \n",
      "\n",
      "   PTRATIO       B  LSTAT  MEDV  \n",
      "0     15.3  396.90   4.98  24.0  \n",
      "1     17.8  396.90   9.14  21.6  \n",
      "2     17.8  392.83   4.03  34.7  \n",
      "3     18.7  394.63   2.94  33.4  \n",
      "4     18.7  396.90   5.33  36.2  \n"
     ]
    }
   ],
   "source": [
    "#Creating a dataframe of Boston dataset\n",
    "\n",
    "pd.set_option('display.max_columns', None)\n",
    "lv_boston_df = pd.DataFrame(lv_boston.data,columns = lv_boston.feature_names)\n",
    "lv_boston_df['MEDV'] = lv_boston.target\n",
    "\n",
    "print(lv_boston_df.head())"
   ]
  },
  {
   "cell_type": "code",
   "execution_count": 5,
   "metadata": {},
   "outputs": [],
   "source": [
    "#Generating the same dataset using seed() function\n",
    "\n",
    "np.random.seed(2000)"
   ]
  },
  {
   "cell_type": "code",
   "execution_count": 6,
   "metadata": {},
   "outputs": [],
   "source": [
    "#Creating the training and test dataset\n",
    "\n",
    "lv_training,lv_test = tts(lv_boston_df,test_size = 0.3 )\n",
    "\n",
    "lv_x_trg = lv_training.drop('MEDV',axis = 1)\n",
    "lv_y_trg = lv_training['MEDV']\n",
    "\n",
    "lv_x_test = lv_test.drop('MEDV',axis = 1)\n",
    "lv_y_test = lv_test['MEDV']\n"
   ]
  },
  {
   "cell_type": "code",
   "execution_count": 7,
   "metadata": {},
   "outputs": [],
   "source": [
    "#Creating a linear regression model\n",
    "\n",
    "lv_model = linear_model.LinearRegression()"
   ]
  },
  {
   "cell_type": "code",
   "execution_count": 8,
   "metadata": {},
   "outputs": [
    {
     "data": {
      "text/plain": [
       "LinearRegression(copy_X=True, fit_intercept=True, n_jobs=None, normalize=False)"
      ]
     },
     "execution_count": 8,
     "metadata": {},
     "output_type": "execute_result"
    }
   ],
   "source": [
    "#Train the model using the training set\n",
    "\n",
    "lv_model.fit(lv_x_trg,lv_y_trg)"
   ]
  },
  {
   "cell_type": "code",
   "execution_count": 9,
   "metadata": {},
   "outputs": [
    {
     "name": "stdout",
     "output_type": "stream",
     "text": [
      "Accuracy of Training dataset is : 0.7497329669344378\n"
     ]
    }
   ],
   "source": [
    "#Determining accuracy of the training set\n",
    "\n",
    "print(\"Accuracy of Training dataset is :\",lv_model.score(lv_x_trg,lv_y_trg))"
   ]
  },
  {
   "cell_type": "code",
   "execution_count": 10,
   "metadata": {},
   "outputs": [
    {
     "name": "stdout",
     "output_type": "stream",
     "text": [
      "Value of Coefficients is: \n",
      " [-1.03910566e-01  3.03790199e-02 -6.07304248e-02  1.22375885e+00\n",
      " -1.56868905e+01  3.82289411e+00 -3.70049661e-03 -1.35985060e+00\n",
      "  2.70620421e-01 -1.04886675e-02 -1.04492769e+00  9.54682149e-03\n",
      " -4.70256905e-01]\n",
      "Value of Intercept is: 36.67861963321768\n"
     ]
    }
   ],
   "source": [
    "#Displaying equation coefficient and intercept\n",
    "\n",
    "print('Value of Coefficients is: \\n',lv_model.coef_)\n",
    "print('Value of Intercept is:',lv_model.intercept_)"
   ]
  },
  {
   "cell_type": "code",
   "execution_count": 11,
   "metadata": {},
   "outputs": [],
   "source": [
    "#predict the output from test set\n",
    "\n",
    "lv_predicted = lv_model.predict(lv_x_test)\n"
   ]
  },
  {
   "cell_type": "code",
   "execution_count": 12,
   "metadata": {},
   "outputs": [
    {
     "name": "stdout",
     "output_type": "stream",
     "text": [
      "The value of RMSE error is : 5.240437660983594\n"
     ]
    }
   ],
   "source": [
    "#Determining root mean squared error\n",
    "\n",
    "lv_rmselm = sqrt(mse(lv_y_test,lv_predicted))\n",
    "print(\"The value of RMSE error is :\",lv_rmselm)"
   ]
  },
  {
   "cell_type": "code",
   "execution_count": 13,
   "metadata": {},
   "outputs": [
    {
     "name": "stdout",
     "output_type": "stream",
     "text": [
      "Dimension of Boston data set: (506, 13)\n",
      "Dimension of Target data set: (506,)\n"
     ]
    }
   ],
   "source": [
    "#Step 1-A:Understanding the dataset\n",
    "\n",
    "print('Dimension of Boston data set:',lv_boston.data.shape)\n",
    "print(\"Dimension of Target data set:\",lv_boston.target.shape)"
   ]
  },
  {
   "cell_type": "code",
   "execution_count": 14,
   "metadata": {},
   "outputs": [
    {
     "name": "stdout",
     "output_type": "stream",
     "text": [
      "The name of the columns are :\n",
      " ['CRIM' 'ZN' 'INDUS' 'CHAS' 'NOX' 'RM' 'AGE' 'DIS' 'RAD' 'TAX' 'PTRATIO'\n",
      " 'B' 'LSTAT']\n"
     ]
    }
   ],
   "source": [
    "#Determining the name of the columns\n",
    "\n",
    "lv_columns = lv_boston.feature_names\n",
    "print(\"The name of the columns are :\\n\",lv_columns)"
   ]
  },
  {
   "cell_type": "code",
   "execution_count": 15,
   "metadata": {},
   "outputs": [],
   "source": [
    "#Create the dataframe from available data\n",
    "\n",
    "lv_boston_data_df_02 = pd.DataFrame(lv_boston.data)\n",
    "lv_boston_data_df_02.columns = lv_columns\n",
    "lv_boston_target_df = pd.DataFrame(lv_boston.target)"
   ]
  },
  {
   "cell_type": "code",
   "execution_count": 16,
   "metadata": {},
   "outputs": [
    {
     "name": "stdout",
     "output_type": "stream",
     "text": [
      "Details of variables in the dataset:\n",
      "              CRIM          ZN       INDUS        CHAS         NOX          RM  \\\n",
      "count  506.000000  506.000000  506.000000  506.000000  506.000000  506.000000   \n",
      "mean     3.613524   11.363636   11.136779    0.069170    0.554695    6.284634   \n",
      "std      8.601545   23.322453    6.860353    0.253994    0.115878    0.702617   \n",
      "min      0.006320    0.000000    0.460000    0.000000    0.385000    3.561000   \n",
      "25%      0.082045    0.000000    5.190000    0.000000    0.449000    5.885500   \n",
      "50%      0.256510    0.000000    9.690000    0.000000    0.538000    6.208500   \n",
      "75%      3.677083   12.500000   18.100000    0.000000    0.624000    6.623500   \n",
      "max     88.976200  100.000000   27.740000    1.000000    0.871000    8.780000   \n",
      "\n",
      "              AGE         DIS         RAD         TAX     PTRATIO           B  \\\n",
      "count  506.000000  506.000000  506.000000  506.000000  506.000000  506.000000   \n",
      "mean    68.574901    3.795043    9.549407  408.237154   18.455534  356.674032   \n",
      "std     28.148861    2.105710    8.707259  168.537116    2.164946   91.294864   \n",
      "min      2.900000    1.129600    1.000000  187.000000   12.600000    0.320000   \n",
      "25%     45.025000    2.100175    4.000000  279.000000   17.400000  375.377500   \n",
      "50%     77.500000    3.207450    5.000000  330.000000   19.050000  391.440000   \n",
      "75%     94.075000    5.188425   24.000000  666.000000   20.200000  396.225000   \n",
      "max    100.000000   12.126500   24.000000  711.000000   22.000000  396.900000   \n",
      "\n",
      "            LSTAT  \n",
      "count  506.000000  \n",
      "mean    12.653063  \n",
      "std      7.141062  \n",
      "min      1.730000  \n",
      "25%      6.950000  \n",
      "50%     11.360000  \n",
      "75%     16.955000  \n",
      "max     37.970000  \n"
     ]
    }
   ],
   "source": [
    "#Determining nature of variables\n",
    "\n",
    "print(\"Details of variables in the dataset:\\n\",lv_boston_data_df_02.describe())"
   ]
  },
  {
   "cell_type": "code",
   "execution_count": 17,
   "metadata": {},
   "outputs": [
    {
     "name": "stdout",
     "output_type": "stream",
     "text": [
      "The details of CHAS are:\n",
      " count    506.000000\n",
      "mean       3.613524\n",
      "std        8.601545\n",
      "min        0.006320\n",
      "25%        0.082045\n",
      "50%        0.256510\n",
      "75%        3.677083\n",
      "max       88.976200\n",
      "Name: CRIM, dtype: float64\n"
     ]
    }
   ],
   "source": [
    "#Determining nature of single variable\n",
    "\n",
    "print(\"The details of CHAS are:\\n\",lv_boston_data_df_02['CRIM'].describe())"
   ]
  },
  {
   "cell_type": "code",
   "execution_count": 18,
   "metadata": {},
   "outputs": [
    {
     "name": "stdout",
     "output_type": "stream",
     "text": [
      "The details of CHAS are:\n",
      " 0.0    471\n",
      "1.0     35\n",
      "Name: CHAS, dtype: int64\n"
     ]
    }
   ],
   "source": [
    "#Determining number of observations for each value of \"CHAS\"\n",
    "\n",
    "print(\"The details of CHAS are:\\n\",lv_boston_data_df_02['CHAS'].value_counts())"
   ]
  },
  {
   "cell_type": "code",
   "execution_count": 19,
   "metadata": {},
   "outputs": [
    {
     "name": "stdout",
     "output_type": "stream",
     "text": [
      "-----------------------------COUNT PLOT--------------------\n"
     ]
    },
    {
     "data": {
      "image/png": "[encoded data removed]",
      "text/plain": [
       "<Figure size 432x288 with 1 Axes>"
      ]
     },
     "metadata": {
      "needs_background": "light"
     },
     "output_type": "display_data"
    }
   ],
   "source": [
    "#Determining count in visual form using count plot\n",
    "\n",
    "print(\"-----------------------------COUNT PLOT--------------------\")\n",
    "sea.countplot(x = 'CHAS',data = lv_boston_data_df_02).set_title('CHAS-wise Count of data')\n",
    "plt.show()"
   ]
  },
  {
   "cell_type": "code",
   "execution_count": 20,
   "metadata": {},
   "outputs": [
    {
     "name": "stdout",
     "output_type": "stream",
     "text": [
      "----------------------COUNT PLOT-----------------------\n"
     ]
    },
    {
     "data": {
      "image/png": "[encoded data removed]",
      "text/plain": [
       "<Figure size 432x288 with 1 Axes>"
      ]
     },
     "metadata": {
      "needs_background": "light"
     },
     "output_type": "display_data"
    }
   ],
   "source": [
    "#Creating a box plot\n",
    "\n",
    "print(\"----------------------COUNT PLOT-----------------------\")\n",
    "sea.boxplot(x = 'CHAS', y = 'AGE',data = lv_boston_data_df_02).set_title(\"Age-Chas boxplot\")\n",
    "plt.show()"
   ]
  },
  {
   "cell_type": "code",
   "execution_count": 21,
   "metadata": {},
   "outputs": [
    {
     "name": "stdout",
     "output_type": "stream",
     "text": [
      "---------------------DISTRIBUTION PLOT---------------\n"
     ]
    },
    {
     "data": {
      "image/png": "[encoded data removed]",
      "text/plain": [
       "<Figure size 1080x1080 with 1 Axes>"
      ]
     },
     "metadata": {
      "needs_background": "light"
     },
     "output_type": "display_data"
    },
    {
     "data": {
      "image/png": "[encoded data removed]",
      "text/plain": [
       "<Figure size 432x288 with 1 Axes>"
      ]
     },
     "metadata": {
      "needs_background": "light"
     },
     "output_type": "display_data"
    },
    {
     "data": {
      "image/png": "[encoded data removed]",
      "text/plain": [
       "<Figure size 432x288 with 1 Axes>"
      ]
     },
     "metadata": {
      "needs_background": "light"
     },
     "output_type": "display_data"
    },
    {
     "ename": "RuntimeError",
     "evalue": "Selected KDE bandwidth is 0. Cannot estiamte density.",
     "output_type": "error",
     "traceback": [
      "\u001b[0;31m---------------------------------------------------------------------------\u001b[0m",
      "\u001b[0;31mValueError\u001b[0m                                Traceback (most recent call last)",
      "\u001b[0;32m/opt/anaconda3/lib/python3.7/site-packages/statsmodels/nonparametric/kde.py\u001b[0m in \u001b[0;36mkdensityfft\u001b[0;34m(X, kernel, bw, weights, gridsize, adjust, clip, cut, retgrid)\u001b[0m\n\u001b[1;32m    450\u001b[0m     \u001b[0;32mtry\u001b[0m\u001b[0;34m:\u001b[0m\u001b[0;34m\u001b[0m\u001b[0;34m\u001b[0m\u001b[0m\n\u001b[0;32m--> 451\u001b[0;31m         \u001b[0mbw\u001b[0m \u001b[0;34m=\u001b[0m \u001b[0mfloat\u001b[0m\u001b[0;34m(\u001b[0m\u001b[0mbw\u001b[0m\u001b[0;34m)\u001b[0m\u001b[0;34m\u001b[0m\u001b[0;34m\u001b[0m\u001b[0m\n\u001b[0m\u001b[1;32m    452\u001b[0m     \u001b[0;32mexcept\u001b[0m\u001b[0;34m:\u001b[0m\u001b[0;34m\u001b[0m\u001b[0;34m\u001b[0m\u001b[0m\n",
      "\u001b[0;31mValueError\u001b[0m: could not convert string to float: 'scott'",
      "\nDuring handling of the above exception, another exception occurred:\n",
      "\u001b[0;31mRuntimeError\u001b[0m                              Traceback (most recent call last)",
      "\u001b[0;32m<ipython-input-21-3e3a60967896>\u001b[0m in \u001b[0;36m<module>\u001b[0;34m\u001b[0m\n\u001b[1;32m      9\u001b[0m     \u001b[0mlv_temp\u001b[0m \u001b[0;34m=\u001b[0m \u001b[0mlv_temp\u001b[0m \u001b[0;34m+\u001b[0m \u001b[0;36m1\u001b[0m\u001b[0;34m\u001b[0m\u001b[0;34m\u001b[0m\u001b[0m\n\u001b[1;32m     10\u001b[0m     \u001b[0mplt\u001b[0m\u001b[0;34m.\u001b[0m\u001b[0msubplot\u001b[0m\u001b[0;34m(\u001b[0m\u001b[0mlv_temp\u001b[0m\u001b[0;34m)\u001b[0m\u001b[0;34m\u001b[0m\u001b[0;34m\u001b[0m\u001b[0m\n\u001b[0;32m---> 11\u001b[0;31m     \u001b[0msea\u001b[0m\u001b[0;34m.\u001b[0m\u001b[0mdistplot\u001b[0m\u001b[0;34m(\u001b[0m\u001b[0mlv_boston_data_df_02\u001b[0m\u001b[0;34m[\u001b[0m\u001b[0mi\u001b[0m\u001b[0;34m]\u001b[0m\u001b[0;34m,\u001b[0m\u001b[0mbins\u001b[0m \u001b[0;34m=\u001b[0m \u001b[0;36m5\u001b[0m\u001b[0;34m)\u001b[0m\u001b[0;34m.\u001b[0m\u001b[0mset_title\u001b[0m\u001b[0;34m(\u001b[0m\u001b[0;34m(\u001b[0m\u001b[0mlv_string\u001b[0m \u001b[0;34m+\u001b[0m \u001b[0mi\u001b[0m\u001b[0;34m)\u001b[0m\u001b[0;34m)\u001b[0m\u001b[0;34m\u001b[0m\u001b[0;34m\u001b[0m\u001b[0m\n\u001b[0m\u001b[1;32m     12\u001b[0m     \u001b[0mplt\u001b[0m\u001b[0;34m.\u001b[0m\u001b[0mshow\u001b[0m\u001b[0;34m(\u001b[0m\u001b[0;34m)\u001b[0m\u001b[0;34m\u001b[0m\u001b[0;34m\u001b[0m\u001b[0m\n\u001b[1;32m     13\u001b[0m \u001b[0;34m\u001b[0m\u001b[0m\n",
      "\u001b[0;32m/opt/anaconda3/lib/python3.7/site-packages/seaborn/distributions.py\u001b[0m in \u001b[0;36mdistplot\u001b[0;34m(a, bins, hist, kde, rug, fit, hist_kws, kde_kws, rug_kws, fit_kws, color, vertical, norm_hist, axlabel, label, ax)\u001b[0m\n\u001b[1;32m    231\u001b[0m     \u001b[0;32mif\u001b[0m \u001b[0mkde\u001b[0m\u001b[0;34m:\u001b[0m\u001b[0;34m\u001b[0m\u001b[0;34m\u001b[0m\u001b[0m\n\u001b[1;32m    232\u001b[0m         \u001b[0mkde_color\u001b[0m \u001b[0;34m=\u001b[0m \u001b[0mkde_kws\u001b[0m\u001b[0;34m.\u001b[0m\u001b[0mpop\u001b[0m\u001b[0;34m(\u001b[0m\u001b[0;34m\"color\"\u001b[0m\u001b[0;34m,\u001b[0m \u001b[0mcolor\u001b[0m\u001b[0;34m)\u001b[0m\u001b[0;34m\u001b[0m\u001b[0;34m\u001b[0m\u001b[0m\n\u001b[0;32m--> 233\u001b[0;31m         \u001b[0mkdeplot\u001b[0m\u001b[0;34m(\u001b[0m\u001b[0ma\u001b[0m\u001b[0;34m,\u001b[0m \u001b[0mvertical\u001b[0m\u001b[0;34m=\u001b[0m\u001b[0mvertical\u001b[0m\u001b[0;34m,\u001b[0m \u001b[0max\u001b[0m\u001b[0;34m=\u001b[0m\u001b[0max\u001b[0m\u001b[0;34m,\u001b[0m \u001b[0mcolor\u001b[0m\u001b[0;34m=\u001b[0m\u001b[0mkde_color\u001b[0m\u001b[0;34m,\u001b[0m \u001b[0;34m**\u001b[0m\u001b[0mkde_kws\u001b[0m\u001b[0;34m)\u001b[0m\u001b[0;34m\u001b[0m\u001b[0;34m\u001b[0m\u001b[0m\n\u001b[0m\u001b[1;32m    234\u001b[0m         \u001b[0;32mif\u001b[0m \u001b[0mkde_color\u001b[0m \u001b[0;34m!=\u001b[0m \u001b[0mcolor\u001b[0m\u001b[0;34m:\u001b[0m\u001b[0;34m\u001b[0m\u001b[0;34m\u001b[0m\u001b[0m\n\u001b[1;32m    235\u001b[0m             \u001b[0mkde_kws\u001b[0m\u001b[0;34m[\u001b[0m\u001b[0;34m\"color\"\u001b[0m\u001b[0;34m]\u001b[0m \u001b[0;34m=\u001b[0m \u001b[0mkde_color\u001b[0m\u001b[0;34m\u001b[0m\u001b[0;34m\u001b[0m\u001b[0m\n",
      "\u001b[0;32m/opt/anaconda3/lib/python3.7/site-packages/seaborn/distributions.py\u001b[0m in \u001b[0;36mkdeplot\u001b[0;34m(data, data2, shade, vertical, kernel, bw, gridsize, cut, clip, legend, cumulative, shade_lowest, cbar, cbar_ax, cbar_kws, ax, **kwargs)\u001b[0m\n\u001b[1;32m    703\u001b[0m         ax = _univariate_kdeplot(data, shade, vertical, kernel, bw,\n\u001b[1;32m    704\u001b[0m                                  \u001b[0mgridsize\u001b[0m\u001b[0;34m,\u001b[0m \u001b[0mcut\u001b[0m\u001b[0;34m,\u001b[0m \u001b[0mclip\u001b[0m\u001b[0;34m,\u001b[0m \u001b[0mlegend\u001b[0m\u001b[0;34m,\u001b[0m \u001b[0max\u001b[0m\u001b[0;34m,\u001b[0m\u001b[0;34m\u001b[0m\u001b[0;34m\u001b[0m\u001b[0m\n\u001b[0;32m--> 705\u001b[0;31m                                  cumulative=cumulative, **kwargs)\n\u001b[0m\u001b[1;32m    706\u001b[0m \u001b[0;34m\u001b[0m\u001b[0m\n\u001b[1;32m    707\u001b[0m     \u001b[0;32mreturn\u001b[0m \u001b[0max\u001b[0m\u001b[0;34m\u001b[0m\u001b[0;34m\u001b[0m\u001b[0m\n",
      "\u001b[0;32m/opt/anaconda3/lib/python3.7/site-packages/seaborn/distributions.py\u001b[0m in \u001b[0;36m_univariate_kdeplot\u001b[0;34m(data, shade, vertical, kernel, bw, gridsize, cut, clip, legend, ax, cumulative, **kwargs)\u001b[0m\n\u001b[1;32m    293\u001b[0m         x, y = _statsmodels_univariate_kde(data, kernel, bw,\n\u001b[1;32m    294\u001b[0m                                            \u001b[0mgridsize\u001b[0m\u001b[0;34m,\u001b[0m \u001b[0mcut\u001b[0m\u001b[0;34m,\u001b[0m \u001b[0mclip\u001b[0m\u001b[0;34m,\u001b[0m\u001b[0;34m\u001b[0m\u001b[0;34m\u001b[0m\u001b[0m\n\u001b[0;32m--> 295\u001b[0;31m                                            cumulative=cumulative)\n\u001b[0m\u001b[1;32m    296\u001b[0m     \u001b[0;32melse\u001b[0m\u001b[0;34m:\u001b[0m\u001b[0;34m\u001b[0m\u001b[0;34m\u001b[0m\u001b[0m\n\u001b[1;32m    297\u001b[0m         \u001b[0;31m# Fall back to scipy if missing statsmodels\u001b[0m\u001b[0;34m\u001b[0m\u001b[0;34m\u001b[0m\u001b[0;34m\u001b[0m\u001b[0m\n",
      "\u001b[0;32m/opt/anaconda3/lib/python3.7/site-packages/seaborn/distributions.py\u001b[0m in \u001b[0;36m_statsmodels_univariate_kde\u001b[0;34m(data, kernel, bw, gridsize, cut, clip, cumulative)\u001b[0m\n\u001b[1;32m    365\u001b[0m     \u001b[0mfft\u001b[0m \u001b[0;34m=\u001b[0m \u001b[0mkernel\u001b[0m \u001b[0;34m==\u001b[0m \u001b[0;34m\"gau\"\u001b[0m\u001b[0;34m\u001b[0m\u001b[0;34m\u001b[0m\u001b[0m\n\u001b[1;32m    366\u001b[0m     \u001b[0mkde\u001b[0m \u001b[0;34m=\u001b[0m \u001b[0msmnp\u001b[0m\u001b[0;34m.\u001b[0m\u001b[0mKDEUnivariate\u001b[0m\u001b[0;34m(\u001b[0m\u001b[0mdata\u001b[0m\u001b[0;34m)\u001b[0m\u001b[0;34m\u001b[0m\u001b[0;34m\u001b[0m\u001b[0m\n\u001b[0;32m--> 367\u001b[0;31m     \u001b[0mkde\u001b[0m\u001b[0;34m.\u001b[0m\u001b[0mfit\u001b[0m\u001b[0;34m(\u001b[0m\u001b[0mkernel\u001b[0m\u001b[0;34m,\u001b[0m \u001b[0mbw\u001b[0m\u001b[0;34m,\u001b[0m \u001b[0mfft\u001b[0m\u001b[0;34m,\u001b[0m \u001b[0mgridsize\u001b[0m\u001b[0;34m=\u001b[0m\u001b[0mgridsize\u001b[0m\u001b[0;34m,\u001b[0m \u001b[0mcut\u001b[0m\u001b[0;34m=\u001b[0m\u001b[0mcut\u001b[0m\u001b[0;34m,\u001b[0m \u001b[0mclip\u001b[0m\u001b[0;34m=\u001b[0m\u001b[0mclip\u001b[0m\u001b[0;34m)\u001b[0m\u001b[0;34m\u001b[0m\u001b[0;34m\u001b[0m\u001b[0m\n\u001b[0m\u001b[1;32m    368\u001b[0m     \u001b[0;32mif\u001b[0m \u001b[0mcumulative\u001b[0m\u001b[0;34m:\u001b[0m\u001b[0;34m\u001b[0m\u001b[0;34m\u001b[0m\u001b[0m\n\u001b[1;32m    369\u001b[0m         \u001b[0mgrid\u001b[0m\u001b[0;34m,\u001b[0m \u001b[0my\u001b[0m \u001b[0;34m=\u001b[0m \u001b[0mkde\u001b[0m\u001b[0;34m.\u001b[0m\u001b[0msupport\u001b[0m\u001b[0;34m,\u001b[0m \u001b[0mkde\u001b[0m\u001b[0;34m.\u001b[0m\u001b[0mcdf\u001b[0m\u001b[0;34m\u001b[0m\u001b[0;34m\u001b[0m\u001b[0m\n",
      "\u001b[0;32m/opt/anaconda3/lib/python3.7/site-packages/statsmodels/nonparametric/kde.py\u001b[0m in \u001b[0;36mfit\u001b[0;34m(self, kernel, bw, fft, weights, gridsize, adjust, cut, clip)\u001b[0m\n\u001b[1;32m    138\u001b[0m             density, grid, bw = kdensityfft(endog, kernel=kernel, bw=bw,\n\u001b[1;32m    139\u001b[0m                     \u001b[0madjust\u001b[0m\u001b[0;34m=\u001b[0m\u001b[0madjust\u001b[0m\u001b[0;34m,\u001b[0m \u001b[0mweights\u001b[0m\u001b[0;34m=\u001b[0m\u001b[0mweights\u001b[0m\u001b[0;34m,\u001b[0m \u001b[0mgridsize\u001b[0m\u001b[0;34m=\u001b[0m\u001b[0mgridsize\u001b[0m\u001b[0;34m,\u001b[0m\u001b[0;34m\u001b[0m\u001b[0;34m\u001b[0m\u001b[0m\n\u001b[0;32m--> 140\u001b[0;31m                     clip=clip, cut=cut)\n\u001b[0m\u001b[1;32m    141\u001b[0m         \u001b[0;32melse\u001b[0m\u001b[0;34m:\u001b[0m\u001b[0;34m\u001b[0m\u001b[0;34m\u001b[0m\u001b[0m\n\u001b[1;32m    142\u001b[0m             density, grid, bw = kdensity(endog, kernel=kernel, bw=bw,\n",
      "\u001b[0;32m/opt/anaconda3/lib/python3.7/site-packages/statsmodels/nonparametric/kde.py\u001b[0m in \u001b[0;36mkdensityfft\u001b[0;34m(X, kernel, bw, weights, gridsize, adjust, clip, cut, retgrid)\u001b[0m\n\u001b[1;32m    451\u001b[0m         \u001b[0mbw\u001b[0m \u001b[0;34m=\u001b[0m \u001b[0mfloat\u001b[0m\u001b[0;34m(\u001b[0m\u001b[0mbw\u001b[0m\u001b[0;34m)\u001b[0m\u001b[0;34m\u001b[0m\u001b[0;34m\u001b[0m\u001b[0m\n\u001b[1;32m    452\u001b[0m     \u001b[0;32mexcept\u001b[0m\u001b[0;34m:\u001b[0m\u001b[0;34m\u001b[0m\u001b[0;34m\u001b[0m\u001b[0m\n\u001b[0;32m--> 453\u001b[0;31m         \u001b[0mbw\u001b[0m \u001b[0;34m=\u001b[0m \u001b[0mbandwidths\u001b[0m\u001b[0;34m.\u001b[0m\u001b[0mselect_bandwidth\u001b[0m\u001b[0;34m(\u001b[0m\u001b[0mX\u001b[0m\u001b[0;34m,\u001b[0m \u001b[0mbw\u001b[0m\u001b[0;34m,\u001b[0m \u001b[0mkern\u001b[0m\u001b[0;34m)\u001b[0m \u001b[0;31m# will cross-val fit this pattern?\u001b[0m\u001b[0;34m\u001b[0m\u001b[0;34m\u001b[0m\u001b[0m\n\u001b[0m\u001b[1;32m    454\u001b[0m     \u001b[0mbw\u001b[0m \u001b[0;34m*=\u001b[0m \u001b[0madjust\u001b[0m\u001b[0;34m\u001b[0m\u001b[0;34m\u001b[0m\u001b[0m\n\u001b[1;32m    455\u001b[0m \u001b[0;34m\u001b[0m\u001b[0m\n",
      "\u001b[0;32m/opt/anaconda3/lib/python3.7/site-packages/statsmodels/nonparametric/bandwidths.py\u001b[0m in \u001b[0;36mselect_bandwidth\u001b[0;34m(x, bw, kernel)\u001b[0m\n\u001b[1;32m    172\u001b[0m         \u001b[0;31m# eventually this can fall back on another selection criterion.\u001b[0m\u001b[0;34m\u001b[0m\u001b[0;34m\u001b[0m\u001b[0;34m\u001b[0m\u001b[0m\n\u001b[1;32m    173\u001b[0m         \u001b[0merr\u001b[0m \u001b[0;34m=\u001b[0m \u001b[0;34m\"Selected KDE bandwidth is 0. Cannot estiamte density.\"\u001b[0m\u001b[0;34m\u001b[0m\u001b[0;34m\u001b[0m\u001b[0m\n\u001b[0;32m--> 174\u001b[0;31m         \u001b[0;32mraise\u001b[0m \u001b[0mRuntimeError\u001b[0m\u001b[0;34m(\u001b[0m\u001b[0merr\u001b[0m\u001b[0;34m)\u001b[0m\u001b[0;34m\u001b[0m\u001b[0;34m\u001b[0m\u001b[0m\n\u001b[0m\u001b[1;32m    175\u001b[0m     \u001b[0;32melse\u001b[0m\u001b[0;34m:\u001b[0m\u001b[0;34m\u001b[0m\u001b[0;34m\u001b[0m\u001b[0m\n\u001b[1;32m    176\u001b[0m         \u001b[0;32mreturn\u001b[0m \u001b[0mbandwidth\u001b[0m\u001b[0;34m\u001b[0m\u001b[0;34m\u001b[0m\u001b[0m\n",
      "\u001b[0;31mRuntimeError\u001b[0m: Selected KDE bandwidth is 0. Cannot estiamte density."
     ]
    },
    {
     "data": {
      "image/png": "[encoded data removed]",
      "text/plain": [
       "<Figure size 432x288 with 1 Axes>"
      ]
     },
     "metadata": {
      "needs_background": "light"
     },
     "output_type": "display_data"
    }
   ],
   "source": [
    "#Creating distribtion plot of Variables\n",
    "\n",
    "print(\"---------------------DISTRIBUTION PLOT---------------\")\n",
    "plt.figure(1,figsize = (15,15))\n",
    "lv_temp = 330\n",
    "lv_string = \"Distribution of \"\n",
    "\n",
    "for i in lv_boston_data_df_02.columns:\n",
    "    lv_temp = lv_temp + 1\n",
    "    plt.subplot(lv_temp)\n",
    "    sea.distplot(lv_boston_data_df_02[i],bins = 5).set_title((lv_string + i))\n",
    "    plt.show()\n",
    "       \n",
    "\n",
    "\n",
    "\n"
   ]
  },
  {
   "cell_type": "code",
   "execution_count": null,
   "metadata": {},
   "outputs": [],
   "source": [
    "print(\"---------------------DISTRIBUTION PLOT---------------\")\n",
    "plt.figure(1,figsize = (15,15))\n",
    "\n",
    "plt.subplot(331)\n",
    "sea.distplot(lv_boston_data_df_02[\"CRIM\"],bins = 5).set_title(\"Distribution of CRIM\")\n",
    "\n",
    "plt.subplot(332)\n",
    "sea.distplot(lv_boston_data_df_02[\"ZN\"],bins = 5).set_title(\"Distribution of ZN\")\n",
    "\n",
    "plt.subplot(333)\n",
    "sea.distplot(lv_boston_data_df_02[\"INDUS\"],bins = 5).set_title(\"Distribution of INDUS\")\n",
    "\n",
    "plt.subplot(334)\n",
    "sea.distplot(lv_boston_data_df_02[\"NOX\"],bins = 5).set_title(\"Distribution of NOX\")\n",
    "\n",
    "plt.subplot(335)\n",
    "sea.distplot(lv_boston_data_df_02[\"RM\"],bins = 5).set_title(\"Distribution of RM\")\n",
    "\n",
    "plt.subplot(336)\n",
    "sea.distplot(lv_boston_data_df_02[\"AGE\"],bins = 5).set_title(\"Distribution of AGE\")\n",
    "\n",
    "plt.subplot(337)\n",
    "sea.distplot(lv_boston_data_df_02[\"DIS\"],bins = 5).set_title(\"Distribution of DIS\")\n",
    "\n",
    "plt.subplot(338)\n",
    "sea.distplot(lv_boston_data_df_02[\"RAD\"],bins = 5).set_title(\"Distribution of RAD\")\n",
    "\n",
    "plt.subplot(339)\n",
    "sea.distplot(lv_boston_data_df_02[\"TAX\"],bins = 5).set_title(\"Distribution of TAX\")\n",
    "\n",
    "plt.suptitle(\"Distribution Plot of Variables\")\n",
    "plt.show()"
   ]
  },
  {
   "cell_type": "code",
   "execution_count": null,
   "metadata": {},
   "outputs": [],
   "source": [
    "#Creating Histogram of Variables :\"PTRATIO,B and LSTAT\"\n",
    "\n",
    "print(\"-------------------------------------------------\")\n",
    "plt.figure(2,figsize=(15,5))\n",
    "\n",
    "plt.subplot(131)\n",
    "lv_boston_data_df_02[\"PTRATIO\"].plot.hist(bins = 10).set_title(\"Histogram of 'PTATIO'\")\n",
    "\n",
    "plt.subplot(132)\n",
    "lv_boston_data_df_02[\"B\"].plot.hist(bins = 10).set_title(\"Histogram of 'B'\")\n",
    "\n",
    "plt.subplot(133)\n",
    "lv_boston_data_df_02[\"LSTAT\"].plot.hist(bins = 10).set_title(\"Histogram of 'LSTAT'\")\n",
    "\n",
    "plt.suptitle(\"Histogram of Variables\")\n",
    "plt.show()"
   ]
  },
  {
   "cell_type": "code",
   "execution_count": null,
   "metadata": {},
   "outputs": [],
   "source": [
    "#Creating a heatmap of correlations\n",
    "print(\"------------------------HEAT MAP-------------------\")\n",
    "sea.heatmap(lv_boston_data_df_02.corr(),annot=True,cmap = 'RdYlGn')\n",
    "fig = plt.gcf()\n",
    "fig.set_size_inches(10,8)\n",
    "plt.title('Heatmap of co-relation between variables', fontsize = 16)\n",
    "plt.show()"
   ]
  },
  {
   "cell_type": "code",
   "execution_count": null,
   "metadata": {},
   "outputs": [],
   "source": [
    "#Creating a scatter plot\n",
    "\n",
    "print(\"------------------SCATTER PLOT--------------------\")\n",
    "sea.scatterplot(x = 'INDUS' , y = 'RM', hue = 'CHAS', data = lv_boston_data_df_02).set_title(\"Scatter plot of INDUS-RM\")\n",
    "plt.xlabel('INDUS')\n",
    "plt.ylabel('RM')\n",
    "plt.show()"
   ]
  },
  {
   "cell_type": "code",
   "execution_count": null,
   "metadata": {},
   "outputs": [],
   "source": [
    "#Scatter pair plot considering kde as diagonal plot\n",
    "print(\"------------------SCATTER PAIR PLOT------------------------\")\n",
    "\n",
    "sea.pairplot(lv_boston_data_df_02[['ZN','INDUS','RM','NOX','CRIM']],kind = 'scatter',\n",
    "            diag_kind = 'kde')\n",
    "plt.suptitle(\"Scatter PairPlot of Observations\")\n",
    "plt.show()"
   ]
  },
  {
   "cell_type": "code",
   "execution_count": null,
   "metadata": {},
   "outputs": [],
   "source": [
    "#Regression pair plot considering histogram as diagonal plot\n",
    "print(\"------------------REGRESSION PAIR PLOT------------------------\")\n",
    "\n",
    "sea.pairplot(lv_boston_data_df_02[['B','DIS','RAD','TAX','PTRATIO']],diag_kind = \"hist\",\n",
    "            kind = 'reg')\n",
    "plt.suptitle(\"Regression Pairplot of observations\")\n",
    "plt.show()"
   ]
  },
  {
   "cell_type": "code",
   "execution_count": null,
   "metadata": {},
   "outputs": [],
   "source": [
    "#Step 1-B Determining missing values\n",
    "\n",
    "print(\"Missing Values in the dataset:\\n\",lv_boston_data_df_02.isnull().sum())"
   ]
  },
  {
   "cell_type": "code",
   "execution_count": null,
   "metadata": {},
   "outputs": [],
   "source": [
    "#Step 1-C: Assumptions check\n",
    "#Step 1-C- Normality assumption : Determining normality of data\n",
    "\n",
    "print(\"Skewness of data:\\n\",stats.skew(lv_boston.data))\n",
    "print(\"Kurtosis of data:\\n\",stats.kurtosis(lv_boston.data))\n",
    "print(\"Applying normality test:\\n\",stats.mstats.normaltest(lv_boston.data))\n",
    "print(\"Applying Shapiro test:\",stats.shapiro(lv_boston.data))\n",
    "\n"
   ]
  },
  {
   "cell_type": "code",
   "execution_count": null,
   "metadata": {},
   "outputs": [],
   "source": [
    "#Determining outliers by calculating z-score\n",
    "\n",
    "lv_zscore = np.abs(stats.zscore(lv_boston_data_df_02))\n",
    "print(\"The z-score of data is:\\n\",lv_zscore)"
   ]
  },
  {
   "cell_type": "code",
   "execution_count": null,
   "metadata": {},
   "outputs": [],
   "source": [
    "#Determining indexes where z-score is greather than 3\n",
    "lv_outlierlist = np.where(lv_zscore > 3)\n",
    "print(\"The indexes of outliers is:\\n\",lv_outlierlist[0])\n",
    "print(\"The number of outliers is:\",len(lv_outlierlist[0]))"
   ]
  },
  {
   "cell_type": "code",
   "execution_count": null,
   "metadata": {},
   "outputs": [],
   "source": [
    "#Removing outliers from the dataset\n",
    "\n",
    "lv_boston_data_df_new = lv_boston_data_df_02[(lv_zscore < 3).all(axis = 1)]\n",
    "print(\"Dimension after removing outliers:\",lv_boston_data_df_new.shape)\n",
    "\n",
    "\n"
   ]
  },
  {
   "cell_type": "code",
   "execution_count": null,
   "metadata": {},
   "outputs": [],
   "source": [
    "#Removing corresponding rows from target dataset also\n",
    "\n",
    "lv_boston.target = lv_boston_target_df.drop(index = lv_outlierlist[0])"
   ]
  },
  {
   "cell_type": "code",
   "execution_count": null,
   "metadata": {},
   "outputs": [],
   "source": [
    "\n",
    "#Step 1-C: Multi Collinearity assumption: use of VIF\n",
    "\n",
    "def vifresult(data):\n",
    "    threshold = 4.0\n",
    "    variables = list(range(data.shape[1]))\n",
    "    deleted = True\n",
    "    while deleted:\n",
    "        deleted = False\n",
    "        vifvalue = [vif(data.iloc[:,variables].values,ix)\n",
    "        for ix in range(data.iloc[:,variables].shape[1])]\n",
    "        maxvifloc = vifvalue.index(max(vifvalue))\n",
    "        if max(vifvalue) > threshold:\n",
    "            print('Deleting\\''+ data.iloc[:,variables].columns[maxvifloc]+\n",
    "                      '\\'at index:'+str(maxvifloc))\n",
    "        del variables[maxvifloc]\n",
    "        delected = True\n",
    "      \n",
    "    print(\"Important predictor variables are:\",data.columns[variables])\n",
    "    return data.iloc[:,variables]\n",
    "\n",
    "#Calling the above function and determine the new dimension\n",
    "lv_boston.data = vifresult(lv_boston_data_df_02)\n",
    "print(\"Dimension after multi collinearity assumption:\",lv_boston.data.shape)\n",
    "\n",
    "              "
   ]
  },
  {
   "cell_type": "code",
   "execution_count": null,
   "metadata": {},
   "outputs": [],
   "source": [
    "#Step 1-C :Linearity Assumption : Use of correlation coefficient\n",
    "#lv_boston.data\n",
    "print(\"Spearman Correlation coefficient between crim and target:\\n\",\n",
    "     stats.stats.spearmanr(lv_boston.data.iloc[1:417,0],\n",
    "                          lv_boston.target[1:417]))\n",
    "print(\"\\n\")\n",
    "\n",
    "print(\"Spearman Correlation Coefficient between zn and target:\\n\",\n",
    "     stats.stats.spearmanr(lv_boston.data.iloc[1:417,1],\n",
    "                         lv_boston.target[1:417]))\n",
    "print(\"\\n\")\n",
    "\n",
    "print(\"Spearman Correlation Coefficient between indus and target:\\n\",\n",
    "     stats.stats.spearmanr(lv_boston.data.iloc[1:417,2],\n",
    "                          lv_boston.target[1:417]))\n",
    "\n",
    "print(\"\\n\")\n",
    "\n",
    "print(\"Spearman Correlation Coefficient between dis and target:\\n\",\n",
    "     stats.stats.spearmanr(lv_boston.data.iloc[1:417,6],\n",
    "                          lv_boston.target[1:417]))"
   ]
  },
  {
   "cell_type": "code",
   "execution_count": null,
   "metadata": {},
   "outputs": [],
   "source": [
    "#Step 1-D: Feature Scaling\n",
    "\n",
    "lv_sc = ss()\n",
    "lv_boston.data = lv_sc.fit_transform(lv_boston.data)\n",
    "print(\"Standard scaling is done on data set\")"
   ]
  },
  {
   "cell_type": "code",
   "execution_count": null,
   "metadata": {},
   "outputs": [],
   "source": [
    "#Step 2: Developing the model\n",
    "#Using a random seed function for generating the same data set\n",
    "\n",
    "#Creating training,test dataset for dependent and independent variables\n",
    "\n",
    "np.random.seed(5000)"
   ]
  },
  {
   "cell_type": "code",
   "execution_count": null,
   "metadata": {},
   "outputs": [],
   "source": [
    "#Creating training,test dataset for dependent and independent variables\n",
    "\n",
    "lv_x_trg_02,lv_x_test_02,lv_y_trg_02,lv_y_test_02 = tts(lv_boston.data,\n",
    "                                                          lv_boston.target,\n",
    "                                                          random_state = 0 )\n",
    "\n",
    "print(\"Dimension of training,test data set\",lv_x_trg_02.shape,\n",
    "                                             lv_x_test_02.shape)"
   ]
  },
  {
   "cell_type": "code",
   "execution_count": null,
   "metadata": {},
   "outputs": [],
   "source": [
    "#Creating a Linear regression model on training dataset\n",
    "\n",
    "lv_model_02 = linear_model.LinearRegression()\n",
    "\n",
    "#Fit the Linear regression model using training dataset\n",
    "\n",
    "lv_model_02.fit(lv_x_trg_02,lv_y_trg_02)"
   ]
  },
  {
   "cell_type": "code",
   "execution_count": null,
   "metadata": {},
   "outputs": [],
   "source": [
    "#Equation coefficient and intercept of the model\n",
    "\n",
    "print('Coefficient of independent variables:\\n',lv_model_02.coef_)\n",
    "print('Intercept in this model:',lv_model_02.intercept_)"
   ]
  },
  {
   "cell_type": "code",
   "execution_count": null,
   "metadata": {},
   "outputs": [],
   "source": [
    "# Step 3: Predicting the model\n",
    "#Make Prediction on test set\n",
    "\n",
    "lv_pred = lv_model_02.predict(lv_x_test_02)\n",
    "\n",
    "#Independence of error assumption: Using Durbin-Watson test\n",
    "\n",
    "lv_resid = lv_y_test_02-lv_pred\n",
    "print(\"Durbin Waston test:\",durbin_watson(lv_resid))"
   ]
  },
  {
   "cell_type": "code",
   "execution_count": null,
   "metadata": {},
   "outputs": [],
   "source": [
    "#Homoscedasticity assumption: plot between residuals , predicted values\n",
    "\n",
    "plt.scatter(lv_pred,lv_resid)\n",
    "plt.show()"
   ]
  },
  {
   "cell_type": "code",
   "execution_count": null,
   "metadata": {},
   "outputs": [],
   "source": [
    "#Step 4: Determining accuracy of the model\n",
    "#Calculate RMSE for the model\n",
    "\n",
    "lv_rmse = sqrt(mse(lv_y_test_02,lv_pred))\n",
    "print('RMSE value for Linear model is :',lv_rmse)"
   ]
  },
  {
   "cell_type": "code",
   "execution_count": null,
   "metadata": {},
   "outputs": [],
   "source": []
  }
 ],
 "metadata": {
  "kernelspec": {
   "display_name": "Python 3",
   "language": "python",
   "name": "python3"
  },
  "language_info": {
   "codemirror_mode": {
    "name": "ipython",
    "version": 3
   },
   "file_extension": ".py",
   "mimetype": "text/x-python",
   "name": "python",
   "nbconvert_exporter": "python",
   "pygments_lexer": "ipython3",
   "version": "3.7.6"
  }
 },
 "nbformat": 4,
 "nbformat_minor": 4
}
