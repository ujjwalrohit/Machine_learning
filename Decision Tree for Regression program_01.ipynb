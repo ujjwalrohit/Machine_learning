{
 "cells": [
  {
   "cell_type": "code",
   "execution_count": 39,
   "metadata": {},
   "outputs": [],
   "source": [
    "#Importing libraries\n",
    "\n",
    "from sklearn.model_selection        import train_test_split\n",
    "from sklearn.tree                   import DecisionTreeRegressor\n",
    "from sklearn.tree                   import export_graphviz\n",
    "from sklearn.neighbors              import KNeighborsRegressor\n",
    "from sklearn.metrics                import mean_squared_error\n",
    "from sklearn.linear_model           import LinearRegression\n",
    "from math                           import sqrt\n",
    "\n",
    "import pandas            as pd\n",
    "import numpy             as np\n",
    "import matplotlib.pyplot as plt\n",
    "\n"
   ]
  },
  {
   "cell_type": "code",
   "execution_count": 21,
   "metadata": {},
   "outputs": [],
   "source": [
    "#Reading Dataset\n",
    "\n",
    "lv_longley_df = pd.read_csv(\"https://raw.githubusercontent.com/jbrownlee/Datasets/d20fcb6402ae34e653d4513b00f39257bb37ed7f/longley.csv\")\n",
    "\n",
    "lv_longley_df.columns = [\"GNP.deflator\",\"GNP\",\"Unemployed\",\"Armed.Forces\",\"Population\",\"Year\",\"Employed\"]\n"
   ]
  },
  {
   "cell_type": "code",
   "execution_count": 22,
   "metadata": {},
   "outputs": [
    {
     "name": "stdout",
     "output_type": "stream",
     "text": [
      "The dimension of the data set is: (15, 7)\n",
      "The names of the variables in the data set are :\n",
      " Index(['GNP.deflator', 'GNP', 'Unemployed', 'Armed.Forces', 'Population',\n",
      "       'Year', 'Employed'],\n",
      "      dtype='object')\n",
      "<class 'pandas.core.frame.DataFrame'>\n",
      "RangeIndex: 15 entries, 0 to 14\n",
      "Data columns (total 7 columns):\n",
      " #   Column        Non-Null Count  Dtype  \n",
      "---  ------        --------------  -----  \n",
      " 0   GNP.deflator  15 non-null     float64\n",
      " 1   GNP           15 non-null     float64\n",
      " 2   Unemployed    15 non-null     float64\n",
      " 3   Armed.Forces  15 non-null     float64\n",
      " 4   Population    15 non-null     float64\n",
      " 5   Year          15 non-null     int64  \n",
      " 6   Employed      15 non-null     float64\n",
      "dtypes: float64(6), int64(1)\n",
      "memory usage: 968.0 bytes\n",
      "The information of the data set are:\n",
      " None\n"
     ]
    }
   ],
   "source": [
    "#Displaying the characteristics of the longley data set\n",
    "\n",
    "print(\"The dimension of the data set is:\",lv_longley_df.shape)\n",
    "print(\"The names of the variables in the data set are :\\n\",lv_longley_df.columns)\n",
    "print(\"The information of the data set are:\\n\",lv_longley_df.info())"
   ]
  },
  {
   "cell_type": "code",
   "execution_count": 23,
   "metadata": {},
   "outputs": [
    {
     "name": "stdout",
     "output_type": "stream",
     "text": [
      "Null values in dataset:\n",
      " GNP.deflator    0\n",
      "GNP             0\n",
      "Unemployed      0\n",
      "Armed.Forces    0\n",
      "Population      0\n",
      "Year            0\n",
      "Employed        0\n",
      "dtype: int64\n",
      "Not available values in the data set are:\n",
      " GNP.deflator    0\n",
      "GNP             0\n",
      "Unemployed      0\n",
      "Armed.Forces    0\n",
      "Population      0\n",
      "Year            0\n",
      "Employed        0\n",
      "dtype: int64\n"
     ]
    }
   ],
   "source": [
    "#Determining Null values\n",
    "\n",
    "print(\"Null values in dataset:\\n\",lv_longley_df.isnull().sum())\n",
    "print(\"Not available values in the data set are:\\n\",lv_longley_df.isna().sum())"
   ]
  },
  {
   "cell_type": "code",
   "execution_count": 24,
   "metadata": {},
   "outputs": [],
   "source": [
    "#Using a random seed function for generating the same data set\n",
    "\n",
    "np.random.seed(3000)\n",
    "\n",
    "lv_training,lv_test = train_test_split(lv_longley_df,test_size = 0.3)\n",
    "\n",
    "lv_x_train = lv_training.drop([\"Employed\"],axis = 1)\n",
    "lv_y_train = lv_training[\"Employed\"]\n",
    "\n",
    "lv_x_test = lv_test.drop([\"Employed\"],axis = 1)\n",
    "lv_y_test = lv_test[\"Employed\"]"
   ]
  },
  {
   "cell_type": "code",
   "execution_count": 25,
   "metadata": {},
   "outputs": [
    {
     "name": "stdout",
     "output_type": "stream",
     "text": [
      "-------------DECISION TREE MODEL---------------\n"
     ]
    },
    {
     "data": {
      "text/plain": [
       "DecisionTreeRegressor(ccp_alpha=0.0, criterion='mse', max_depth=None,\n",
       "                      max_features=None, max_leaf_nodes=None,\n",
       "                      min_impurity_decrease=0.0, min_impurity_split=None,\n",
       "                      min_samples_leaf=1, min_samples_split=2,\n",
       "                      min_weight_fraction_leaf=0.0, presort='deprecated',\n",
       "                      random_state=0, splitter='best')"
      ]
     },
     "execution_count": 25,
     "metadata": {},
     "output_type": "execute_result"
    }
   ],
   "source": [
    "#Creating a decision tree model\n",
    "\n",
    "print(\"-------------DECISION TREE MODEL---------------\")\n",
    "\n",
    "lv_tree_longley = DecisionTreeRegressor(random_state = 0)\n",
    "lv_tree_longley.fit(lv_x_train,lv_y_train)"
   ]
  },
  {
   "cell_type": "code",
   "execution_count": 27,
   "metadata": {},
   "outputs": [
    {
     "name": "stdout",
     "output_type": "stream",
     "text": [
      "The importance of features of decision tree model for longly data set:\n",
      " [2.55359834e-02 7.08778119e-01 2.56663176e-05 0.00000000e+00\n",
      " 6.53524589e-03 2.59124985e-01]\n"
     ]
    }
   ],
   "source": [
    "#Determining the importance of the predictor variables\n",
    "\n",
    "print(\"The importance of features of decision tree model for longly data set:\\n\",\n",
    "     lv_tree_longley.feature_importances_)"
   ]
  },
  {
   "cell_type": "code",
   "execution_count": 28,
   "metadata": {},
   "outputs": [],
   "source": [
    "#Creating a visual model of decision tree algorithm\n",
    "\n",
    "export_graphviz(lv_tree_longley,out_file = \"longley.dot\",feature_names = lv_x_train.columns,\n",
    "               impurity = False ,filled = True )"
   ]
  },
  {
   "cell_type": "code",
   "execution_count": 30,
   "metadata": {},
   "outputs": [
    {
     "name": "stdout",
     "output_type": "stream",
     "text": [
      "The RMSE value for Decision tree is : 1.500712097638979\n"
     ]
    }
   ],
   "source": [
    "#Calculate RMSE for the model\n",
    "\n",
    "lv_tree_longley_rmse = sqrt(mean_squared_error(lv_y_test,lv_tree_longley.predict(lv_x_test))\n",
    "                    )\n",
    "print(\"The RMSE value for Decision tree is :\",lv_tree_longley_rmse)"
   ]
  },
  {
   "cell_type": "code",
   "execution_count": 31,
   "metadata": {},
   "outputs": [
    {
     "name": "stdout",
     "output_type": "stream",
     "text": [
      "----------------------NEW DECISION TREE MODEL--------------------\n"
     ]
    },
    {
     "data": {
      "text/plain": [
       "DecisionTreeRegressor(ccp_alpha=0.0, criterion='mse', max_depth=3,\n",
       "                      max_features=None, max_leaf_nodes=None,\n",
       "                      min_impurity_decrease=0.0, min_impurity_split=None,\n",
       "                      min_samples_leaf=1, min_samples_split=2,\n",
       "                      min_weight_fraction_leaf=0.0, presort='deprecated',\n",
       "                      random_state=0, splitter='best')"
      ]
     },
     "execution_count": 31,
     "metadata": {},
     "output_type": "execute_result"
    }
   ],
   "source": [
    "#Creating a new decision tree model for specified depth\n",
    "\n",
    "print(\"----------------------NEW DECISION TREE MODEL--------------------\")\n",
    "\n",
    "lv_tree_longley_new = DecisionTreeRegressor(max_depth = 3,random_state = 0)\n",
    "lv_tree_longley_new.fit(lv_x_train,lv_y_train)"
   ]
  },
  {
   "cell_type": "code",
   "execution_count": 37,
   "metadata": {},
   "outputs": [
    {
     "data": {
      "image/png": "[encoded data removed]",
      "text/plain": [
       "<Figure size 1440x720 with 1 Axes>"
      ]
     },
     "metadata": {
      "needs_background": "light"
     },
     "output_type": "display_data"
    }
   ],
   "source": [
    "#Displaying importance of each variable in decision tree\n",
    "\n",
    "plt.figure(1,figsize = (20,10))\n",
    "plt.yticks(range(0,6),lv_x_train.columns)\n",
    "plt.barh(range(0,6),lv_tree_longley_new.feature_importances_ ,align = 'center')\n",
    "plt.xlabel(\"Coefficient\")\n",
    "plt.ylabel(\"Value\")\n",
    "plt.show()"
   ]
  },
  {
   "cell_type": "code",
   "execution_count": 38,
   "metadata": {},
   "outputs": [
    {
     "name": "stdout",
     "output_type": "stream",
     "text": [
      "RMSE value for a new Decision Tree model is : 0.866997001148214\n"
     ]
    }
   ],
   "source": [
    "#Calculate RMSE for the new decision tree model\n",
    "\n",
    "lv_tree_pred2 = sqrt(mean_squared_error(lv_y_test,lv_tree_longley_new.predict(lv_x_test))\n",
    "                    )\n",
    "print(\"RMSE value for a new Decision Tree model is :\",lv_tree_pred2)"
   ]
  },
  {
   "cell_type": "code",
   "execution_count": 41,
   "metadata": {},
   "outputs": [
    {
     "name": "stdout",
     "output_type": "stream",
     "text": [
      "-----------------LINEAR REGRESSION MODEL-------------------\n",
      "Coefficient of independent variables in the model is:\n",
      " [ 0.22034627 -0.06237809 -0.02253421 -0.01429506 -0.69409218  2.89341541]\n",
      "Intercept in the model is: -5495.810320934462\n",
      "RMSE value for Linear Regression model is : 1.043028714575896\n"
     ]
    }
   ],
   "source": [
    "#Creating a linear regression model\n",
    "\n",
    "print(\"-----------------LINEAR REGRESSION MODEL-------------------\")\n",
    "\n",
    "lv_lin_longley = LinearRegression()\n",
    "lv_lin_longley.fit(lv_x_train,lv_y_train)\n",
    "lv_lin_longley_rmse = sqrt(mean_squared_error(lv_y_test,lv_lin_longley.predict(lv_x_test)))\n",
    "\n",
    "print(\"Coefficient of independent variables in the model is:\\n\",lv_lin_longley.coef_)\n",
    "print(\"Intercept in the model is:\",lv_lin_longley.intercept_)\n",
    "print(\"RMSE value for Linear Regression model is :\",lv_lin_longley_rmse)\n"
   ]
  },
  {
   "cell_type": "code",
   "execution_count": 42,
   "metadata": {},
   "outputs": [
    {
     "name": "stdout",
     "output_type": "stream",
     "text": [
      "------------------------KNN MODEL--------------------\n",
      "RMSE value for k1 k is 1.500712097638979\n",
      "RMSE value for k2 k is 1.552361040479958\n",
      "RMSE value for k3 k is 1.9290391390534347\n",
      "RMSE value for k4 k is 2.2745948128183198\n",
      "RMSE value for k5 k is 2.972287389873328\n",
      "RMSE value for k6 k is 3.5268851263465417\n",
      "RMSE value for k7 k is 3.970421704328659\n",
      "RMSE value for k8 k is 4.072079925004545\n",
      "RMSE value for k9 k is 4.362454078006563\n",
      "RMSE value for k10 k is 4.68427044479715\n",
      "The Least RMSE value using KNN is : 1.500712097638979\n"
     ]
    },
    {
     "data": {
      "text/plain": [
       "<matplotlib.axes._subplots.AxesSubplot at 0x7fecce028810>"
      ]
     },
     "execution_count": 42,
     "metadata": {},
     "output_type": "execute_result"
    },
    {
     "data": {
      "image/png": "[encoded data removed]",
      "text/plain": [
       "<Figure size 432x288 with 1 Axes>"
      ]
     },
     "metadata": {
      "needs_background": "light"
     },
     "output_type": "display_data"
    }
   ],
   "source": [
    "#Creating a KNN Model\n",
    "\n",
    "print(\"------------------------KNN MODEL--------------------\")\n",
    "\n",
    "lv_knn_rmse_list = []\n",
    "\n",
    "for k in range(10):\n",
    "    k = k + 1\n",
    "    lv_knn_longley = KNeighborsRegressor(n_neighbors=k)\n",
    "    lv_knn_longley.fit(lv_x_train,lv_y_train)\n",
    "    lv_knn_longley_rmse = sqrt(mean_squared_error(lv_y_test,lv_knn_longley.predict(lv_x_test)))\n",
    "    print(\"RMSE value for k{0} k is {1}\".format(k,lv_knn_longley_rmse))\n",
    "    lv_knn_rmse_list.append(lv_knn_longley_rmse)\n",
    "    \n",
    "\n",
    "print(\"The Least RMSE value using KNN is :\",min(lv_knn_rmse_list))\n",
    "\n",
    "lv_curve = pd.DataFrame(lv_knn_rmse_list)\n",
    "lv_curve.plot()"
   ]
  },
  {
   "cell_type": "code",
   "execution_count": null,
   "metadata": {},
   "outputs": [],
   "source": []
  }
 ],
 "metadata": {
  "kernelspec": {
   "display_name": "Python 3",
   "language": "python",
   "name": "python3"
  },
  "language_info": {
   "codemirror_mode": {
    "name": "ipython",
    "version": 3
   },
   "file_extension": ".py",
   "mimetype": "text/x-python",
   "name": "python",
   "nbconvert_exporter": "python",
   "pygments_lexer": "ipython3",
   "version": "3.7.6"
  }
 },
 "nbformat": 4,
 "nbformat_minor": 4
}
