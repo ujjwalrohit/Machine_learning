{
 "cells": [
  {
   "cell_type": "code",
   "execution_count": 40,
   "metadata": {},
   "outputs": [],
   "source": [
    "#Importing libraries\n",
    "\n",
    "from sklearn.ensemble                   import RandomForestRegressor\n",
    "from sklearn.ensemble                   import BaggingRegressor\n",
    "from sklearn.tree                       import DecisionTreeRegressor\n",
    "from sklearn.metrics                    import mean_squared_error\n",
    "from sklearn.metrics                    import roc_auc_score,roc_curve\n",
    "from sklearn.model_selection            import train_test_split\n",
    "from sklearn                            import linear_model\n",
    "from sklearn.neighbors                  import KNeighborsRegressor\n",
    "from sklearn.svm                        import LinearSVR\n",
    "from sklearn.model_selection            import GridSearchCV\n",
    "from math                               import sqrt\n",
    "\n",
    "import pandas              as pd\n",
    "import numpy               as np\n",
    "import matplotlib.pyplot   as plt"
   ]
  },
  {
   "cell_type": "code",
   "execution_count": 2,
   "metadata": {},
   "outputs": [],
   "source": [
    "#Reading data set\n",
    "\n",
    "lv_energy_df = pd.read_csv('/Users/ujjwalrohit/Dataset for machine Learning/ENB2012_data.csv')\n"
   ]
  },
  {
   "cell_type": "code",
   "execution_count": 3,
   "metadata": {},
   "outputs": [
    {
     "name": "stdout",
     "output_type": "stream",
     "text": [
      "Dimension of the data set: (768, 10)\n",
      "Names of the variables in the data set are Index(['X1', 'X2', 'X3', 'X4', 'X5', 'X6', 'X7', 'X8', 'Y1', 'Y2'], dtype='object')\n",
      "<class 'pandas.core.frame.DataFrame'>\n",
      "RangeIndex: 768 entries, 0 to 767\n",
      "Data columns (total 10 columns):\n",
      " #   Column  Non-Null Count  Dtype  \n",
      "---  ------  --------------  -----  \n",
      " 0   X1      768 non-null    float64\n",
      " 1   X2      768 non-null    float64\n",
      " 2   X3      768 non-null    float64\n",
      " 3   X4      768 non-null    float64\n",
      " 4   X5      768 non-null    float64\n",
      " 5   X6      768 non-null    int64  \n",
      " 6   X7      768 non-null    float64\n",
      " 7   X8      768 non-null    int64  \n",
      " 8   Y1      768 non-null    float64\n",
      " 9   Y2      768 non-null    float64\n",
      "dtypes: float64(8), int64(2)\n",
      "memory usage: 60.1 KB\n",
      "The information of the data set are None\n"
     ]
    }
   ],
   "source": [
    "#Displaying the characteristics of the energy data set\n",
    "\n",
    "print(\"Dimension of the data set:\",lv_energy_df.shape)\n",
    "print(\"Names of the variables in the data set are\",lv_energy_df.columns)\n",
    "print(\"The information of the data set are\",lv_energy_df.info())"
   ]
  },
  {
   "cell_type": "code",
   "execution_count": 4,
   "metadata": {},
   "outputs": [
    {
     "name": "stdout",
     "output_type": "stream",
     "text": [
      "The Null values in the dataset are :\n",
      " X1    0\n",
      "X2    0\n",
      "X3    0\n",
      "X4    0\n",
      "X5    0\n",
      "X6    0\n",
      "X7    0\n",
      "X8    0\n",
      "Y1    0\n",
      "Y2    0\n",
      "dtype: int64\n",
      "The Nan values in the dataset are :\n",
      " X1    0\n",
      "X2    0\n",
      "X3    0\n",
      "X4    0\n",
      "X5    0\n",
      "X6    0\n",
      "X7    0\n",
      "X8    0\n",
      "Y1    0\n",
      "Y2    0\n",
      "dtype: int64\n"
     ]
    }
   ],
   "source": [
    "#Check the Nan and Null values in the data set\n",
    "\n",
    "print(\"The Null values in the dataset are :\\n\",lv_energy_df.isnull().sum())\n",
    "print(\"The Nan values in the dataset are :\\n\",lv_energy_df.isna().sum())"
   ]
  },
  {
   "cell_type": "code",
   "execution_count": 10,
   "metadata": {},
   "outputs": [],
   "source": [
    "#Using a random seed function for generating the same data set\n",
    "\n",
    "np.random.seed(3000)\n",
    "\n",
    "lv_training,lv_test = train_test_split(lv_energy_df,test_size = 0.3,random_state = 0)\n",
    "\n",
    "lv_x_train = lv_training.drop(['Y2'],axis = 1)\n",
    "lv_y_train = lv_training['Y2']\n",
    "\n",
    "lv_x_test = lv_test.drop(['Y2'],axis = 1)\n",
    "lv_y_test = lv_test['Y2']"
   ]
  },
  {
   "cell_type": "code",
   "execution_count": 11,
   "metadata": {},
   "outputs": [
    {
     "name": "stdout",
     "output_type": "stream",
     "text": [
      "---------------------------RANDOM FOREST MODEL------------------\n"
     ]
    },
    {
     "data": {
      "text/plain": [
       "RandomForestRegressor(bootstrap=True, ccp_alpha=0.0, criterion='mse',\n",
       "                      max_depth=None, max_features='auto', max_leaf_nodes=None,\n",
       "                      max_samples=None, min_impurity_decrease=0.0,\n",
       "                      min_impurity_split=None, min_samples_leaf=1,\n",
       "                      min_samples_split=2, min_weight_fraction_leaf=0.0,\n",
       "                      n_estimators=100, n_jobs=None, oob_score=False,\n",
       "                      random_state=None, verbose=0, warm_start=False)"
      ]
     },
     "execution_count": 11,
     "metadata": {},
     "output_type": "execute_result"
    }
   ],
   "source": [
    "#Creating a Random Forest model\n",
    "\n",
    "print(\"---------------------------RANDOM FOREST MODEL------------------\")\n",
    "lv_energy_forest = RandomForestRegressor()\n",
    "lv_energy_forest.fit(lv_x_train,lv_y_train)"
   ]
  },
  {
   "cell_type": "code",
   "execution_count": 12,
   "metadata": {},
   "outputs": [
    {
     "name": "stdout",
     "output_type": "stream",
     "text": [
      "Accuracy on training data set: 0.9971503019921341\n",
      "Accuracy on test data set: 0.9782031222051971\n"
     ]
    }
   ],
   "source": [
    "#Displaying Accuracy of the random forest model\n",
    "\n",
    "print(\"Accuracy on training data set:\",lv_energy_forest.score(lv_x_train,lv_y_train))\n",
    "print(\"Accuracy on test data set:\",lv_energy_forest.score(lv_x_test,lv_y_test))"
   ]
  },
  {
   "cell_type": "code",
   "execution_count": 13,
   "metadata": {},
   "outputs": [
    {
     "name": "stdout",
     "output_type": "stream",
     "text": [
      "RMSE value for Random forest model : 1.4021611056783263\n"
     ]
    }
   ],
   "source": [
    "#Make prediction on test set and Calculate RMSE for the model\n",
    "\n",
    "print(\"RMSE value for Random forest model :\",\n",
    "     sqrt(mean_squared_error(lv_y_test,lv_energy_forest.predict(lv_x_test))))"
   ]
  },
  {
   "cell_type": "code",
   "execution_count": 15,
   "metadata": {},
   "outputs": [
    {
     "name": "stdout",
     "output_type": "stream",
     "text": [
      "-----------------RANDOM FOREST MODEL WiTH BEST PARAMETERS--------------\n",
      "Best Parameters:\n",
      " {'max_depth': 6, 'max_features': 'auto', 'min_samples_split': 0.05, 'n_estimators': 30}\n"
     ]
    }
   ],
   "source": [
    "#Creating a new random forest model with best parameters\n",
    "\n",
    "print(\"-----------------RANDOM FOREST MODEL WiTH BEST PARAMETERS--------------\")\n",
    "\n",
    "lv_param_grid = {'n_estimators':[10,20,30],\n",
    "                 'max_features':[\"auto\",\"sqrt\",\"log2\"],\n",
    "                 'max_depth' :[4,6,8],\n",
    "                 'min_samples_split':[0.05,0.10]\n",
    "}\n",
    "\n",
    "lv_energy_forest_grid = RandomForestRegressor()\n",
    "lv_energy_forest_grid_cv = GridSearchCV(estimator=lv_energy_forest_grid,\n",
    "                                        param_grid= lv_param_grid,cv=5)\n",
    "\n",
    "lv_energy_forest_grid_cv.fit(lv_x_train,lv_y_train)\n",
    "\n",
    "print(\"Best Parameters:\\n\",lv_energy_forest_grid_cv.best_params_)\n",
    "\n"
   ]
  },
  {
   "cell_type": "code",
   "execution_count": 17,
   "metadata": {},
   "outputs": [],
   "source": [
    "#Creating the model with best scores\n",
    "\n",
    "lv_energy_forest_best = RandomForestRegressor(\n",
    "n_estimators=lv_energy_forest_grid_cv.fit(lv_x_train,lv_y_train).best_params_['n_estimators'],\n",
    "max_depth = lv_energy_forest_grid_cv.fit(lv_x_train,lv_y_train).best_params_['max_depth'],\n",
    "max_features= lv_energy_forest_grid_cv.fit(lv_x_train,lv_y_train).best_params_['max_features'],\n",
    "min_samples_split=lv_energy_forest_grid_cv.fit(lv_x_train,lv_y_train).best_params_['min_samples_split']    \n",
    ")"
   ]
  },
  {
   "cell_type": "code",
   "execution_count": 24,
   "metadata": {},
   "outputs": [
    {
     "name": "stdout",
     "output_type": "stream",
     "text": [
      "Accuracy on training set with best parameters : 0.9772021282666802\n",
      "Accuracy on test set with best parameters : 0.9707014241303262\n"
     ]
    }
   ],
   "source": [
    "#Evaluating the model considering best parameters \n",
    "\n",
    "lv_energy_forest_best.fit(lv_x_train,lv_y_train)\n",
    "\n",
    "print(\"Accuracy on training set with best parameters :\",\n",
    "      lv_energy_forest_best.score(lv_x_train,lv_y_train ))\n",
    "      \n",
    "print(\"Accuracy on test set with best parameters :\",\n",
    "      lv_energy_forest_best.score(lv_x_test,lv_y_test))      "
   ]
  },
  {
   "cell_type": "code",
   "execution_count": 25,
   "metadata": {},
   "outputs": [
    {
     "name": "stdout",
     "output_type": "stream",
     "text": [
      "RMSE value for new random forest model: 1.6256386901168505\n"
     ]
    }
   ],
   "source": [
    "#Make prediction on test set and Calculate RMSE for the new model\n",
    "\n",
    "print('RMSE value for new random forest model:',sqrt(mean_squared_error(lv_y_test,\n",
    "                                            lv_energy_forest_best.predict(lv_x_test))))"
   ]
  },
  {
   "cell_type": "code",
   "execution_count": 27,
   "metadata": {},
   "outputs": [
    {
     "name": "stdout",
     "output_type": "stream",
     "text": [
      "--------------------BAGGING MODEL---------------------------\n",
      "Accuracy of bagging model on training data set: 0.9963830682997958\n",
      "Accuracy of bagging model on test data set : 0.9765267569039104\n",
      "RMSE value for new random forest model: 1.4550815020091412\n"
     ]
    }
   ],
   "source": [
    "#Creating a Bagging model\n",
    "\n",
    "print(\"--------------------BAGGING MODEL---------------------------\")\n",
    "\n",
    "lv_energy_bag = BaggingRegressor(random_state=0)\n",
    "lv_energy_bag.fit(lv_x_train,lv_y_train)\n",
    "\n",
    "print(\"Accuracy of bagging model on training data set:\",lv_energy_bag.score(lv_x_train,\n",
    "                                                                           lv_y_train))\n",
    "\n",
    "print(\"Accuracy of bagging model on test data set :\",lv_energy_bag.score(lv_x_test,\n",
    "                                                                        lv_y_test))\n",
    "\n",
    "print(\"RMSE value for new random forest model:\",\n",
    "      sqrt(mean_squared_error(lv_y_test,lv_energy_bag.predict(lv_x_test))))"
   ]
  },
  {
   "cell_type": "code",
   "execution_count": 29,
   "metadata": {},
   "outputs": [
    {
     "name": "stdout",
     "output_type": "stream",
     "text": [
      "---------------DECISION TREE MODEL---------------------------\n",
      "Features of the decision tree model for energy data set are: [0.00516619 0.00317379 0.00325146 0.00129588 0.         0.00110543\n",
      " 0.00675325 0.00183113 0.97742287]\n",
      "RMSE value for decision tree model are : 1.9335289496498878\n"
     ]
    }
   ],
   "source": [
    "#Creating a decision tree model\n",
    "\n",
    "print(\"---------------DECISION TREE MODEL---------------------------\")\n",
    "\n",
    "lv_energy_decision_tree = DecisionTreeRegressor()\n",
    "lv_energy_decision_tree.fit(lv_x_train,lv_y_train)\n",
    "\n",
    "print(\"Features of the decision tree model for energy data set are:\",\n",
    "     lv_energy_decision_tree.feature_importances_)\n",
    "\n",
    "print(\"RMSE value for decision tree model are :\",\n",
    "     sqrt(mean_squared_error(lv_y_test,lv_energy_decision_tree.predict(lv_x_test))))"
   ]
  },
  {
   "cell_type": "code",
   "execution_count": 32,
   "metadata": {},
   "outputs": [
    {
     "name": "stdout",
     "output_type": "stream",
     "text": [
      "------------------LINEAR REGRESSION MODEL---------------\n",
      "Accuracy of training dataset is: 0.9574816632841063\n",
      "Accuracy of test dataset is: 0.9604208172794635\n",
      "Coefficient of independent variables:\n",
      " [-1.41592047e+01 -1.02804095e-02 -1.02885990e-02  4.09477870e-06\n",
      "  6.53934316e-01  1.84523890e-01 -2.90376633e+00 -1.44569418e-01\n",
      "  8.90703796e-01]\n",
      "Intercept in the model : 22.8263421598355\n",
      "RMSE value for linear model is : 1.8894446867396306\n"
     ]
    }
   ],
   "source": [
    "#Creating a linear regression model\n",
    "\n",
    "print(\"------------------LINEAR REGRESSION MODEL---------------\")\n",
    "\n",
    "lv_energy_linear = linear_model.LinearRegression()\n",
    "lv_energy_linear.fit(lv_x_train,lv_y_train)\n",
    "\n",
    "print(\"Accuracy of training dataset is:\",lv_energy_linear.score(lv_x_train,lv_y_train))\n",
    "print(\"Accuracy of test dataset is:\",lv_energy_linear.score(lv_x_test,lv_y_test))\n",
    "\n",
    "print('Coefficient of independent variables:\\n',lv_energy_linear.coef_)\n",
    "print(\"Intercept in the model :\",lv_energy_linear.intercept_)\n",
    "\n",
    "print(\"RMSE value for linear model is :\"\n",
    "      ,sqrt(mean_squared_error(lv_y_test,lv_energy_linear.predict(lv_x_test))))"
   ]
  },
  {
   "cell_type": "code",
   "execution_count": 38,
   "metadata": {},
   "outputs": [
    {
     "name": "stdout",
     "output_type": "stream",
     "text": [
      "--------------------KNN Model for Regression-------------------\n",
      "The Least RMSE value using KNN is  1.7074850496578864\n"
     ]
    },
    {
     "data": {
      "text/plain": [
       "<matplotlib.axes._subplots.AxesSubplot at 0x7fb4faa06610>"
      ]
     },
     "execution_count": 38,
     "metadata": {},
     "output_type": "execute_result"
    },
    {
     "data": {
      "image/png": "[encoded data removed]",
      "text/plain": [
       "<Figure size 432x288 with 1 Axes>"
      ]
     },
     "metadata": {
      "needs_background": "light"
     },
     "output_type": "display_data"
    }
   ],
   "source": [
    "#Creating a KNN model for Regression\n",
    "\n",
    "print(\"--------------------KNN Model for Regression-------------------\")\n",
    "\n",
    "\n",
    "lv_energy_knn_list = []\n",
    "\n",
    "for k in range(21):\n",
    "    k = k + 1\n",
    "    lv_energy_knn = KNeighborsRegressor(n_neighbors=k)\n",
    "    lv_energy_knn.fit(lv_x_train,lv_y_train)\n",
    "    lv_knn_rmse = sqrt(mean_squared_error(lv_y_test,lv_energy_knn.predict(lv_x_test)))\n",
    "    lv_energy_knn_list.append(lv_knn_rmse)\n",
    "    \n",
    "\n",
    "print(\"The Least RMSE value using KNN is \",min(lv_energy_knn_list))\n",
    "\n",
    "lv_curve = pd.DataFrame(lv_energy_knn_list)\n",
    "lv_curve.plot()\n",
    "    \n",
    "\n"
   ]
  },
  {
   "cell_type": "code",
   "execution_count": 39,
   "metadata": {},
   "outputs": [
    {
     "name": "stdout",
     "output_type": "stream",
     "text": [
      "------------SVM REGRESSIONS-----------------------\n",
      "RMSE value for Support Vector Machines is : 1.9433600501961545\n"
     ]
    },
    {
     "name": "stderr",
     "output_type": "stream",
     "text": [
      "/opt/anaconda3/lib/python3.7/site-packages/sklearn/svm/_base.py:947: ConvergenceWarning: Liblinear failed to converge, increase the number of iterations.\n",
      "  \"the number of iterations.\", ConvergenceWarning)\n"
     ]
    }
   ],
   "source": [
    "#Support Vector Machines for Regression \n",
    "\n",
    "print(\"------------SVM REGRESSIONS-----------------------\")\n",
    "\n",
    "lv_energy_svr = LinearSVR(random_state=0)\n",
    "lv_energy_svr.fit(lv_x_train,lv_y_train)\n",
    "\n",
    "print(\"RMSE value for Support Vector Machines is :\",\n",
    "     sqrt(mean_squared_error(lv_y_test,lv_energy_svr.predict(lv_x_test))))"
   ]
  },
  {
   "cell_type": "code",
   "execution_count": null,
   "metadata": {},
   "outputs": [],
   "source": []
  }
 ],
 "metadata": {
  "kernelspec": {
   "display_name": "Python 3",
   "language": "python",
   "name": "python3"
  },
  "language_info": {
   "codemirror_mode": {
    "name": "ipython",
    "version": 3
   },
   "file_extension": ".py",
   "mimetype": "text/x-python",
   "name": "python",
   "nbconvert_exporter": "python",
   "pygments_lexer": "ipython3",
   "version": "3.7.6"
  }
 },
 "nbformat": 4,
 "nbformat_minor": 4
}
