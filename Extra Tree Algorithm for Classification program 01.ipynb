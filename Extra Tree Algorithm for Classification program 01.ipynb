{
 "cells": [
  {
   "cell_type": "code",
   "execution_count": 8,
   "metadata": {},
   "outputs": [],
   "source": [
    "#Importing Libraries\n",
    "\n",
    "from sklearn.model_selection         import train_test_split\n",
    "from sklearn.ensemble                import ExtraTreesClassifier,RandomForestClassifier\n",
    "from sklearn.ensemble                import BaggingClassifier\n",
    "from sklearn.tree                    import DecisionTreeClassifier\n",
    "from sklearn.metrics                 import classification_report\n",
    "from sklearn.metrics                 import accuracy_score,confusion_matrix\n",
    "from sklearn.linear_model            import LogisticRegression\n",
    "from sklearn.naive_bayes             import GaussianNB\n",
    "from sklearn.neighbors               import KNeighborsClassifier\n",
    "from sklearn.svm                     import LinearSVC\n",
    "from sklearn.metrics                 import roc_curve,roc_auc_score\n",
    "from sklearn.model_selection         import GridSearchCV\n",
    "\n",
    "import numpy             as np\n",
    "import pandas            as pd\n",
    "import matplotlib.pyplot as plt"
   ]
  },
  {
   "cell_type": "code",
   "execution_count": 2,
   "metadata": {},
   "outputs": [],
   "source": [
    "#Reading data\n",
    "\n",
    "lv_shuttle_df = pd.read_csv('/Users/ujjwalrohit/Dataset for machine Learning/Shuttle.csv')"
   ]
  },
  {
   "cell_type": "code",
   "execution_count": 3,
   "metadata": {},
   "outputs": [
    {
     "name": "stdout",
     "output_type": "stream",
     "text": [
      "Dimension of the data set: (43500, 11)\n",
      "Names of the variables in the data set are :\n",
      " Index(['Id', '0', '1', '2', '3', '4', '5', '6', '7', '8', 'Category'], dtype='object')\n",
      "<class 'pandas.core.frame.DataFrame'>\n",
      "RangeIndex: 43500 entries, 0 to 43499\n",
      "Data columns (total 11 columns):\n",
      " #   Column    Non-Null Count  Dtype\n",
      "---  ------    --------------  -----\n",
      " 0   Id        43500 non-null  int64\n",
      " 1   0         43500 non-null  int64\n",
      " 2   1         43500 non-null  int64\n",
      " 3   2         43500 non-null  int64\n",
      " 4   3         43500 non-null  int64\n",
      " 5   4         43500 non-null  int64\n",
      " 6   5         43500 non-null  int64\n",
      " 7   6         43500 non-null  int64\n",
      " 8   7         43500 non-null  int64\n",
      " 9   8         43500 non-null  int64\n",
      " 10  Category  43500 non-null  int64\n",
      "dtypes: int64(11)\n",
      "memory usage: 3.7 MB\n",
      "The information of the data set is :\n",
      " None\n"
     ]
    }
   ],
   "source": [
    "#Displaying the characteristics of the shuttle_scale data set\n",
    "\n",
    "print(\"Dimension of the data set:\",lv_shuttle_df.shape)\n",
    "print(\"Names of the variables in the data set are :\\n\",lv_shuttle_df.columns)\n",
    "print(\"The information of the data set is :\\n\",lv_shuttle_df.info())"
   ]
  },
  {
   "cell_type": "code",
   "execution_count": 4,
   "metadata": {},
   "outputs": [],
   "source": [
    "#Using a random seed function for generating the same data set\n",
    "\n",
    "np.random.seed(3000)\n",
    "\n",
    "lv_training,lv_test = train_test_split(lv_shuttle_df,test_size = 0.3)\n",
    "\n",
    "lv_x_train = lv_training.drop(['Category'],axis = 1)\n",
    "lv_y_train = lv_training['Category']\n",
    "\n",
    "lv_x_test = lv_test.drop(['Category'],axis = 1)\n",
    "lv_y_test = lv_test['Category']\n"
   ]
  },
  {
   "cell_type": "code",
   "execution_count": 7,
   "metadata": {},
   "outputs": [
    {
     "name": "stdout",
     "output_type": "stream",
     "text": [
      "---------------------EXTRA TREE MODEL-------------------\n",
      "Accuracy of extra tree model on training set: 1.0\n",
      "Accuracy of extra tree model on test data set: 0.9991570881226054\n",
      "Accuracy of extra trees model on test data set: 0.9991570881226054\n",
      "Results of confusion matrix :\n",
      " [[10299     0     0     0     0     0]\n",
      " [    3     8     0     0     0     0]\n",
      " [    4     0    39     1     0     0]\n",
      " [    0     0     0  1971     0     0]\n",
      " [    2     0     0     0   719     0]\n",
      " [    0     0     1     0     0     3]]\n"
     ]
    }
   ],
   "source": [
    "#Creating extra tree model\n",
    "\n",
    "print(\"---------------------EXTRA TREE MODEL-------------------\")\n",
    "\n",
    "lv_shuttle_extra_tree = ExtraTreesClassifier()\n",
    "lv_shuttle_extra_tree.fit(lv_x_train,lv_y_train)\n",
    "\n",
    "print(\"Accuracy of extra tree model on training set:\",\n",
    "     lv_shuttle_extra_tree.score(lv_x_train,lv_y_train))\n",
    "\n",
    "print(\"Accuracy of extra tree model on test data set:\",\n",
    "     lv_shuttle_extra_tree.score(lv_x_test,lv_y_test))\n",
    "\n",
    "print(\"Accuracy of extra trees model on test data set:\",\n",
    "     accuracy_score(lv_y_test,lv_shuttle_extra_tree.predict(lv_x_test)))\n",
    "\n",
    "print(\"Results of confusion matrix :\\n\",\n",
    "     confusion_matrix(lv_y_test,lv_shuttle_extra_tree.predict(lv_x_test)))\n",
    "\n"
   ]
  },
  {
   "cell_type": "code",
   "execution_count": 9,
   "metadata": {},
   "outputs": [
    {
     "name": "stdout",
     "output_type": "stream",
     "text": [
      "----------------EXTRA TREE MODEL WITH BEST PARAMETERS------------------\n",
      "Best parameters:\n",
      " {'criterion': 'gini', 'max_depth': 8, 'max_features': 'log2', 'min_samples_leaf': 1}\n"
     ]
    }
   ],
   "source": [
    "#Creating a new extra trees model with grid search\n",
    "\n",
    "print(\"----------------EXTRA TREE MODEL WITH BEST PARAMETERS------------------\")\n",
    "\n",
    "lv_param_grid = { 'max_features' :['auto','sqrt','log2'],\n",
    "                  'max_depth'    :[4,6,8],\n",
    "                  'min_samples_leaf' :[0.5,1],\n",
    "                  'criterion' :['gini','entropy']\n",
    "}\n",
    "\n",
    "lv_shuttle_extra_tree_grid = ExtraTreesClassifier()\n",
    "\n",
    "lv_shuttle_extra_tree_cv = GridSearchCV(estimator= lv_shuttle_extra_tree_grid,\n",
    "                                       param_grid= lv_param_grid,\n",
    "                                       cv = 5)\n",
    "lv_shuttle_extra_tree_cv.fit(lv_x_train,lv_y_train)\n",
    "\n",
    "print(\"Best parameters:\\n\",lv_shuttle_extra_tree_cv.best_params_)\n"
   ]
  },
  {
   "cell_type": "code",
   "execution_count": 10,
   "metadata": {},
   "outputs": [],
   "source": [
    "# Creating the model with best scores\n",
    "\n",
    "lv_shuttle_extra_tree_best = ExtraTreesClassifier(\n",
    "max_depth= lv_shuttle_extra_tree_cv.fit(lv_x_train,lv_y_train).best_params_['max_depth'],\n",
    "max_features= lv_shuttle_extra_tree_cv.fit(lv_x_train,lv_y_train).best_params_['max_features'] ,\n",
    "criterion= lv_shuttle_extra_tree_cv.fit(lv_x_train,lv_y_train).best_params_['criterion'],\n",
    "min_samples_leaf=lv_shuttle_extra_tree_cv.fit(lv_x_train,lv_y_train).best_params_['min_samples_leaf']\n",
    "\n",
    ")"
   ]
  },
  {
   "cell_type": "code",
   "execution_count": 11,
   "metadata": {},
   "outputs": [
    {
     "name": "stdout",
     "output_type": "stream",
     "text": [
      "Accuracy on training set with best parameters: 0.969983579638752\n"
     ]
    }
   ],
   "source": [
    "#Evaluating the model considering best parameters\n",
    "\n",
    "lv_shuttle_extra_tree_best.fit(lv_x_train,lv_y_train)\n",
    "\n",
    "print(\"Accuracy on training set with best parameters:\",\n",
    "      lv_shuttle_extra_tree_best.score(lv_x_train,lv_y_train))\n",
    "     "
   ]
  },
  {
   "cell_type": "code",
   "execution_count": 12,
   "metadata": {},
   "outputs": [
    {
     "name": "stdout",
     "output_type": "stream",
     "text": [
      "Classification Report:\n",
      "               precision    recall  f1-score   support\n",
      "\n",
      "           1       0.97      1.00      0.98     10299\n",
      "           2       1.00      0.18      0.31        11\n",
      "           3       1.00      0.16      0.27        44\n",
      "           4       0.99      0.83      0.91      1971\n",
      "           5       1.00      1.00      1.00       721\n",
      "           7       0.00      0.00      0.00         4\n",
      "\n",
      "    accuracy                           0.97     13050\n",
      "   macro avg       0.83      0.53      0.58     13050\n",
      "weighted avg       0.97      0.97      0.97     13050\n",
      "\n"
     ]
    },
    {
     "name": "stderr",
     "output_type": "stream",
     "text": [
      "/opt/anaconda3/lib/python3.7/site-packages/sklearn/metrics/_classification.py:1272: UndefinedMetricWarning: Precision and F-score are ill-defined and being set to 0.0 in labels with no predicted samples. Use `zero_division` parameter to control this behavior.\n",
      "  _warn_prf(average, modifier, msg_start, len(result))\n"
     ]
    }
   ],
   "source": [
    "#Predicting the new model\n",
    "\n",
    "print(\"Classification Report:\\n\",\n",
    "     classification_report(lv_y_test,lv_shuttle_extra_tree_best.predict(lv_x_test)))"
   ]
  },
  {
   "cell_type": "code",
   "execution_count": 13,
   "metadata": {},
   "outputs": [
    {
     "name": "stdout",
     "output_type": "stream",
     "text": [
      "Accuracy of new extra tree model : 0.9706513409961686\n",
      "Results of confusion matrix :\n",
      " [[10299     0     0     0     0     0]\n",
      " [    7     2     0     2     0     0]\n",
      " [   28     0     7     7     2     0]\n",
      " [  331     0     0  1640     0     0]\n",
      " [    2     0     0     0   719     0]\n",
      " [    4     0     0     0     0     0]]\n"
     ]
    }
   ],
   "source": [
    "#Determining accuracy of the new model through confusion matrix\n",
    "\n",
    "print(\"Accuracy of new extra tree model :\",\n",
    "     accuracy_score(lv_y_test,lv_shuttle_extra_tree_best.predict(lv_x_test)))\n",
    "\n",
    "print(\"Results of confusion matrix :\\n\",\n",
    "     confusion_matrix(lv_y_test,lv_shuttle_extra_tree_best.predict(lv_x_test)))"
   ]
  },
  {
   "cell_type": "code",
   "execution_count": 14,
   "metadata": {},
   "outputs": [
    {
     "name": "stdout",
     "output_type": "stream",
     "text": [
      "----------------RANDOM FOREST MODEL---------------\n",
      "Accuracy of Random Forest model on training set 1.0\n",
      "Accuracy of Random forest model on test_set: 0.9994636015325671\n",
      "Results of confusion matrix:\n",
      " [[10299     0     0     0     0     0]\n",
      " [    3     8     0     0     0     0]\n",
      " [    0     0    44     0     0     0]\n",
      " [    0     0     0  1971     0     0]\n",
      " [    2     0     0     0   719     0]\n",
      " [    0     0     2     0     0     2]]\n"
     ]
    }
   ],
   "source": [
    "# Creating a random forest model\n",
    "\n",
    "print(\"----------------RANDOM FOREST MODEL---------------\")\n",
    "\n",
    "lv_shuttle_forest = RandomForestClassifier(random_state = 0)\n",
    "lv_shuttle_forest.fit(lv_x_train,lv_y_train)\n",
    "\n",
    "print(\"Accuracy of Random Forest model on training set\",\n",
    "     lv_shuttle_forest.score(lv_x_train,lv_y_train))\n",
    "\n",
    "print(\"Accuracy of Random forest model on test_set:\",\n",
    "     accuracy_score(lv_y_test,lv_shuttle_forest.predict(lv_x_test)))\n",
    "\n",
    "print(\"Results of confusion matrix:\\n\",\n",
    "     confusion_matrix(lv_y_test,lv_shuttle_forest.predict(lv_x_test)))"
   ]
  },
  {
   "cell_type": "code",
   "execution_count": 17,
   "metadata": {},
   "outputs": [
    {
     "name": "stdout",
     "output_type": "stream",
     "text": [
      "-------------------RANDOM FOREST MODEL WITH BEST PARAMETERS--------------\n",
      "Best Parameters:\n",
      " {'criterion': 'gini', 'max_features': 'sqrt'}\n",
      "Accuracy of new forest model : 0.9994636015325671\n",
      "Classification Report:\n",
      "               precision    recall  f1-score   support\n",
      "\n",
      "           1       1.00      1.00      1.00     10299\n",
      "           2       1.00      0.73      0.84        11\n",
      "           3       0.96      1.00      0.98        44\n",
      "           4       1.00      1.00      1.00      1971\n",
      "           5       1.00      1.00      1.00       721\n",
      "           7       1.00      0.50      0.67         4\n",
      "\n",
      "    accuracy                           1.00     13050\n",
      "   macro avg       0.99      0.87      0.91     13050\n",
      "weighted avg       1.00      1.00      1.00     13050\n",
      "\n"
     ]
    }
   ],
   "source": [
    "#Creating a new random forest model with grid search\n",
    "\n",
    "print(\"-------------------RANDOM FOREST MODEL WITH BEST PARAMETERS--------------\")\n",
    "\n",
    "lv_param_grid_tree = {'max_features':['auto','sqrt','log2'],\n",
    "                      'criterion':['gini','entropy']}\n",
    "\n",
    "lv_shuttle_forest_grid = RandomForestClassifier()\n",
    "\n",
    "lv_shuttle_forest_cv = GridSearchCV(estimator=lv_shuttle_forest_grid,\n",
    "                                   param_grid=lv_param_grid_tree,\n",
    "                                   cv = 5 )\n",
    "lv_shuttle_forest_cv.fit(lv_x_train,lv_y_train)\n",
    "\n",
    "lv_shuttle_forest_best = RandomForestClassifier(\n",
    "max_features= lv_shuttle_forest_cv.fit(lv_x_train,lv_y_train).best_params_['max_features'],\n",
    "criterion= lv_shuttle_forest_cv.fit(lv_x_train,lv_y_train).best_params_['criterion'])\n",
    "\n",
    "lv_shuttle_forest_best.fit(lv_x_train,lv_y_train)\n",
    "\n",
    "print(\"Best Parameters:\\n\",lv_shuttle_forest_cv.best_params_)\n",
    "\n",
    "print(\"Accuracy of new forest model :\",\n",
    "      accuracy_score(lv_y_test,lv_shuttle_forest_best.predict(lv_x_test)))\n",
    "\n",
    "print(\"Classification Report:\\n\",\n",
    "     classification_report(lv_y_test,lv_shuttle_forest_best.predict(lv_x_test)))"
   ]
  },
  {
   "cell_type": "code",
   "execution_count": 22,
   "metadata": {},
   "outputs": [
    {
     "name": "stdout",
     "output_type": "stream",
     "text": [
      "-----------------------------BAGGING MODEL--------------------\n",
      "Accuracy of bagging model on training set: 0.9999671592775041\n",
      "Accuracy of bagging model on test set: 0.9992337164750957\n",
      "Results of confusion matrix :\n",
      " [[10299     0     0     0     0     0]\n",
      " [    4     7     0     0     0     0]\n",
      " [    0     0    44     0     0     0]\n",
      " [    4     0     0  1967     0     0]\n",
      " [    2     0     0     0   719     0]\n",
      " [    0     0     0     0     0     4]]\n"
     ]
    }
   ],
   "source": [
    "#Creating a bagging model\n",
    "\n",
    "print(\"-----------------------------BAGGING MODEL--------------------\")\n",
    "\n",
    "lv_shuttle_bag = BaggingClassifier(base_estimator=None,\n",
    "                                  n_estimators=10,\n",
    "                                  max_samples = 1.0,\n",
    "                                  max_features=1.0,\n",
    "                                  bootstrap=True )\n",
    "\n",
    "lv_shuttle_bag.fit(lv_x_train,lv_y_train)\n",
    "\n",
    "print(\"Accuracy of bagging model on training set:\",\n",
    "      lv_shuttle_bag.score(lv_x_train,lv_y_train))\n",
    "\n",
    "print(\"Accuracy of bagging model on test set:\",\n",
    "     accuracy_score(lv_y_test,lv_shuttle_bag.predict(lv_x_test)))\n",
    "\n",
    "\n",
    "print(\"Results of confusion matrix :\\n\",\n",
    "     confusion_matrix(lv_y_test,lv_shuttle_bag.predict(lv_x_test)))\n",
    "\n"
   ]
  },
  {
   "cell_type": "code",
   "execution_count": 23,
   "metadata": {},
   "outputs": [
    {
     "name": "stdout",
     "output_type": "stream",
     "text": [
      "--------------DECISION TREE MODEL--------------------\n",
      "Accuracy of decision tree model on training set: 1.0\n",
      "Accuracy of decision tree model on test set: 0.9991570881226054\n",
      "Results of confusion matrix:\n",
      " [[10299     0     0     0     0     0]\n",
      " [    2     9     0     0     0     0]\n",
      " [    3     0    41     0     0     0]\n",
      " [    4     0     0  1967     0     0]\n",
      " [    2     0     0     0   719     0]\n",
      " [    0     0     0     0     0     4]]\n"
     ]
    }
   ],
   "source": [
    "#Creating a decision tree model\n",
    "\n",
    "print(\"--------------DECISION TREE MODEL--------------------\")\n",
    "\n",
    "lv_shuttle_tree = DecisionTreeClassifier(random_state=0)\n",
    "lv_shuttle_tree.fit(lv_x_train,lv_y_train)\n",
    "\n",
    "print(\"Accuracy of decision tree model on training set:\",\n",
    "     lv_shuttle_tree.score(lv_x_train,lv_y_train))\n",
    "\n",
    "print(\"Accuracy of decision tree model on test set:\",\n",
    "     accuracy_score(lv_y_test,lv_shuttle_tree.predict(lv_x_test)))\n",
    "\n",
    "print(\"Results of confusion matrix:\\n\",\n",
    "     confusion_matrix(lv_y_test,lv_shuttle_tree.predict(lv_x_test)))"
   ]
  },
  {
   "cell_type": "code",
   "execution_count": 24,
   "metadata": {},
   "outputs": [
    {
     "name": "stdout",
     "output_type": "stream",
     "text": [
      "---------------LOGISTIC REGRESSION MODEL---------------\n",
      "The accuracy of logistic regression is : 0.8481226053639846\n",
      "The Confusion matrix is :\n",
      " [[10157     0     0   142     0     0]\n",
      " [    5     0     0     5     1     0]\n",
      " [   26     0     0    18     0     0]\n",
      " [ 1157     0     0   814     0     0]\n",
      " [  202     0     0   422    97     0]\n",
      " [    4     0     0     0     0     0]]\n",
      "The classification report is :\n",
      "               precision    recall  f1-score   support\n",
      "\n",
      "           1       0.88      0.99      0.93     10299\n",
      "           2       0.00      0.00      0.00        11\n",
      "           3       0.00      0.00      0.00        44\n",
      "           4       0.58      0.41      0.48      1971\n",
      "           5       0.99      0.13      0.24       721\n",
      "           7       0.00      0.00      0.00         4\n",
      "\n",
      "    accuracy                           0.85     13050\n",
      "   macro avg       0.41      0.26      0.27     13050\n",
      "weighted avg       0.84      0.85      0.82     13050\n",
      "\n"
     ]
    },
    {
     "name": "stderr",
     "output_type": "stream",
     "text": [
      "/opt/anaconda3/lib/python3.7/site-packages/sklearn/linear_model/_logistic.py:940: ConvergenceWarning: lbfgs failed to converge (status=1):\n",
      "STOP: TOTAL NO. of ITERATIONS REACHED LIMIT.\n",
      "\n",
      "Increase the number of iterations (max_iter) or scale the data as shown in:\n",
      "    https://scikit-learn.org/stable/modules/preprocessing.html\n",
      "Please also refer to the documentation for alternative solver options:\n",
      "    https://scikit-learn.org/stable/modules/linear_model.html#logistic-regression\n",
      "  extra_warning_msg=_LOGISTIC_SOLVER_CONVERGENCE_MSG)\n",
      "/opt/anaconda3/lib/python3.7/site-packages/sklearn/metrics/_classification.py:1272: UndefinedMetricWarning: Precision and F-score are ill-defined and being set to 0.0 in labels with no predicted samples. Use `zero_division` parameter to control this behavior.\n",
      "  _warn_prf(average, modifier, msg_start, len(result))\n"
     ]
    }
   ],
   "source": [
    "#Creating a logistic regression model\n",
    "\n",
    "print(\"---------------LOGISTIC REGRESSION MODEL---------------\")\n",
    "\n",
    "lv_shuttle_log = LogisticRegression()\n",
    "lv_shuttle_log.fit(lv_x_train,lv_y_train)\n",
    "\n",
    "print(\"The accuracy of logistic regression is :\",\n",
    "     accuracy_score(lv_y_test,lv_shuttle_log.predict(lv_x_test)))\n",
    "\n",
    "print(\"The Confusion matrix is :\\n\",\n",
    "     confusion_matrix(lv_y_test,lv_shuttle_log.predict(lv_x_test)))\n",
    "\n",
    "print(\"The classification report is :\\n\",\n",
    "     classification_report(lv_y_test,lv_shuttle_log.predict(lv_x_test)))"
   ]
  },
  {
   "cell_type": "code",
   "execution_count": 25,
   "metadata": {},
   "outputs": [
    {
     "name": "stdout",
     "output_type": "stream",
     "text": [
      "------------NAIVE BAYES MODEL-------------------\n",
      "The accuracy of naive Bayes model is : 0.903448275862069\n",
      "The confusion matrix is :\n",
      " [[9133  164  204  605    1    2  190]\n",
      " [   5    6    0    0    0    0    0]\n",
      " [  10    0   27    0    2    0    5]\n",
      " [   7   36    1 1925    1    1    0]\n",
      " [   0   24    0    0  695    2    0]\n",
      " [   0    0    0    0    0    0    0]\n",
      " [   0    0    0    0    0    0    4]]\n",
      "The Classification Report is :\n",
      "               precision    recall  f1-score   support\n",
      "\n",
      "           1       1.00      0.89      0.94     10299\n",
      "           2       0.03      0.55      0.05        11\n",
      "           3       0.12      0.61      0.20        44\n",
      "           4       0.76      0.98      0.86      1971\n",
      "           5       0.99      0.96      0.98       721\n",
      "           6       0.00      0.00      0.00         0\n",
      "           7       0.02      1.00      0.04         4\n",
      "\n",
      "    accuracy                           0.90     13050\n",
      "   macro avg       0.42      0.71      0.44     13050\n",
      "weighted avg       0.96      0.90      0.92     13050\n",
      "\n"
     ]
    },
    {
     "name": "stderr",
     "output_type": "stream",
     "text": [
      "/opt/anaconda3/lib/python3.7/site-packages/sklearn/metrics/_classification.py:1272: UndefinedMetricWarning: Recall and F-score are ill-defined and being set to 0.0 in labels with no true samples. Use `zero_division` parameter to control this behavior.\n",
      "  _warn_prf(average, modifier, msg_start, len(result))\n"
     ]
    }
   ],
   "source": [
    "#Creating a Naive Bayes model\n",
    "\n",
    "print(\"------------NAIVE BAYES MODEL-------------------\")\n",
    "\n",
    "lv_shuttle_naive = GaussianNB()\n",
    "lv_shuttle_naive.fit(lv_x_train,lv_y_train)\n",
    "\n",
    "print(\"The accuracy of naive Bayes model is :\",\n",
    "     accuracy_score(lv_y_test,lv_shuttle_naive.predict(lv_x_test)))\n",
    "\n",
    "print(\"The confusion matrix is :\\n\",\n",
    "     confusion_matrix(lv_y_test,lv_shuttle_naive.predict(lv_x_test)))\n",
    "\n",
    "print(\"The Classification Report is :\\n\",\n",
    "     classification_report(lv_y_test,lv_shuttle_naive.predict(lv_x_test)))"
   ]
  },
  {
   "cell_type": "code",
   "execution_count": 26,
   "metadata": {},
   "outputs": [
    {
     "name": "stdout",
     "output_type": "stream",
     "text": [
      "---------------KNN MODEL----------------\n",
      "Maximum accuracy using KNN model is : 0.9184674329501916\n"
     ]
    },
    {
     "data": {
      "text/plain": [
       "<matplotlib.axes._subplots.AxesSubplot at 0x7fd11eaef4d0>"
      ]
     },
     "execution_count": 26,
     "metadata": {},
     "output_type": "execute_result"
    },
    {
     "data": {
      "image/png": "[encoded data removed]",
      "text/plain": [
       "<Figure size 432x288 with 1 Axes>"
      ]
     },
     "metadata": {
      "needs_background": "light"
     },
     "output_type": "display_data"
    }
   ],
   "source": [
    "#Creating a KNN MODEL\n",
    "\n",
    "print(\"---------------KNN MODEL----------------\")\n",
    "\n",
    "lv_knn_accuracy_list = []\n",
    "\n",
    "for k in range(51):\n",
    "    k = k + 1\n",
    "    lv_shuttle_knn = KNeighborsClassifier(n_neighbors=k)\n",
    "    lv_shuttle_knn.fit(lv_x_train,lv_y_train)\n",
    "    lv_knn_accuracy_list.append(accuracy_score(lv_y_test,lv_shuttle_knn.predict(lv_x_test)))\n",
    "    \n",
    "    \n",
    "print(\"Maximum accuracy using KNN model is :\",max(lv_knn_accuracy_list))\n",
    "\n",
    "lv_curve = pd.DataFrame(lv_knn_accuracy_list)\n",
    "lv_curve.plot()\n",
    "    "
   ]
  },
  {
   "cell_type": "code",
   "execution_count": 27,
   "metadata": {},
   "outputs": [
    {
     "name": "stdout",
     "output_type": "stream",
     "text": [
      "--------------SUPPORT VECTOR MACHINES MODEL---------------\n",
      "Accuracy of support vector machine model : 0.8711877394636015\n",
      "The confusion matrix :\n",
      " [[10264     0     0    35     0     0]\n",
      " [    7     0     0     3     0     1]\n",
      " [   32     0     0     8     4     0]\n",
      " [ 1351     0     0   496     0   124]\n",
      " [    2     0     0   110   609     0]\n",
      " [    4     0     0     0     0     0]]\n",
      "The Classfication Report :\n",
      "               precision    recall  f1-score   support\n",
      "\n",
      "           1       0.88      1.00      0.93     10299\n",
      "           2       0.00      0.00      0.00        11\n",
      "           3       0.00      0.00      0.00        44\n",
      "           4       0.76      0.25      0.38      1971\n",
      "           5       0.99      0.84      0.91       721\n",
      "           7       0.00      0.00      0.00         4\n",
      "\n",
      "    accuracy                           0.87     13050\n",
      "   macro avg       0.44      0.35      0.37     13050\n",
      "weighted avg       0.86      0.87      0.85     13050\n",
      "\n"
     ]
    },
    {
     "name": "stderr",
     "output_type": "stream",
     "text": [
      "/opt/anaconda3/lib/python3.7/site-packages/sklearn/svm/_base.py:947: ConvergenceWarning: Liblinear failed to converge, increase the number of iterations.\n",
      "  \"the number of iterations.\", ConvergenceWarning)\n",
      "/opt/anaconda3/lib/python3.7/site-packages/sklearn/metrics/_classification.py:1272: UndefinedMetricWarning: Precision and F-score are ill-defined and being set to 0.0 in labels with no predicted samples. Use `zero_division` parameter to control this behavior.\n",
      "  _warn_prf(average, modifier, msg_start, len(result))\n"
     ]
    }
   ],
   "source": [
    "#Creating Support Vector Machines \n",
    "\n",
    "print(\"--------------SUPPORT VECTOR MACHINES MODEL---------------\")\n",
    "\n",
    "lv_shuttle_svm = LinearSVC(random_state=0)\n",
    "lv_shuttle_svm.fit(lv_x_train,lv_y_train)\n",
    "\n",
    "print(\"Accuracy of support vector machine model :\",\n",
    "     accuracy_score(lv_y_test,lv_shuttle_svm.predict(lv_x_test)))\n",
    "\n",
    "print(\"The confusion matrix :\\n\",\n",
    "     confusion_matrix(lv_y_test,lv_shuttle_svm.predict(lv_x_test)))\n",
    "\n",
    "print(\"The Classfication Report :\\n\",\n",
    "     classification_report(lv_y_test,lv_shuttle_svm.predict(lv_x_test)))"
   ]
  },
  {
   "cell_type": "code",
   "execution_count": null,
   "metadata": {},
   "outputs": [],
   "source": []
  }
 ],
 "metadata": {
  "kernelspec": {
   "display_name": "Python 3",
   "language": "python",
   "name": "python3"
  },
  "language_info": {
   "codemirror_mode": {
    "name": "ipython",
    "version": 3
   },
   "file_extension": ".py",
   "mimetype": "text/x-python",
   "name": "python",
   "nbconvert_exporter": "python",
   "pygments_lexer": "ipython3",
   "version": "3.7.6"
  }
 },
 "nbformat": 4,
 "nbformat_minor": 4
}
