{
 "cells": [
  {
   "cell_type": "code",
   "execution_count": 116,
   "metadata": {},
   "outputs": [],
   "source": [
    "#Importing necessary libraries\n",
    "\n",
    "from sklearn.ensemble         import BaggingRegressor\n",
    "from sklearn.metrics          import mean_squared_error\n",
    "from sklearn.model_selection  import train_test_split\n",
    "from sklearn.model_selection  import GridSearchCV\n",
    "from math                     import sqrt\n",
    "\n",
    "import numpy             as np\n",
    "import pandas            as pd\n",
    "import matplotlib.pyplot as plt"
   ]
  },
  {
   "cell_type": "code",
   "execution_count": 117,
   "metadata": {},
   "outputs": [],
   "source": [
    "#Reading Dataset\n",
    "\n",
    "lv_cars_df = pd.read_csv('/Users/ujjwalrohit/Dataset for machine Learning/auto-mpg.csv.xls')\n"
   ]
  },
  {
   "cell_type": "code",
   "execution_count": 118,
   "metadata": {},
   "outputs": [
    {
     "name": "stdout",
     "output_type": "stream",
     "text": [
      "Dimension of the data set (398, 9)\n",
      "Names of the variables in the data set are:\n",
      " Index(['mpg', 'cylinders', 'displacement', 'horsepower', 'weight',\n",
      "       'acceleration', 'model year', 'origin', 'car name'],\n",
      "      dtype='object')\n",
      "<class 'pandas.core.frame.DataFrame'>\n",
      "RangeIndex: 398 entries, 0 to 397\n",
      "Data columns (total 9 columns):\n",
      " #   Column        Non-Null Count  Dtype  \n",
      "---  ------        --------------  -----  \n",
      " 0   mpg           398 non-null    float64\n",
      " 1   cylinders     398 non-null    int64  \n",
      " 2   displacement  398 non-null    float64\n",
      " 3   horsepower    398 non-null    object \n",
      " 4   weight        398 non-null    int64  \n",
      " 5   acceleration  398 non-null    float64\n",
      " 6   model year    398 non-null    int64  \n",
      " 7   origin        398 non-null    int64  \n",
      " 8   car name      398 non-null    object \n",
      "dtypes: float64(3), int64(4), object(2)\n",
      "memory usage: 28.1+ KB\n",
      "The information of the data set is:\n",
      " None\n"
     ]
    }
   ],
   "source": [
    "#Displaying the characteristics of the car data set\n",
    "\n",
    "print(\"Dimension of the data set\",lv_cars_df.shape)\n",
    "print(\"Names of the variables in the data set are:\\n\",lv_cars_df.columns)\n",
    "print(\"The information of the data set is:\\n\",lv_cars_df.info())"
   ]
  },
  {
   "cell_type": "code",
   "execution_count": 119,
   "metadata": {},
   "outputs": [
    {
     "name": "stdout",
     "output_type": "stream",
     "text": [
      "    mpg  cylinders  displacement  weight  acceleration\n",
      "0  18.0          8         307.0    3504          12.0\n",
      "1  15.0          8         350.0    3693          11.5\n",
      "2  18.0          8         318.0    3436          11.0\n",
      "3  16.0          8         304.0    3433          12.0\n",
      "4  17.0          8         302.0    3449          10.5\n"
     ]
    }
   ],
   "source": [
    "#Drop the car name , model yearin and Originthe dataset\n",
    "\n",
    "\n",
    "lv_cars_df = lv_cars_df.drop(['model year','car name','origin','horsepower'],axis = 1)\n",
    "\n",
    "\n",
    "print(lv_cars_df.head())"
   ]
  },
  {
   "cell_type": "code",
   "execution_count": 120,
   "metadata": {},
   "outputs": [
    {
     "name": "stdout",
     "output_type": "stream",
     "text": [
      "The Null values in the data set are:\n",
      " mpg             0\n",
      "cylinders       0\n",
      "displacement    0\n",
      "weight          0\n",
      "acceleration    0\n",
      "dtype: int64\n",
      "The NA values in the data set are:\n",
      " mpg             0\n",
      "cylinders       0\n",
      "displacement    0\n",
      "weight          0\n",
      "acceleration    0\n",
      "dtype: int64\n"
     ]
    }
   ],
   "source": [
    "#Check null values and N/A in the data set\n",
    "\n",
    "print(\"The Null values in the data set are:\\n\",lv_cars_df.isnull().sum())\n",
    "print(\"The NA values in the data set are:\\n\",lv_cars_df.isna().sum())"
   ]
  },
  {
   "cell_type": "code",
   "execution_count": 121,
   "metadata": {},
   "outputs": [],
   "source": [
    "#Using a random seed function for generating the same data set\n",
    "\n",
    "np.random.seed(3000)\n",
    "\n",
    "lv_training,lv_test = train_test_split(lv_cars_df,test_size = 0.3,random_state = 0)\n",
    "\n",
    "lv_x_train = lv_training.drop(['mpg'],axis = 1)\n",
    "lv_y_train = lv_training['mpg']\n",
    "\n",
    "lv_x_test = lv_test.drop(['mpg'],axis = 1)\n",
    "lv_y_test = lv_test['mpg']"
   ]
  },
  {
   "cell_type": "code",
   "execution_count": 122,
   "metadata": {},
   "outputs": [
    {
     "name": "stdout",
     "output_type": "stream",
     "text": [
      "<class 'pandas.core.frame.DataFrame'>\n",
      "Int64Index: 278 entries, 230 to 172\n",
      "Data columns (total 4 columns):\n",
      " #   Column        Non-Null Count  Dtype  \n",
      "---  ------        --------------  -----  \n",
      " 0   cylinders     278 non-null    int64  \n",
      " 1   displacement  278 non-null    float64\n",
      " 2   weight        278 non-null    int64  \n",
      " 3   acceleration  278 non-null    float64\n",
      "dtypes: float64(2), int64(2)\n",
      "memory usage: 10.9 KB\n",
      "None\n"
     ]
    }
   ],
   "source": [
    "\n",
    "print(lv_x_train.info())"
   ]
  },
  {
   "cell_type": "code",
   "execution_count": 123,
   "metadata": {},
   "outputs": [
    {
     "name": "stdout",
     "output_type": "stream",
     "text": [
      "------------------------BAGGING MODEL-------------------\n"
     ]
    },
    {
     "data": {
      "text/plain": [
       "BaggingRegressor(base_estimator=None, bootstrap=True, bootstrap_features=False,\n",
       "                 max_features=1.0, max_samples=1.0, n_estimators=10,\n",
       "                 n_jobs=None, oob_score=False, random_state=0, verbose=0,\n",
       "                 warm_start=False)"
      ]
     },
     "execution_count": 123,
     "metadata": {},
     "output_type": "execute_result"
    }
   ],
   "source": [
    "#Creating a bagging model\n",
    "\n",
    "print(\"------------------------BAGGING MODEL-------------------\")\n",
    "\n",
    "lv_car_bag = BaggingRegressor(random_state=0)\n",
    "lv_car_bag.fit(lv_x_train,lv_y_train)"
   ]
  },
  {
   "cell_type": "code",
   "execution_count": 124,
   "metadata": {},
   "outputs": [
    {
     "name": "stdout",
     "output_type": "stream",
     "text": [
      "RMSE value for bagging model : 4.347631179734545\n"
     ]
    }
   ],
   "source": [
    "#Calculate RMSE for the model\n",
    "\n",
    "print('RMSE value for bagging model :',sqrt(mean_squared_error(lv_y_test,lv_car_bag.predict(lv_x_test))\n",
    "                                           ))"
   ]
  },
  {
   "cell_type": "code",
   "execution_count": 125,
   "metadata": {},
   "outputs": [
    {
     "name": "stdout",
     "output_type": "stream",
     "text": [
      "---------------BAGGING MODEL WITH BEST PARAMETERS----------------\n",
      "Best Parameters:\n",
      " {'max_features': 0.7, 'max_samples': 0.8, 'n_estimators': 20}\n"
     ]
    }
   ],
   "source": [
    "# Creating a new bagging model with best parameters\n",
    "\n",
    "print(\"---------------BAGGING MODEL WITH BEST PARAMETERS----------------\")\n",
    "\n",
    "lv_grid = {'n_estimators' : [10,20,30],\n",
    "          'max_samples' : [0.5,0.8,1.0],\n",
    "          'max_features' : [0.5,0.7,1.0]}\n",
    "\n",
    "lv_car_bag_grid = BaggingRegressor()\n",
    "\n",
    "lv_car_bag_cv = GridSearchCV(estimator=lv_car_bag_grid,param_grid=lv_grid,cv=5)\n",
    "lv_car_bag_cv.fit(lv_x_train,lv_y_train)\n",
    "\n",
    "print(\"Best Parameters:\\n\",lv_car_bag_cv.best_params_)"
   ]
  },
  {
   "cell_type": "code",
   "execution_count": 126,
   "metadata": {},
   "outputs": [],
   "source": [
    "#Creating the model with best score\n",
    "\n",
    "lv_car_best = BaggingRegressor(n_estimators= lv_car_bag_cv.best_params_['n_estimators'],\n",
    "                              max_samples=lv_car_bag_cv.best_params_['max_samples'],\n",
    "                              max_features=lv_car_bag_cv.best_params_['max_features'])"
   ]
  },
  {
   "cell_type": "code",
   "execution_count": 127,
   "metadata": {},
   "outputs": [
    {
     "name": "stdout",
     "output_type": "stream",
     "text": [
      "Accuracy on training set with best parameters: 0.9072093705983153\n",
      "Accuracy on test data set with best parameters: 0.7593011078871925\n"
     ]
    }
   ],
   "source": [
    "#Evaluating the model considering best parameters\n",
    "\n",
    "lv_car_best.fit(lv_x_train,lv_y_train)\n",
    "\n",
    "print(\"Accuracy on training set with best parameters:\",lv_car_best.score(lv_x_train,\n",
    "                                                        lv_y_train))\n",
    "\n",
    "print(\"Accuracy on test data set with best parameters:\",lv_car_best.score(lv_x_test,\n",
    "                                                                         lv_y_test))"
   ]
  },
  {
   "cell_type": "code",
   "execution_count": 128,
   "metadata": {},
   "outputs": [
    {
     "name": "stdout",
     "output_type": "stream",
     "text": [
      "RMSE value for new bagging model: 3.921876126945267\n"
     ]
    }
   ],
   "source": [
    "#Calculate RMSE for the new model\n",
    "\n",
    "print(\"RMSE value for new bagging model:\",sqrt(mean_squared_error(lv_y_test,\n",
    "                                                lv_car_best.predict(lv_x_test))))"
   ]
  },
  {
   "cell_type": "code",
   "execution_count": null,
   "metadata": {},
   "outputs": [],
   "source": []
  }
 ],
 "metadata": {
  "kernelspec": {
   "display_name": "Python 3",
   "language": "python",
   "name": "python3"
  },
  "language_info": {
   "codemirror_mode": {
    "name": "ipython",
    "version": 3
   },
   "file_extension": ".py",
   "mimetype": "text/x-python",
   "name": "python",
   "nbconvert_exporter": "python",
   "pygments_lexer": "ipython3",
   "version": "3.7.6"
  }
 },
 "nbformat": 4,
 "nbformat_minor": 4
}
