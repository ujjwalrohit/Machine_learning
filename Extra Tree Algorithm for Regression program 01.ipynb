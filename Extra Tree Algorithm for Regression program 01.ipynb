{
 "cells": [
  {
   "cell_type": "code",
   "execution_count": 28,
   "metadata": {},
   "outputs": [],
   "source": [
    "#Importing necessary Libraries\n",
    "\n",
    "from sklearn.ensemble                import ExtraTreesRegressor\n",
    "from sklearn.ensemble                import RandomForestRegressor\n",
    "from sklearn.ensemble                import BaggingRegressor\n",
    "from sklearn.model_selection         import GridSearchCV\n",
    "from sklearn.metrics                 import mean_squared_error\n",
    "from sklearn.model_selection         import train_test_split\n",
    "from sklearn.neighbors               import KNeighborsRegressor\n",
    "from sklearn.tree                    import DecisionTreeRegressor\n",
    "from sklearn.svm                     import LinearSVR\n",
    "from sklearn                         import linear_model\n",
    "from math                            import sqrt\n",
    "\n",
    "import numpy  as np\n",
    "import pandas as pd\n"
   ]
  },
  {
   "cell_type": "code",
   "execution_count": 5,
   "metadata": {},
   "outputs": [
    {
     "name": "stdout",
     "output_type": "stream",
     "text": [
      "   Cement (component 1)(kg in a m^3 mixture)  \\\n",
      "0                                      540.0   \n",
      "1                                      540.0   \n",
      "2                                      332.5   \n",
      "3                                      332.5   \n",
      "4                                      198.6   \n",
      "\n",
      "   Blast Furnace Slag (component 2)(kg in a m^3 mixture)  \\\n",
      "0                                                0.0       \n",
      "1                                                0.0       \n",
      "2                                              142.5       \n",
      "3                                              142.5       \n",
      "4                                              132.4       \n",
      "\n",
      "   Fly Ash (component 3)(kg in a m^3 mixture)  \\\n",
      "0                                         0.0   \n",
      "1                                         0.0   \n",
      "2                                         0.0   \n",
      "3                                         0.0   \n",
      "4                                         0.0   \n",
      "\n",
      "   Water  (component 4)(kg in a m^3 mixture)  \\\n",
      "0                                      162.0   \n",
      "1                                      162.0   \n",
      "2                                      228.0   \n",
      "3                                      228.0   \n",
      "4                                      192.0   \n",
      "\n",
      "   Superplasticizer (component 5)(kg in a m^3 mixture)  \\\n",
      "0                                                2.5     \n",
      "1                                                2.5     \n",
      "2                                                0.0     \n",
      "3                                                0.0     \n",
      "4                                                0.0     \n",
      "\n",
      "   Coarse Aggregate  (component 6)(kg in a m^3 mixture)  \\\n",
      "0                                             1040.0      \n",
      "1                                             1055.0      \n",
      "2                                              932.0      \n",
      "3                                              932.0      \n",
      "4                                              978.4      \n",
      "\n",
      "   Fine Aggregate (component 7)(kg in a m^3 mixture)  Age (day)  \\\n",
      "0                                              676.0         28   \n",
      "1                                              676.0         28   \n",
      "2                                              594.0        270   \n",
      "3                                              594.0        365   \n",
      "4                                              825.5        360   \n",
      "\n",
      "   Concrete compressive strength(MPa, megapascals)   \n",
      "0                                         79.986111  \n",
      "1                                         61.887366  \n",
      "2                                         40.269535  \n",
      "3                                         41.052780  \n",
      "4                                         44.296075  \n"
     ]
    }
   ],
   "source": [
    "#Reading Data set\n",
    "\n",
    "lv_concrete = pd.read_excel('/Users/ujjwalrohit/Dataset for machine Learning/Concrete_Data.xls')\n",
    "\n",
    "lv_concrete_df = pd.DataFrame(lv_concrete)\n",
    "print(lv_concrete_df.head())"
   ]
  },
  {
   "cell_type": "code",
   "execution_count": 6,
   "metadata": {},
   "outputs": [
    {
     "name": "stdout",
     "output_type": "stream",
     "text": [
      "Dimension of the data set: (1030, 9)\n",
      "Names of the variables in the data set are :\n",
      " Index(['Cement (component 1)(kg in a m^3 mixture)',\n",
      "       'Blast Furnace Slag (component 2)(kg in a m^3 mixture)',\n",
      "       'Fly Ash (component 3)(kg in a m^3 mixture)',\n",
      "       'Water  (component 4)(kg in a m^3 mixture)',\n",
      "       'Superplasticizer (component 5)(kg in a m^3 mixture)',\n",
      "       'Coarse Aggregate  (component 6)(kg in a m^3 mixture)',\n",
      "       'Fine Aggregate (component 7)(kg in a m^3 mixture)', 'Age (day)',\n",
      "       'Concrete compressive strength(MPa, megapascals) '],\n",
      "      dtype='object')\n",
      "<class 'pandas.core.frame.DataFrame'>\n",
      "RangeIndex: 1030 entries, 0 to 1029\n",
      "Data columns (total 9 columns):\n",
      " #   Column                                                 Non-Null Count  Dtype  \n",
      "---  ------                                                 --------------  -----  \n",
      " 0   Cement (component 1)(kg in a m^3 mixture)              1030 non-null   float64\n",
      " 1   Blast Furnace Slag (component 2)(kg in a m^3 mixture)  1030 non-null   float64\n",
      " 2   Fly Ash (component 3)(kg in a m^3 mixture)             1030 non-null   float64\n",
      " 3   Water  (component 4)(kg in a m^3 mixture)              1030 non-null   float64\n",
      " 4   Superplasticizer (component 5)(kg in a m^3 mixture)    1030 non-null   float64\n",
      " 5   Coarse Aggregate  (component 6)(kg in a m^3 mixture)   1030 non-null   float64\n",
      " 6   Fine Aggregate (component 7)(kg in a m^3 mixture)      1030 non-null   float64\n",
      " 7   Age (day)                                              1030 non-null   int64  \n",
      " 8   Concrete compressive strength(MPa, megapascals)        1030 non-null   float64\n",
      "dtypes: float64(8), int64(1)\n",
      "memory usage: 72.5 KB\n",
      "The information of the data set is :\n",
      " None\n"
     ]
    }
   ],
   "source": [
    "#Displaying the characteristics of the concrete_scale data set\n",
    "\n",
    "print(\"Dimension of the data set:\",lv_concrete_df.shape)\n",
    "print(\"Names of the variables in the data set are :\\n\",lv_concrete_df.columns)\n",
    "print(\"The information of the data set is :\\n\",lv_concrete_df.info())"
   ]
  },
  {
   "cell_type": "code",
   "execution_count": 18,
   "metadata": {},
   "outputs": [
    {
     "name": "stdout",
     "output_type": "stream",
     "text": [
      "Concrete compressive strength(MPa, megapascals) \n"
     ]
    }
   ],
   "source": [
    "#Using a random seed function for generating the same data set\n",
    "\n",
    "np.random.seed(3000)\n",
    "\n",
    "lv_training,lv_test = train_test_split(lv_concrete_df,test_size = 0.3)\n",
    "\n",
    "lv_last_column = lv_training.columns[-1]\n",
    "print(lv_last_column)\n",
    "\n",
    "lv_x_train = lv_training.drop(lv_last_column,axis = 1)\n",
    "lv_y_train = lv_training[lv_last_column]\n",
    "\n",
    "lv_x_test = lv_test.drop(lv_last_column,axis = 1)\n",
    "lv_y_test = lv_test[lv_last_column]\n",
    "\n"
   ]
  },
  {
   "cell_type": "code",
   "execution_count": 19,
   "metadata": {},
   "outputs": [
    {
     "name": "stdout",
     "output_type": "stream",
     "text": [
      "-----------------EXTRA TREE MODEL---------------\n",
      "Accuracy of extra trees model using training set: 0.9961974557684935\n",
      "Accuracy of extra trees model using test data set: 0.9129228476113361\n",
      "RMSE value for extra tree model : 5.011912821147016\n"
     ]
    }
   ],
   "source": [
    "#Creating extra tree model\n",
    "\n",
    "print(\"-----------------EXTRA TREE MODEL---------------\")\n",
    "\n",
    "lv_concrete_extra_tree = ExtraTreesRegressor()\n",
    "lv_concrete_extra_tree.fit(lv_x_train,lv_y_train)\n",
    "\n",
    "print(\"Accuracy of extra trees model using training set:\",\n",
    "      lv_concrete_extra_tree.score(lv_x_train,lv_y_train))\n",
    "\n",
    "print(\"Accuracy of extra trees model using test data set:\",\n",
    "     lv_concrete_extra_tree.score(lv_x_test,lv_y_test))\n",
    "\n",
    "print(\"RMSE value for extra tree model :\",\n",
    "     sqrt(mean_squared_error(lv_y_test,lv_concrete_extra_tree.predict(lv_x_test))))"
   ]
  },
  {
   "cell_type": "code",
   "execution_count": 24,
   "metadata": {},
   "outputs": [
    {
     "name": "stdout",
     "output_type": "stream",
     "text": [
      "------------------EXTRA TREE MODEL WITH BEST PARAMETERS-----------------\n",
      "Best Parameters:\n",
      " {'criterion': 'mse', 'max_features': 'auto', 'min_samples_leaf': 1}\n",
      "Accuracy on training set with parameters : 0.9961974557684935\n",
      "Accuracy on Test data set with parameters : 0.9144746882542408\n",
      "RMSE Value for new extra tree model: 4.967052289544167\n"
     ]
    }
   ],
   "source": [
    "#Creating a new extra tree model with grid search\n",
    "\n",
    "print(\"------------------EXTRA TREE MODEL WITH BEST PARAMETERS-----------------\")\n",
    "\n",
    "lv_param_grid = {'max_features':['auto','sqrt','log2'],\n",
    "                 'min_samples_leaf':[0.5,1],\n",
    "                 'criterion':['mse']\n",
    "                }\n",
    "lv_concrete_extra_tree_grid = ExtraTreesRegressor()\n",
    "lv_concrete_extra_tree_cv = GridSearchCV(estimator= lv_concrete_extra_tree_grid,\n",
    "                                        param_grid= lv_param_grid,\n",
    "                                        cv= 5)\n",
    "lv_concrete_extra_tree_cv.fit(lv_x_train,lv_y_train)\n",
    "\n",
    "lv_concrete_extra_tree_best = ExtraTreesRegressor(\n",
    "criterion=lv_concrete_extra_tree_cv.fit(lv_x_train,lv_y_train).best_params_['criterion'],\n",
    "min_samples_leaf= lv_concrete_extra_tree_cv.fit(lv_x_train,lv_y_train).best_params_['min_samples_leaf'],\n",
    "max_features= lv_concrete_extra_tree_cv.fit(lv_x_train,lv_y_train).best_params_['max_features'] \n",
    ")\n",
    "\n",
    "lv_concrete_extra_tree_best.fit(lv_x_train,lv_y_train)\n",
    "\n",
    "print(\"Best Parameters:\\n\",lv_concrete_extra_tree_cv.best_params_)\n",
    "\n",
    "print(\"Accuracy on training set with parameters :\",\n",
    "     lv_concrete_extra_tree_best.score(lv_x_train,lv_y_train))\n",
    "\n",
    "print(\"Accuracy on Test data set with parameters :\",\n",
    "     lv_concrete_extra_tree_best.score(lv_x_test,lv_y_test))\n",
    "\n",
    "print(\"RMSE Value for new extra tree model:\",\n",
    "     sqrt(mean_squared_error(lv_y_test,lv_concrete_extra_tree_best.predict(lv_x_test))))"
   ]
  },
  {
   "cell_type": "code",
   "execution_count": 25,
   "metadata": {},
   "outputs": [
    {
     "name": "stdout",
     "output_type": "stream",
     "text": [
      "----------------------RANDOM FOREST MODEL--------------------\n",
      "Accuracy on training set with parameters : 0.9833478227955001\n",
      "Accuracy on Test data set with parameters : 0.9001638858803069\n",
      "RMSE value for Random forest model : 5.366550659694208\n"
     ]
    }
   ],
   "source": [
    "#Creating a Random forest model\n",
    "\n",
    "print(\"----------------------RANDOM FOREST MODEL--------------------\")\n",
    "\n",
    "lv_concrete_forest = RandomForestRegressor(random_state=0)\n",
    "lv_concrete_forest.fit(lv_x_train,lv_y_train)\n",
    "\n",
    "print(\"Accuracy on training set with parameters :\",\n",
    "     lv_concrete_forest.score(lv_x_train,lv_y_train))\n",
    "\n",
    "print(\"Accuracy on Test data set with parameters :\",\n",
    "     lv_concrete_forest.score(lv_x_test,lv_y_test))\n",
    "\n",
    "print(\"RMSE value for Random forest model :\",\n",
    "     sqrt(mean_squared_error(lv_y_test,lv_concrete_forest.predict(lv_x_test))))"
   ]
  },
  {
   "cell_type": "code",
   "execution_count": 27,
   "metadata": {},
   "outputs": [
    {
     "name": "stdout",
     "output_type": "stream",
     "text": [
      "-----------------BAGGING MODEL-------------------\n",
      "Accuracy on training set with parameters : 0.9783961433631171\n",
      "Accuracy on test set with parameters : 0.878079267441391\n",
      "RMSE value of Bagging Model : 5.930484576103292\n"
     ]
    }
   ],
   "source": [
    "#Creating a Bagging Model\n",
    "\n",
    "print(\"-----------------BAGGING MODEL-------------------\")\n",
    "\n",
    "lv_concrete_bag = BaggingRegressor(base_estimator= None,n_estimators=10,\n",
    "                                  max_samples= 1.0,max_features=1.0,bootstrap= True)\n",
    "\n",
    "lv_concrete_bag.fit(lv_x_train,lv_y_train)\n",
    "\n",
    "print(\"Accuracy on training set with parameters :\",\n",
    "     lv_concrete_bag.score(lv_x_train,lv_y_train))\n",
    "\n",
    "print(\"Accuracy on test set with parameters :\",\n",
    "     lv_concrete_bag.score(lv_x_test,lv_y_test))\n",
    "\n",
    "print(\"RMSE value of Bagging Model :\",\n",
    "     sqrt(mean_squared_error(lv_y_test,lv_concrete_bag.predict(lv_x_test))))"
   ]
  },
  {
   "cell_type": "code",
   "execution_count": 29,
   "metadata": {},
   "outputs": [
    {
     "name": "stdout",
     "output_type": "stream",
     "text": [
      "------------------------DECISION TREE MODEL-------------------\n",
      "Accuracy on training set with parameters : 0.9961974557684935\n",
      "Accuracy on test set with parameters : 0.8050760601991241\n",
      "RMSE Value of Decision Tree model : 7.498665643955239\n"
     ]
    }
   ],
   "source": [
    "#Creating Decision Tree Model\n",
    "\n",
    "print(\"------------------------DECISION TREE MODEL-------------------\")\n",
    "\n",
    "lv_concrete_tree = DecisionTreeRegressor(random_state=0)\n",
    "lv_concrete_tree.fit(lv_x_train,lv_y_train)\n",
    "\n",
    "print(\"Accuracy on training set with parameters :\",\n",
    "     lv_concrete_tree.score(lv_x_train,lv_y_train))\n",
    "\n",
    "print(\"Accuracy on test set with parameters :\",\n",
    "     lv_concrete_tree.score(lv_x_test,lv_y_test))\n",
    "\n",
    "print(\"RMSE Value of Decision Tree model :\",\n",
    "     sqrt(mean_squared_error(lv_y_test,lv_concrete_tree.predict(lv_x_test))))"
   ]
  },
  {
   "cell_type": "code",
   "execution_count": 30,
   "metadata": {},
   "outputs": [
    {
     "name": "stdout",
     "output_type": "stream",
     "text": [
      "-----------------------Linear Regression Model--------------------\n",
      "Coefficient of independent variables in the model [ 0.11649953  0.09494142  0.08198757 -0.13193593  0.34569566  0.01508816\n",
      "  0.01622944  0.11431352]\n",
      "Intercept in the model is : -18.961997307655402\n",
      "RMSE value of Linear Regression Model : 10.429052534881574\n"
     ]
    }
   ],
   "source": [
    "#Creating Linear Regression Model\n",
    "\n",
    "print(\"-----------------------Linear Regression Model--------------------\")\n",
    "\n",
    "lv_concrete_Reg = linear_model.LinearRegression()\n",
    "lv_concrete_Reg.fit(lv_x_train,lv_y_train)\n",
    "\n",
    "print(\"Coefficient of independent variables in the model\",lv_concrete_Reg.coef_)\n",
    "print(\"Intercept in the model is :\",lv_concrete_Reg.intercept_)\n",
    "print(\"RMSE value of Linear Regression Model :\",\n",
    "     sqrt(mean_squared_error(lv_y_test,lv_concrete_Reg.predict(lv_x_test))))"
   ]
  },
  {
   "cell_type": "code",
   "execution_count": null,
   "metadata": {},
   "outputs": [],
   "source": [
    "#Creating a KNN model\n",
    "\n",
    "print(\"-----------------------KNN MODEL--------------\")"
   ]
  }
 ],
 "metadata": {
  "kernelspec": {
   "display_name": "Python 3",
   "language": "python",
   "name": "python3"
  },
  "language_info": {
   "codemirror_mode": {
    "name": "ipython",
    "version": 3
   },
   "file_extension": ".py",
   "mimetype": "text/x-python",
   "name": "python",
   "nbconvert_exporter": "python",
   "pygments_lexer": "ipython3",
   "version": "3.7.6"
  }
 },
 "nbformat": 4,
 "nbformat_minor": 4
}
