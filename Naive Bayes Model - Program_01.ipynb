{
 "cells": [
  {
   "cell_type": "code",
   "execution_count": 1,
   "metadata": {},
   "outputs": [],
   "source": [
    "#Importing necessary libraries\n",
    "\n",
    "from sklearn.metrics         import accuracy_score\n",
    "from sklearn.linear_model    import LogisticRegression\n",
    "from sklearn.metrics         import confusion_matrix\n",
    "from sklearn.model_selection import train_test_split\n",
    "from sklearn.naive_bayes     import GaussianNB\n",
    "from sklearn.preprocessing   import StandardScaler,LabelEncoder\n",
    "\n",
    "import pandas as pd\n",
    "import numpy  as np\n",
    "\n"
   ]
  },
  {
   "cell_type": "code",
   "execution_count": 2,
   "metadata": {},
   "outputs": [],
   "source": [
    "#Reading Data\n",
    "\n",
    "lv_training = pd.read_csv(\"/Users/ujjwalrohit/Dataset for machine Learning/occu_training.txt\")\n",
    "lv_test     = pd.read_csv(\"/Users/ujjwalrohit/Dataset for machine Learning/occu_test.txt\")"
   ]
  },
  {
   "cell_type": "code",
   "execution_count": 3,
   "metadata": {},
   "outputs": [
    {
     "name": "stdout",
     "output_type": "stream",
     "text": [
      "The dimension of the training data set is: (8143, 7)\n",
      "The dimension of the test data set is: (9752, 7)\n",
      "The names of variables in the data set are:\n",
      " Index(['date', 'Temperature', 'Humidity', 'Light', 'CO2', 'HumidityRatio',\n",
      "       'Occupancy'],\n",
      "      dtype='object')\n",
      "The names of columns in test data set are:\n",
      " Index(['date', 'Temperature', 'Humidity', 'Light', 'CO2', 'HumidityRatio',\n",
      "       'Occupancy'],\n",
      "      dtype='object')\n"
     ]
    }
   ],
   "source": [
    "#Displaying the characteristics of the training and test data set\n",
    "\n",
    "print(\"The dimension of the training data set is:\",lv_training.shape)\n",
    "print(\"The dimension of the test data set is:\",lv_test.shape)\n",
    "print(\"The names of variables in the data set are:\\n\",lv_training.columns)\n",
    "print(\"The names of columns in test data set are:\\n\",lv_test.columns)\n"
   ]
  },
  {
   "cell_type": "code",
   "execution_count": 4,
   "metadata": {},
   "outputs": [],
   "source": [
    "#Creating training and test for independent and dependent variables\n",
    "\n",
    "lv_training = lv_training.drop('date',axis = 1)\n",
    "lv_test     = lv_test.drop('date',axis = 1)\n",
    "\n",
    "lv_x_training = lv_training.drop(\"Occupancy\",axis = 1)\n",
    "lv_y_training = lv_training[\"Occupancy\"]\n",
    "\n",
    "lv_x_test = lv_test.drop(\"Occupancy\",axis = 1)\n",
    "lv_y_test = lv_test[\"Occupancy\"]"
   ]
  },
  {
   "cell_type": "code",
   "execution_count": 5,
   "metadata": {},
   "outputs": [
    {
     "name": "stdout",
     "output_type": "stream",
     "text": [
      "<class 'pandas.core.frame.DataFrame'>\n",
      "Int64Index: 8143 entries, 1 to 8143\n",
      "Data columns (total 6 columns):\n",
      " #   Column         Non-Null Count  Dtype  \n",
      "---  ------         --------------  -----  \n",
      " 0   Temperature    8143 non-null   float64\n",
      " 1   Humidity       8143 non-null   float64\n",
      " 2   Light          8143 non-null   float64\n",
      " 3   CO2            8143 non-null   float64\n",
      " 4   HumidityRatio  8143 non-null   float64\n",
      " 5   Occupancy      8143 non-null   int64  \n",
      "dtypes: float64(5), int64(1)\n",
      "memory usage: 445.3 KB\n",
      "None\n"
     ]
    }
   ],
   "source": [
    "#Feature Scaling\n",
    "\n",
    "lv_sc = StandardScaler()\n",
    "print(lv_training.info())\n",
    "\n",
    "lv_x_training = lv_sc.fit_transform(lv_x_training)\n",
    "lv_x_test     = lv_sc.fit_transform(lv_x_test)\n"
   ]
  },
  {
   "cell_type": "code",
   "execution_count": 6,
   "metadata": {},
   "outputs": [],
   "source": [
    "#Encoding categorical data values\n",
    "\n",
    "lv_label_encoder_y = LabelEncoder()\n",
    "lv_y_training = lv_label_encoder_y.fit_transform(lv_y_training)\n",
    "lv_y_test     = lv_label_encoder_y.fit_transform(lv_y_test)"
   ]
  },
  {
   "cell_type": "code",
   "execution_count": 7,
   "metadata": {},
   "outputs": [
    {
     "name": "stdout",
     "output_type": "stream",
     "text": [
      "Accuracy of Naive Bayes model on training set is: 0.9788775635515167\n",
      "Accuracy of Naive Bayes model on test data set is: 0.9914889253486464\n"
     ]
    }
   ],
   "source": [
    "#Creating a Naive Bayes Model\n",
    "\n",
    "lv_naive_occu = GaussianNB()\n",
    "lv_naive_occu.fit(lv_x_training,lv_y_training)\n",
    "\n",
    "print(\"Accuracy of Naive Bayes model on training set is:\",lv_naive_occu.score\n",
    "    (lv_x_training,lv_y_training))\n",
    "\n",
    "print(\"Accuracy of Naive Bayes model on test data set is:\",lv_naive_occu.score(lv_x_test,\n",
    "                                                                        lv_y_test))"
   ]
  },
  {
   "cell_type": "code",
   "execution_count": 8,
   "metadata": {},
   "outputs": [
    {
     "name": "stdout",
     "output_type": "stream",
     "text": [
      "The confusion matrix is:\n",
      " [[7635   68]\n",
      " [  15 2034]]\n"
     ]
    }
   ],
   "source": [
    "#Predicting the values of the data set\n",
    "\n",
    "lv_naive_pred = lv_naive_occu.predict(lv_x_test)\n",
    "\n",
    "#Creating confusion matrix of the model\n",
    "\n",
    "lv_naive_results = confusion_matrix(lv_y_test,lv_naive_pred)\n",
    "print(\"The confusion matrix is:\\n\",lv_naive_results)"
   ]
  },
  {
   "cell_type": "code",
   "execution_count": 11,
   "metadata": {},
   "outputs": [
    {
     "name": "stdout",
     "output_type": "stream",
     "text": [
      "------------------LOGISTIC REGRESSION MODEL----------------\n",
      "The accuracy of Logistic Regression is : 0.9561115668580804\n",
      "The confusion matrix is :\n",
      " [[7651   52]\n",
      " [ 376 1673]]\n"
     ]
    }
   ],
   "source": [
    "#Creating a Logistic regression model\n",
    "\n",
    "print(\"------------------LOGISTIC REGRESSION MODEL----------------\")\n",
    "lv_log_occu = LogisticRegression()\n",
    "lv_log_occu.fit(lv_x_training,lv_y_training)\n",
    "\n",
    "lv_log_pred = lv_log_occu.predict(lv_x_test)\n",
    "lv_log_occ_score = accuracy_score(lv_y_test,lv_log_pred)\n",
    "\n",
    "lv_log_occu_result = confusion_matrix(lv_y_test,lv_log_pred)\n",
    "\n",
    "print(\"The accuracy of Logistic Regression is :\",lv_log_occ_score)\n",
    "print(\"The confusion matrix is :\\n\",lv_log_occu_result)      "
   ]
  },
  {
   "cell_type": "code",
   "execution_count": null,
   "metadata": {},
   "outputs": [],
   "source": []
  }
 ],
 "metadata": {
  "kernelspec": {
   "display_name": "Python 3",
   "language": "python",
   "name": "python3"
  },
  "language_info": {
   "codemirror_mode": {
    "name": "ipython",
    "version": 3
   },
   "file_extension": ".py",
   "mimetype": "text/x-python",
   "name": "python",
   "nbconvert_exporter": "python",
   "pygments_lexer": "ipython3",
   "version": "3.7.6"
  }
 },
 "nbformat": 4,
 "nbformat_minor": 4
}
