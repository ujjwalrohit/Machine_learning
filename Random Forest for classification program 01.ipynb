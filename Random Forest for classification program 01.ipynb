{
 "cells": [
  {
   "cell_type": "code",
   "execution_count": 6,
   "metadata": {},
   "outputs": [],
   "source": [
    "#Importing necessary libraries\n",
    "\n",
    "from sklearn.model_selection         import train_test_split\n",
    "from sklearn.ensemble                import RandomForestClassifier\n",
    "from sklearn.ensemble                import BaggingClassifier\n",
    "from sklearn.tree                    import DecisionTreeClassifier\n",
    "from sklearn.metrics                 import classification_report\n",
    "from sklearn.metrics                 import accuracy_score,confusion_matrix\n",
    "from sklearn.model_selection         import GridSearchCV\n",
    "\n",
    "import pandas   as pd\n",
    "import numpy    as np"
   ]
  },
  {
   "cell_type": "code",
   "execution_count": 2,
   "metadata": {},
   "outputs": [],
   "source": [
    "#Reading the data set\n",
    "\n",
    "lv_letter_data = pd.read_csv('/Users/ujjwalrohit/Dataset for machine Learning/letter-recognition.csv.xls')"
   ]
  },
  {
   "cell_type": "code",
   "execution_count": 3,
   "metadata": {},
   "outputs": [
    {
     "name": "stdout",
     "output_type": "stream",
     "text": [
      "Dimension of the data set: (20000, 17)\n",
      "Names of the variables in the data set are:\n",
      " Index(['letter', 'xbox ', 'ybox ', 'width ', 'height', 'onpix ', 'xbar ',\n",
      "       'ybar ', 'x2bar', 'y2bar ', 'xybar ', 'x2ybar', 'xy2bar', 'xedge ',\n",
      "       'xedgey', 'yedge ', 'yedgex'],\n",
      "      dtype='object')\n",
      "<class 'pandas.core.frame.DataFrame'>\n",
      "RangeIndex: 20000 entries, 0 to 19999\n",
      "Data columns (total 17 columns):\n",
      " #   Column  Non-Null Count  Dtype \n",
      "---  ------  --------------  ----- \n",
      " 0   letter  20000 non-null  object\n",
      " 1   xbox    20000 non-null  int64 \n",
      " 2   ybox    20000 non-null  int64 \n",
      " 3   width   20000 non-null  int64 \n",
      " 4   height  20000 non-null  int64 \n",
      " 5   onpix   20000 non-null  int64 \n",
      " 6   xbar    20000 non-null  int64 \n",
      " 7   ybar    20000 non-null  int64 \n",
      " 8   x2bar   20000 non-null  int64 \n",
      " 9   y2bar   20000 non-null  int64 \n",
      " 10  xybar   20000 non-null  int64 \n",
      " 11  x2ybar  20000 non-null  int64 \n",
      " 12  xy2bar  20000 non-null  int64 \n",
      " 13  xedge   20000 non-null  int64 \n",
      " 14  xedgey  20000 non-null  int64 \n",
      " 15  yedge   20000 non-null  int64 \n",
      " 16  yedgex  20000 non-null  int64 \n",
      "dtypes: int64(16), object(1)\n",
      "memory usage: 2.6+ MB\n",
      "The information of the data set are :\n",
      " None\n"
     ]
    }
   ],
   "source": [
    "#Displaying the characteristics of the letter_scale data set\n",
    "\n",
    "print(\"Dimension of the data set:\",lv_letter_data.shape)\n",
    "print(\"Names of the variables in the data set are:\\n\"\n",
    "      ,lv_letter_data.columns)\n",
    "\n",
    "print(\"The information of the data set are :\\n\",lv_letter_data.info())"
   ]
  },
  {
   "cell_type": "code",
   "execution_count": 4,
   "metadata": {},
   "outputs": [],
   "source": [
    "#Using a random seed function for generating the same data set\n",
    "\n",
    "np.random.seed(3000)\n",
    "\n",
    "lv_training,lv_test = train_test_split(lv_letter_data,\n",
    "                                       test_size = 0.3)\n",
    "\n",
    "lv_x_train = lv_training.drop(['letter'],axis = 1)\n",
    "lv_y_train = lv_training['letter']\n",
    "\n",
    "lv_x_test = lv_test.drop(['letter'],axis = 1)\n",
    "lv_y_test = lv_test['letter']"
   ]
  },
  {
   "cell_type": "code",
   "execution_count": 5,
   "metadata": {},
   "outputs": [
    {
     "name": "stdout",
     "output_type": "stream",
     "text": [
      "---------------RANDOM FOREST MODEL--------------\n",
      "Accuracy of random forest model on training set: 1.0\n",
      "Accuracy of random forest model on test data set: 0.962\n",
      "Accuracy of random forest model on test set: 0.962\n",
      "Results of rondom forest model on test set :\n",
      " [[241   0   0   0   0   0   0   0   0   0   0   0   0   0   0   0   0   0\n",
      "    2   0   0   0   0   0   0   0]\n",
      " [  0 214   0   1   1   0   0   1   0   0   0   0   1   1   0   0   0   3\n",
      "    1   0   0   1   0   2   0   0]\n",
      " [  0   0 204   0   5   1   7   0   0   0   0   1   0   0   3   0   1   1\n",
      "    0   0   0   0   0   0   0   0]\n",
      " [  0   0   0 224   0   0   0   0   0   0   0   0   0   1   0   0   0   0\n",
      "    2   0   0   0   0   0   0   0]\n",
      " [  0   0   1   0 206   0   3   0   0   0   0   4   0   0   0   0   0   0\n",
      "    0   0   0   0   0   2   0   2]\n",
      " [  0   1   0   0   0 221   0   0   0   0   0   0   0   0   0   5   0   0\n",
      "    0   4   0   0   1   1   0   0]\n",
      " [  0   1   0   1   2   0 213   2   0   0   0   0   0   0   1   0   3   0\n",
      "    0   0   0   1   0   0   0   0]\n",
      " [  0   2   0   6   0   0   0 199   0   0   3   0   1   0   0   0   0   5\n",
      "    1   0   1   0   0   0   0   0]\n",
      " [  0   1   0   0   0   0   0   0 226   3   0   0   0   0   0   1   0   0\n",
      "    0   0   0   0   0   0   0   0]\n",
      " [  0   1   0   0   0   0   0   0  11 219   1   1   0   0   1   0   0   0\n",
      "    0   0   0   0   0   0   0   1]\n",
      " [  0   1   0   0   0   0   0   5   0   0 218   0   0   0   0   0   0   7\n",
      "    0   0   0   0   0   1   0   0]\n",
      " [  0   0   0   0   1   0   0   0   0   0   1 240   0   0   0   0   0   2\n",
      "    0   0   0   0   0   2   0   0]\n",
      " [  0   1   0   0   0   0   0   0   0   0   0   0 241   0   0   0   0   0\n",
      "    0   0   0   1   2   0   0   0]\n",
      " [  0   0   0   4   0   0   0   2   0   0   0   0   0 230   0   0   0   1\n",
      "    0   0   0   0   0   0   0   0]\n",
      " [  0   2   0   1   0   0   0   0   0   0   0   0   0   0 229   0   1   0\n",
      "    0   0   0   0   0   0   0   0]\n",
      " [  0   4   0   2   0   6   0   0   0   0   0   0   0   0   0 228   0   1\n",
      "    0   0   0   0   0   0   0   0]\n",
      " [  0   0   0   0   0   0   0   0   1   0   0   0   0   0   6   1 234   3\n",
      "    0   0   0   0   0   0   0   1]\n",
      " [  0   2   0   0   0   0   0   1   0   0   1   0   0   2   0   0   0 211\n",
      "    0   0   0   0   0   0   0   0]\n",
      " [  0   3   0   0   3   1   0   1   0   0   0   0   0   0   0   0   1   0\n",
      "  213   0   0   0   0   0   0   0]\n",
      " [  0   0   1   0   0   0   0   0   0   0   0   0   0   0   0   0   0   0\n",
      "    0 246   0   1   0   0   1   0]\n",
      " [  0   0   0   0   0   0   1   2   0   0   0   0   3   1   0   0   0   0\n",
      "    0   0 262   0   0   0   0   0]\n",
      " [  0   9   0   0   0   0   0   0   0   0   0   0   1   1   0   1   0   0\n",
      "    0   0   0 188   3   0   1   0]\n",
      " [  0   0   0   0   0   0   0   0   0   0   0   0   0   0   0   0   0   1\n",
      "    0   0   0   0 217   0   0   0]\n",
      " [  0   0   0   1   2   0   0   0   0   0   2   0   0   0   0   0   0   0\n",
      "    0   2   0   0   0 211   0   0]\n",
      " [  0   0   0   0   1   0   0   0   0   0   0   0   0   0   0   0   0   0\n",
      "    0   0   1   1   0   0 227   0]\n",
      " [  0   1   0   0   1   0   0   0   0   0   0   2   0   0   0   0   1   0\n",
      "    0   0   0   0   0   0   0 210]]\n"
     ]
    }
   ],
   "source": [
    "#Creating a random forest model\n",
    "\n",
    "print(\"---------------RANDOM FOREST MODEL--------------\")\n",
    "\n",
    "lv_letter_forest = RandomForestClassifier()\n",
    "lv_letter_forest.fit(lv_x_train,lv_y_train)\n",
    "\n",
    "print(\"Accuracy of random forest model on training set:\",lv_letter_forest.score(lv_x_train,\n",
    "                                                                               lv_y_train))\n",
    "\n",
    "print(\"Accuracy of random forest model on test data set:\",lv_letter_forest.score(lv_x_test,\n",
    "                                                                                lv_y_test))\n",
    "\n",
    "print(\"Accuracy of random forest model on test set:\",accuracy_score(lv_y_test,\n",
    "                                                    lv_letter_forest.predict(lv_x_test)))\n",
    "\n",
    "print(\"Results of rondom forest model on test set :\\n\",\n",
    "     confusion_matrix(lv_y_test,lv_letter_forest.predict(lv_x_test)))"
   ]
  },
  {
   "cell_type": "code",
   "execution_count": 13,
   "metadata": {},
   "outputs": [
    {
     "name": "stdout",
     "output_type": "stream",
     "text": [
      "-------------------RANDOM FOREST MODEL-----------------\n",
      "Best Parameters:\n",
      " {'criterion': 'gini', 'max_features': 'auto'}\n"
     ]
    }
   ],
   "source": [
    "#Creating a new random forest model with grid search\n",
    "\n",
    "print(\"-------------------RANDOM FOREST MODEL-----------------\")\n",
    "\n",
    "lv_param_grid = {'max_features':['auto','sqrt','log2'],\n",
    "                'criterion' :['gini','entropy']} \n",
    "\n",
    "lv_letter_forest_grid = RandomForestClassifier()\n",
    "\n",
    "lv_letter_forest_cv = GridSearchCV(estimator= lv_letter_forest_grid,\n",
    "                                  param_grid = lv_param_grid,cv = 5)\n",
    "\n",
    "lv_letter_forest_cv.fit(lv_x_train,lv_y_train)\n",
    "\n",
    "print(\"Best Parameters:\\n\",lv_letter_forest_cv.best_params_)\n"
   ]
  },
  {
   "cell_type": "code",
   "execution_count": 14,
   "metadata": {},
   "outputs": [],
   "source": [
    "#Creating the model with best score\n",
    "\n",
    "lv_letter_forest_best = RandomForestClassifier(max_features=lv_letter_forest_cv.fit(lv_x_train,\n",
    "                                                lv_y_train).best_params_['max_features'],\n",
    "                                             criterion = lv_letter_forest_cv.fit(lv_x_train,\n",
    "                                                        lv_y_train).best_params_['criterion']  \n",
    "                                              )"
   ]
  },
  {
   "cell_type": "code",
   "execution_count": 15,
   "metadata": {},
   "outputs": [
    {
     "name": "stdout",
     "output_type": "stream",
     "text": [
      "Accuracy on training set with best parameter: 1.0\n",
      "Accuracy on test set with best parameter: 0.9601666666666666\n"
     ]
    }
   ],
   "source": [
    "#Evaluating the model considering best parameter\n",
    "\n",
    "lv_letter_forest_best.fit(lv_x_train,lv_y_train)\n",
    "\n",
    "print(\"Accuracy on training set with best parameter:\",lv_letter_forest_best.score(lv_x_train,\n",
    "                                                                                 lv_y_train))\n",
    "print(\"Accuracy on test set with best parameter:\",lv_letter_forest_best.score(lv_x_test,\n",
    "                                                                             lv_y_test))"
   ]
  },
  {
   "cell_type": "code",
   "execution_count": 16,
   "metadata": {},
   "outputs": [
    {
     "name": "stdout",
     "output_type": "stream",
     "text": [
      "Classification Report:\n",
      "               precision    recall  f1-score   support\n",
      "\n",
      "           A       0.99      1.00      0.99       243\n",
      "           B       0.88      0.96      0.92       226\n",
      "           C       0.99      0.93      0.96       223\n",
      "           D       0.93      1.00      0.96       227\n",
      "           E       0.93      0.96      0.95       218\n",
      "           F       0.95      0.94      0.95       233\n",
      "           G       0.96      0.94      0.95       224\n",
      "           H       0.90      0.92      0.91       218\n",
      "           I       0.95      0.97      0.96       231\n",
      "           J       0.98      0.94      0.96       235\n",
      "           K       0.95      0.91      0.93       232\n",
      "           L       0.97      0.97      0.97       246\n",
      "           M       0.97      0.98      0.97       245\n",
      "           N       0.97      0.97      0.97       237\n",
      "           O       0.95      0.97      0.96       233\n",
      "           P       0.96      0.94      0.95       241\n",
      "           Q       0.96      0.96      0.96       246\n",
      "           R       0.93      0.97      0.95       217\n",
      "           S       1.00      0.94      0.97       222\n",
      "           T       0.97      0.99      0.98       249\n",
      "           U       0.99      0.97      0.98       269\n",
      "           V       0.97      0.93      0.95       204\n",
      "           W       0.97      0.99      0.98       218\n",
      "           X       0.96      0.97      0.97       218\n",
      "           Y       0.99      0.98      0.98       230\n",
      "           Z       0.99      0.97      0.98       215\n",
      "\n",
      "    accuracy                           0.96      6000\n",
      "   macro avg       0.96      0.96      0.96      6000\n",
      "weighted avg       0.96      0.96      0.96      6000\n",
      "\n"
     ]
    }
   ],
   "source": [
    "#Predicting the new model\n",
    "\n",
    "print(\"Classification Report:\\n\",classification_report(lv_y_test,\n",
    "                                                       lv_letter_forest_best.predict(lv_x_test)))"
   ]
  },
  {
   "cell_type": "code",
   "execution_count": 18,
   "metadata": {},
   "outputs": [
    {
     "name": "stdout",
     "output_type": "stream",
     "text": [
      "Accuracy of new random forest model: 0.9601666666666666\n"
     ]
    }
   ],
   "source": [
    "#Determining accuracy of the new model\n",
    "\n",
    "print(\"Accuracy of new random forest model:\",accuracy_score(lv_y_test,\n",
    "                                                lv_letter_forest_best.predict(lv_x_test)))"
   ]
  },
  {
   "cell_type": "code",
   "execution_count": 20,
   "metadata": {},
   "outputs": [
    {
     "name": "stdout",
     "output_type": "stream",
     "text": [
      "----------------------BAGGING MODEL---------------------\n",
      "Accuracy of bagging model on training set: 0.9982142857142857\n",
      "Accuracy of bagging model on test set: 0.928\n"
     ]
    }
   ],
   "source": [
    "#Creating a bagging model\n",
    "\n",
    "print(\"----------------------BAGGING MODEL---------------------\")\n",
    "\n",
    "lv_letter_bag = BaggingClassifier(base_estimator=None,n_estimators=10,max_samples=1.0,\n",
    "                                 max_features=1.0,bootstrap=True)\n",
    "\n",
    "lv_letter_bag.fit(lv_x_train,lv_y_train)\n",
    "\n",
    "print(\"Accuracy of bagging model on training set:\",lv_letter_bag.score(lv_x_train,\n",
    "                                                                       lv_y_train))\n",
    "\n",
    "print(\"Accuracy of bagging model on test set:\",accuracy_score(lv_y_test,\n",
    "                                                    lv_letter_bag.predict(lv_x_test)))"
   ]
  },
  {
   "cell_type": "code",
   "execution_count": 21,
   "metadata": {},
   "outputs": [
    {
     "name": "stdout",
     "output_type": "stream",
     "text": [
      "----------------DECISION TREE MODEL--------------\n",
      "Accuracy of decision tree model on training set: 1.0\n",
      "Accuracy of Decision tree model on test set: 0.8691666666666666\n"
     ]
    }
   ],
   "source": [
    "#Creating a decision tree model\n",
    "\n",
    "print(\"----------------DECISION TREE MODEL--------------\")\n",
    "\n",
    "lv_letter_tree = DecisionTreeClassifier()\n",
    "lv_letter_tree.fit(lv_x_train,lv_y_train)\n",
    "\n",
    "print(\"Accuracy of decision tree model on training set:\",lv_letter_tree.score(lv_x_train,\n",
    "                                                                             lv_y_train))\n",
    "\n",
    "print(\"Accuracy of Decision tree model on test set:\",accuracy_score(lv_y_test,\n",
    "                                                        lv_letter_tree.predict(lv_x_test)))"
   ]
  },
  {
   "cell_type": "code",
   "execution_count": null,
   "metadata": {},
   "outputs": [],
   "source": []
  }
 ],
 "metadata": {
  "kernelspec": {
   "display_name": "Python 3",
   "language": "python",
   "name": "python3"
  },
  "language_info": {
   "codemirror_mode": {
    "name": "ipython",
    "version": 3
   },
   "file_extension": ".py",
   "mimetype": "text/x-python",
   "name": "python",
   "nbconvert_exporter": "python",
   "pygments_lexer": "ipython3",
   "version": "3.7.6"
  }
 },
 "nbformat": 4,
 "nbformat_minor": 4
}
