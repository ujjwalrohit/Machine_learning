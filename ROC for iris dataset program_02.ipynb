{
 "cells": [
  {
   "cell_type": "code",
   "execution_count": 1,
   "metadata": {},
   "outputs": [
    {
     "name": "stderr",
     "output_type": "stream",
     "text": [
      "/opt/anaconda3/lib/python3.7/importlib/_bootstrap.py:219: RuntimeWarning: numpy.ufunc size changed, may indicate binary incompatibility. Expected 192 from C header, got 216 from PyObject\n",
      "  return f(*args, **kwds)\n"
     ]
    }
   ],
   "source": [
    "# Importing necessary libraries\n",
    "\n",
    "from sklearn                 import svm,datasets\n",
    "from sklearn.metrics         import roc_curve,auc\n",
    "from sklearn.model_selection import train_test_split\n",
    "from sklearn.preprocessing   import label_binarize\n",
    "from sklearn.multiclass      import OneVsRestClassifier\n",
    "\n",
    "import numpy             as np\n",
    "import pandas            as pd\n",
    "import matplotlib.pyplot as plt"
   ]
  },
  {
   "cell_type": "code",
   "execution_count": 2,
   "metadata": {},
   "outputs": [
    {
     "name": "stdout",
     "output_type": "stream",
     "text": [
      "Names of independent variables are :\n",
      " ['sepal length (cm)', 'sepal width (cm)', 'petal length (cm)', 'petal width (cm)']\n",
      "Categories of dependent variables are: ['setosa' 'versicolor' 'virginica']\n",
      "Dimension of dependent variables: (150, 4)\n"
     ]
    }
   ],
   "source": [
    "#Loading and reading data\n",
    "\n",
    "lv_iris = datasets.load_iris()\n",
    "print(\"Names of independent variables are :\\n\",lv_iris.feature_names)\n",
    "print(\"Categories of dependent variables are:\",lv_iris.target_names)\n",
    "\n",
    "lv_x_iris = lv_iris.data\n",
    "lv_y_iris = lv_iris.target\n",
    "print('Dimension of dependent variables:',lv_x_iris.shape)"
   ]
  },
  {
   "cell_type": "code",
   "execution_count": 3,
   "metadata": {},
   "outputs": [],
   "source": [
    "#Binarize the dependent variable\n",
    "\n",
    "lv_y_iris = label_binarize(lv_y_iris,classes = [0,1,2])\n",
    "lv_num_class = lv_y_iris.shape[1]"
   ]
  },
  {
   "cell_type": "code",
   "execution_count": 4,
   "metadata": {},
   "outputs": [],
   "source": [
    "#Create training and test sets\n",
    "\n",
    "lv_x_train,lv_x_test,lv_y_train,lv_y_test = train_test_split(lv_x_iris,lv_y_iris,\n",
    "                                                             test_size = 0.5,\n",
    "                                                            random_state = 0)"
   ]
  },
  {
   "cell_type": "code",
   "execution_count": 5,
   "metadata": {},
   "outputs": [],
   "source": [
    "#Using one veresur rest classifier for multiple classification \n",
    "\n",
    "lv_classifier = OneVsRestClassifier(svm.SVC(kernel = 'linear',\n",
    "                                           probability = True,\n",
    "                                           random_state = 0))\n",
    "\n",
    "lv_y_score = lv_classifier.fit(lv_x_train,lv_y_train).decision_function(lv_x_test)"
   ]
  },
  {
   "cell_type": "code",
   "execution_count": 6,
   "metadata": {},
   "outputs": [],
   "source": [
    "#Creating dictionary for false positive , true positive , AUC\n",
    "\n",
    "lv_fpr = dict()\n",
    "lv_tpr = dict()\n",
    "roc_auc = dict()"
   ]
  },
  {
   "cell_type": "code",
   "execution_count": 7,
   "metadata": {},
   "outputs": [],
   "source": [
    "#Execute ROC Curve and compute ROC area for each class\n",
    "\n",
    "for i in range(lv_num_class):\n",
    "    lv_fpr[i],lv_tpr[i],_ = roc_curve(lv_y_test[:,i],lv_y_score[:,i])\n",
    "    roc_auc[i] = auc(lv_fpr[i],lv_tpr[i])"
   ]
  },
  {
   "cell_type": "code",
   "execution_count": 14,
   "metadata": {},
   "outputs": [
    {
     "name": "stderr",
     "output_type": "stream",
     "text": [
      "No handles with labels found to put in legend.\n"
     ]
    },
    {
     "data": {
      "image/png": "[encoded data removed]",
      "text/plain": [
       "<Figure size 432x288 with 1 Axes>"
      ]
     },
     "metadata": {
      "needs_background": "light"
     },
     "output_type": "display_data"
    }
   ],
   "source": [
    "#Plot ROC curve for all the classes\n",
    "plt.figure()\n",
    "plt.plot([0,1],[0,1],color = 'navy',lw = 2,linestyle = '--')\n",
    "plt.plot(lv_fpr[2],lv_tpr[2],color = 'red')\n",
    "plt.plot(lv_fpr[1],lv_tpr[1],color = 'green')\n",
    "plt.plot(lv_fpr[0],lv_tpr[0],color = 'blue')\n",
    "plt.xlim([0.0,1.0])\n",
    "plt.ylim([0.0,1.05])\n",
    "plt.xlabel('False positive rate')\n",
    "plt.ylabel('True Position rate')\n",
    "plt.title('ROC for irir dataset')\n",
    "plt.legend(loc = \"lower right\")\n",
    "plt.show()\n"
   ]
  },
  {
   "cell_type": "code",
   "execution_count": null,
   "metadata": {},
   "outputs": [],
   "source": []
  }
 ],
 "metadata": {
  "kernelspec": {
   "display_name": "Python 3",
   "language": "python",
   "name": "python3"
  },
  "language_info": {
   "codemirror_mode": {
    "name": "ipython",
    "version": 3
   },
   "file_extension": ".py",
   "mimetype": "text/x-python",
   "name": "python",
   "nbconvert_exporter": "python",
   "pygments_lexer": "ipython3",
   "version": "3.7.6"
  }
 },
 "nbformat": 4,
 "nbformat_minor": 4
}
