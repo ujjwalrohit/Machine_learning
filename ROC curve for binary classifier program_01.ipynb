{
 "cells": [
  {
   "cell_type": "code",
   "execution_count": 1,
   "metadata": {},
   "outputs": [
    {
     "name": "stderr",
     "output_type": "stream",
     "text": [
      "/opt/anaconda3/lib/python3.7/importlib/_bootstrap.py:219: RuntimeWarning: numpy.ufunc size changed, may indicate binary incompatibility. Expected 192 from C header, got 216 from PyObject\n",
      "  return f(*args, **kwds)\n"
     ]
    }
   ],
   "source": [
    "#importing necessary libraries\n",
    "\n",
    "from sklearn.metrics         import roc_curve,roc_auc_score\n",
    "from sklearn.model_selection import train_test_split\n",
    "from sklearn.naive_bayes     import GaussianNB\n",
    "from sklearn.datasets        import load_breast_cancer\n",
    "\n",
    "import numpy             as np\n",
    "import pandas            as pd\n",
    "import matplotlib.pyplot as plt"
   ]
  },
  {
   "cell_type": "code",
   "execution_count": 4,
   "metadata": {},
   "outputs": [
    {
     "name": "stdout",
     "output_type": "stream",
     "text": [
      "      0      1       2       3        4        5       6        7       8   \\\n",
      "0  17.99  10.38  122.80  1001.0  0.11840  0.27760  0.3001  0.14710  0.2419   \n",
      "1  20.57  17.77  132.90  1326.0  0.08474  0.07864  0.0869  0.07017  0.1812   \n",
      "2  19.69  21.25  130.00  1203.0  0.10960  0.15990  0.1974  0.12790  0.2069   \n",
      "3  11.42  20.38   77.58   386.1  0.14250  0.28390  0.2414  0.10520  0.2597   \n",
      "4  20.29  14.34  135.10  1297.0  0.10030  0.13280  0.1980  0.10430  0.1809   \n",
      "\n",
      "        9   ...     20     21      22      23      24      25      26      27  \\\n",
      "0  0.07871  ...  25.38  17.33  184.60  2019.0  0.1622  0.6656  0.7119  0.2654   \n",
      "1  0.05667  ...  24.99  23.41  158.80  1956.0  0.1238  0.1866  0.2416  0.1860   \n",
      "2  0.05999  ...  23.57  25.53  152.50  1709.0  0.1444  0.4245  0.4504  0.2430   \n",
      "3  0.09744  ...  14.91  26.50   98.87   567.7  0.2098  0.8663  0.6869  0.2575   \n",
      "4  0.05883  ...  22.54  16.67  152.20  1575.0  0.1374  0.2050  0.4000  0.1625   \n",
      "\n",
      "       28       29  \n",
      "0  0.4601  0.11890  \n",
      "1  0.2750  0.08902  \n",
      "2  0.3613  0.08758  \n",
      "3  0.6638  0.17300  \n",
      "4  0.2364  0.07678  \n",
      "\n",
      "[5 rows x 30 columns]\n"
     ]
    }
   ],
   "source": [
    "#Loading the cancer data set from sklearn datasets\n",
    "\n",
    "lv_cancer = load_breast_cancer()\n",
    "\n",
    "lv_cancer_df = pd.DataFrame(lv_cancer.data)\n",
    "print(lv_cancer_df.head())"
   ]
  },
  {
   "cell_type": "code",
   "execution_count": 5,
   "metadata": {},
   "outputs": [],
   "source": [
    "#Training ,test dataset for dependent and independent variables\n",
    "\n",
    "lv_x_train,lv_x_test,lv_y_train,lv_y_test = train_test_split(lv_cancer.data,\n",
    "                                                            lv_cancer.target,\n",
    "                                                            random_state = 0 )"
   ]
  },
  {
   "cell_type": "code",
   "execution_count": 6,
   "metadata": {},
   "outputs": [
    {
     "data": {
      "text/plain": [
       "GaussianNB(priors=None, var_smoothing=1e-09)"
      ]
     },
     "execution_count": 6,
     "metadata": {},
     "output_type": "execute_result"
    }
   ],
   "source": [
    "#Developing a naive bayes model for training data set\n",
    "\n",
    "lv_naive_cancer = GaussianNB()\n",
    "lv_naive_cancer.fit(lv_x_train,lv_y_train)\n"
   ]
  },
  {
   "cell_type": "code",
   "execution_count": 7,
   "metadata": {},
   "outputs": [],
   "source": [
    "#Predicting probabilities for test dataset of independent variables\n",
    "\n",
    "lv_cancer_probs = lv_naive_cancer.predict_proba(lv_x_test)\n",
    "\n",
    "#Considering probabilities for the positive outcome only\n",
    "lv_cancer_probs = lv_cancer_probs[:,1]"
   ]
  },
  {
   "cell_type": "code",
   "execution_count": 8,
   "metadata": {},
   "outputs": [],
   "source": [
    "#Calculate ROC scores from original data and predicted probabilities\n",
    "\n",
    "lv_cancer_auc = roc_auc_score(lv_y_test,lv_cancer_probs)"
   ]
  },
  {
   "cell_type": "code",
   "execution_count": 10,
   "metadata": {},
   "outputs": [],
   "source": [
    "#Determine false positive and true positive rate from ROC Curve\n",
    "\n",
    "lv_cancer_fpr ,lv_cancer_tpr, _ = roc_curve(lv_y_test,lv_cancer_probs)"
   ]
  },
  {
   "cell_type": "code",
   "execution_count": 22,
   "metadata": {},
   "outputs": [
    {
     "data": {
      "image/png": "[encoded data removed]",
      "text/plain": [
       "<Figure size 432x288 with 1 Axes>"
      ]
     },
     "metadata": {
      "needs_background": "light"
     },
     "output_type": "display_data"
    },
    {
     "name": "stdout",
     "output_type": "stream",
     "text": [
      "0.990146750524109\n"
     ]
    }
   ],
   "source": [
    "#Plot the ROC Curve for the model\n",
    "\n",
    "plt.plot(lv_cancer_fpr,lv_cancer_tpr,color = \"red\", marker = '.',label = 'ROC curve ',)\n",
    "\n",
    "#Plot the straight line for the model\n",
    "plt.plot([0,1],[0,1],color = 'blue',lw = 2,linestyle = '--')\n",
    "\n",
    "#Defining the axis labels and title\n",
    "plt.xlabel('False Positive rate')\n",
    "plt.ylabel('True Positive rate')\n",
    "plt.title(\"ROC curve for binary classifier dataset\")\n",
    "\n",
    "#Display the legend in lower right corner\n",
    "plt.legend(loc = \"lower right\")\n",
    "\n",
    "#Display the plot\n",
    "plt.show()\n",
    "\n",
    "print(lv_cancer_auc)"
   ]
  },
  {
   "cell_type": "code",
   "execution_count": null,
   "metadata": {},
   "outputs": [],
   "source": []
  }
 ],
 "metadata": {
  "kernelspec": {
   "display_name": "Python 3",
   "language": "python",
   "name": "python3"
  },
  "language_info": {
   "codemirror_mode": {
    "name": "ipython",
    "version": 3
   },
   "file_extension": ".py",
   "mimetype": "text/x-python",
   "name": "python",
   "nbconvert_exporter": "python",
   "pygments_lexer": "ipython3",
   "version": "3.7.6"
  }
 },
 "nbformat": 4,
 "nbformat_minor": 4
}
