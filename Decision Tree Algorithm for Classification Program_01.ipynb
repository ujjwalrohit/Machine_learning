{
 "cells": [
  {
   "cell_type": "code",
   "execution_count": 24,
   "metadata": {},
   "outputs": [],
   "source": [
    "#importating Libraries\n",
    "\n",
    "from sklearn.model_selection       import train_test_split\n",
    "from sklearn.neighbors             import KNeighborsClassifier\n",
    "from sklearn.naive_bayes           import GaussianNB\n",
    "from sklearn.linear_model          import LogisticRegression\n",
    "from sklearn.metrics               import confusion_matrix,classification_report\n",
    "from sklearn.metrics               import accuracy_score\n",
    "from sklearn.tree                  import DecisionTreeClassifier,export_graphviz\n",
    "\n",
    "import numpy             as np\n",
    "import pandas            as pd\n",
    "import matplotlib.pyplot as plt"
   ]
  },
  {
   "cell_type": "code",
   "execution_count": 25,
   "metadata": {},
   "outputs": [],
   "source": [
    "#Reading data\n",
    "\n",
    "lv_fertility_df = pd.read_csv(\"/Users/ujjwalrohit/Dataset for machine Learning/fertility.csv.xls\")"
   ]
  },
  {
   "cell_type": "code",
   "execution_count": 26,
   "metadata": {},
   "outputs": [
    {
     "name": "stdout",
     "output_type": "stream",
     "text": [
      "The dimension of the data set is : (100, 10)\n",
      "The names of variables in the data set is:\n",
      " Index(['Season', 'Age', 'Childish diseases', 'Accident or serious trauma',\n",
      "       'Surgical intervention', 'High fevers in the last year',\n",
      "       'Frequency of alcohol consumption', 'Smoking habit',\n",
      "       'Number of hours spent sitting per day', 'Diagnosis'],\n",
      "      dtype='object')\n",
      "<class 'pandas.core.frame.DataFrame'>\n",
      "RangeIndex: 100 entries, 0 to 99\n",
      "Data columns (total 10 columns):\n",
      " #   Column                                 Non-Null Count  Dtype \n",
      "---  ------                                 --------------  ----- \n",
      " 0   Season                                 100 non-null    object\n",
      " 1   Age                                    100 non-null    int64 \n",
      " 2   Childish diseases                      100 non-null    object\n",
      " 3   Accident or serious trauma             100 non-null    object\n",
      " 4   Surgical intervention                  100 non-null    object\n",
      " 5   High fevers in the last year           100 non-null    object\n",
      " 6   Frequency of alcohol consumption       100 non-null    object\n",
      " 7   Smoking habit                          100 non-null    object\n",
      " 8   Number of hours spent sitting per day  100 non-null    int64 \n",
      " 9   Diagnosis                              100 non-null    object\n",
      "dtypes: int64(2), object(8)\n",
      "memory usage: 7.9+ KB\n",
      "The information of the data set is :\n",
      " None\n"
     ]
    }
   ],
   "source": [
    "#Displaying the characteristics of the fertility data set\n",
    "\n",
    "print(\"The dimension of the data set is :\",lv_fertility_df.shape)\n",
    "print(\"The names of variables in the data set is:\\n\",lv_fertility_df.columns)\n",
    "print(\"The information of the data set is :\\n\",lv_fertility_df.info())"
   ]
  },
  {
   "cell_type": "code",
   "execution_count": 27,
   "metadata": {},
   "outputs": [
    {
     "name": "stdout",
     "output_type": "stream",
     "text": [
      "spring    37\n",
      "fall      31\n",
      "winter    28\n",
      "summer     4\n",
      "Name: Season, dtype: int64\n",
      "\n",
      "\n",
      "yes    87\n",
      "no     13\n",
      "Name: Childish diseases, dtype: int64\n",
      "\n",
      "\n",
      "no     56\n",
      "yes    44\n",
      "Name: Accident or serious trauma, dtype: int64\n",
      "\n",
      "\n",
      "yes    51\n",
      "no     49\n",
      "Name: Surgical intervention, dtype: int64\n",
      "\n",
      "\n",
      "more than 3 months ago    63\n",
      "no                        28\n",
      "less than 3 months ago     9\n",
      "Name: High fevers in the last year, dtype: int64\n",
      "\n",
      "\n",
      "hardly ever or never    40\n",
      "once a week             39\n",
      "several times a week    19\n",
      "several times a day      1\n",
      "every day                1\n",
      "Name: Frequency of alcohol consumption, dtype: int64\n",
      "\n",
      "\n",
      "never         56\n",
      "occasional    23\n",
      "daily         21\n",
      "Name: Smoking habit, dtype: int64\n",
      "\n",
      "\n",
      "Normal     88\n",
      "Altered    12\n",
      "Name: Diagnosis, dtype: int64\n"
     ]
    }
   ],
   "source": [
    "print(lv_fertility_df['Season'].value_counts())\n",
    "print(\"\\n\")\n",
    "print(lv_fertility_df['Childish diseases'].value_counts())\n",
    "print(\"\\n\")\n",
    "print(lv_fertility_df['Accident or serious trauma'].value_counts())\n",
    "print(\"\\n\")\n",
    "print(lv_fertility_df['Surgical intervention'].value_counts())\n",
    "print(\"\\n\")\n",
    "print(lv_fertility_df['High fevers in the last year'].value_counts())\n",
    "print(\"\\n\")\n",
    "print(lv_fertility_df['Frequency of alcohol consumption'].value_counts())\n",
    "print(\"\\n\")\n",
    "print(lv_fertility_df['Smoking habit'].value_counts())\n",
    "print(\"\\n\")\n",
    "print(lv_fertility_df['Diagnosis'].value_counts())"
   ]
  },
  {
   "cell_type": "code",
   "execution_count": 28,
   "metadata": {},
   "outputs": [
    {
     "name": "stdout",
     "output_type": "stream",
     "text": [
      "spring    37\n",
      "fall      31\n",
      "winter    28\n",
      "summer     4\n",
      "Name: Season, dtype: int64\n",
      "28    28\n",
      "30    27\n",
      "32    17\n",
      "33     7\n",
      "27     7\n",
      "29     5\n",
      "35     4\n",
      "36     2\n",
      "31     2\n",
      "34     1\n",
      "Name: Age, dtype: int64\n",
      "yes    87\n",
      "no     13\n",
      "Name: Childish diseases, dtype: int64\n",
      "no     56\n",
      "yes    44\n",
      "Name: Accident or serious trauma, dtype: int64\n",
      "yes    51\n",
      "no     49\n",
      "Name: Surgical intervention, dtype: int64\n",
      "more than 3 months ago    63\n",
      "no                        28\n",
      "less than 3 months ago     9\n",
      "Name: High fevers in the last year, dtype: int64\n",
      "hardly ever or never    40\n",
      "once a week             39\n",
      "several times a week    19\n",
      "several times a day      1\n",
      "every day                1\n",
      "Name: Frequency of alcohol consumption, dtype: int64\n",
      "never         56\n",
      "occasional    23\n",
      "daily         21\n",
      "Name: Smoking habit, dtype: int64\n",
      "5      17\n",
      "9      16\n",
      "7      13\n",
      "6      11\n",
      "11     10\n",
      "8      10\n",
      "3      10\n",
      "16      3\n",
      "14      3\n",
      "10      2\n",
      "1       2\n",
      "342     1\n",
      "18      1\n",
      "2       1\n",
      "Name: Number of hours spent sitting per day, dtype: int64\n",
      "Normal     88\n",
      "Altered    12\n",
      "Name: Diagnosis, dtype: int64\n"
     ]
    }
   ],
   "source": [
    "for i in lv_fertility_df.columns:\n",
    "        print(lv_fertility_df[str(i)].value_counts())\n",
    "    "
   ]
  },
  {
   "cell_type": "code",
   "execution_count": 29,
   "metadata": {},
   "outputs": [],
   "source": [
    "\n",
    "\n",
    "        \n",
    "lv_clean = {'Season' : {'spring':0,'fall':1,'winter':2,'summer':3},\n",
    "            'Childish diseases':{'yes':0,'no':1},\n",
    "            'Accident or serious trauma':{'yes':0,'no':1},\n",
    "            'Surgical intervention':{'yes':0,'no':1},\n",
    "           'High fevers in the last year':{'more than 3 months ago':0,\n",
    "                                           'no':1,'less than 3 months ago':2},\n",
    "           'Frequency of alcohol consumption':{'hardly ever or never':1,\n",
    "                                               'once a week':2,\n",
    "                                               'several times a week':3,\n",
    "                                               'every day':4},\n",
    "           'Smoking habit':{'never':0,'occasional':1,'daily':2},\n",
    "           'Diagnosis':{'Normal':0,'Altered':1}}\n",
    "\n",
    "lv_fertility_df = lv_fertility_df.drop('Frequency of alcohol consumption',axis = 1)\n",
    "\n",
    "#Replace the Categories variable into int\n",
    "lv_fertility_df = lv_fertility_df.replace(lv_clean)\n"
   ]
  },
  {
   "cell_type": "code",
   "execution_count": 30,
   "metadata": {},
   "outputs": [
    {
     "name": "stdout",
     "output_type": "stream",
     "text": [
      "<class 'pandas.core.frame.DataFrame'>\n",
      "RangeIndex: 100 entries, 0 to 99\n",
      "Data columns (total 9 columns):\n",
      " #   Column                                 Non-Null Count  Dtype\n",
      "---  ------                                 --------------  -----\n",
      " 0   Season                                 100 non-null    int64\n",
      " 1   Age                                    100 non-null    int64\n",
      " 2   Childish diseases                      100 non-null    int64\n",
      " 3   Accident or serious trauma             100 non-null    int64\n",
      " 4   Surgical intervention                  100 non-null    int64\n",
      " 5   High fevers in the last year           100 non-null    int64\n",
      " 6   Smoking habit                          100 non-null    int64\n",
      " 7   Number of hours spent sitting per day  100 non-null    int64\n",
      " 8   Diagnosis                              100 non-null    int64\n",
      "dtypes: int64(9)\n",
      "memory usage: 7.2 KB\n",
      "None\n"
     ]
    }
   ],
   "source": [
    "print(lv_fertility_df.info())"
   ]
  },
  {
   "cell_type": "code",
   "execution_count": 31,
   "metadata": {},
   "outputs": [],
   "source": [
    "#Using a random seed function for generating the same data set\n",
    "\n",
    "np.random.seed(3000)\n",
    "\n",
    "lv_training,lv_test = train_test_split(lv_fertility_df,test_size = 0.3)\n",
    "lv_x_train = lv_training.drop(['Diagnosis'],axis = 1)\n",
    "lv_y_train = lv_training['Diagnosis']\n",
    "\n",
    "lv_x_test = lv_test.drop(['Diagnosis'],axis = 1)\n",
    "lv_y_test = lv_test['Diagnosis']"
   ]
  },
  {
   "cell_type": "code",
   "execution_count": 32,
   "metadata": {},
   "outputs": [
    {
     "name": "stdout",
     "output_type": "stream",
     "text": [
      "----------------DECISION TREE MODEL----------------\n",
      "Accuracy on training set of fertility data set is : 0.9\n",
      "Accuracy on test set of fertility data set is : 0.8333333333333334\n"
     ]
    }
   ],
   "source": [
    "#Creating a decision tree model\n",
    "\n",
    "print(\"----------------DECISION TREE MODEL----------------\")\n",
    "\n",
    "lv_tree_fertility = DecisionTreeClassifier(max_depth = 3,random_state=0)\n",
    "lv_tree_fertility.fit(lv_x_train,lv_y_train)\n",
    "\n",
    "lv_tree_score_train = lv_tree_fertility.score(lv_x_train,lv_y_train)\n",
    "lv_tree_score_test  = lv_tree_fertility.score(lv_x_test,lv_y_test)\n",
    "\n",
    "print(\"Accuracy on training set of fertility data set is :\",lv_tree_score_train)\n",
    "print(\"Accuracy on test set of fertility data set is :\",lv_tree_score_test)"
   ]
  },
  {
   "cell_type": "code",
   "execution_count": 38,
   "metadata": {},
   "outputs": [
    {
     "name": "stdout",
     "output_type": "stream",
     "text": [
      "The importance of the features of tree model:\n",
      " [0.35067846 0.         0.         0.25555924 0.         0.\n",
      " 0.         0.3937623 ]\n"
     ]
    }
   ],
   "source": [
    "#Determining the importance of each predictor variable\n",
    "\n",
    "print(\"The importance of the features of tree model:\\n\",lv_tree_fertility.feature_importances_)"
   ]
  },
  {
   "cell_type": "code",
   "execution_count": 36,
   "metadata": {},
   "outputs": [
    {
     "data": {
      "image/png": "[encoded data removed]",
      "text/plain": [
       "<Figure size 1440x720 with 1 Axes>"
      ]
     },
     "metadata": {
      "needs_background": "light"
     },
     "output_type": "display_data"
    }
   ],
   "source": [
    "#Displaying importance of each variable in decision tree\n",
    "\n",
    "plt.figure(1,figsize = (20,10))\n",
    "plt.yticks(range(0,8),lv_x_train.columns)\n",
    "plt.barh(range(0,8),lv_tree_fertility.feature_importances_,align = 'center')\n",
    "plt.xlabel(\"Coefficient\")\n",
    "plt.ylabel(\"Value\")\n",
    "plt.show()"
   ]
  },
  {
   "cell_type": "code",
   "execution_count": 40,
   "metadata": {},
   "outputs": [
    {
     "name": "stdout",
     "output_type": "stream",
     "text": [
      "The accuracy of Decision Tree model is : 0.8333333333333334\n",
      "The confusion matrix is :\n",
      " [[25  2]\n",
      " [ 3  0]]\n"
     ]
    }
   ],
   "source": [
    "#Creating Confusion matrix and determining accuracy of the new model\n",
    "\n",
    "lv_tree_acc_score = accuracy_score(lv_y_test,lv_tree_fertility.predict(lv_x_test))\n",
    "lv_tree_result = confusion_matrix(lv_y_test,lv_tree_fertility.predict(lv_x_test))\n",
    "\n",
    "print(\"The accuracy of Decision Tree model is :\",lv_tree_acc_score)\n",
    "print(\"The confusion matrix is :\\n\",lv_tree_result)"
   ]
  },
  {
   "cell_type": "code",
   "execution_count": 41,
   "metadata": {},
   "outputs": [
    {
     "name": "stdout",
     "output_type": "stream",
     "text": [
      "-------------------LOGISTIC REGRESSION MODEL--------------\n",
      "The accuracy of Logistic Regression is: 0.8666666666666667\n",
      "The Confusion matrix is:\n",
      " [[26  1]\n",
      " [ 3  0]]\n"
     ]
    }
   ],
   "source": [
    "# Creating a Logistic Regression model\n",
    "\n",
    "print(\"-------------------LOGISTIC REGRESSION MODEL--------------\")\n",
    "\n",
    "lv_log_fertility = LogisticRegression()\n",
    "lv_log_fertility.fit(lv_x_train,lv_y_train)\n",
    "lv_log_acc_score = accuracy_score(lv_y_test,lv_log_fertility.predict(lv_x_test))\n",
    "lv_log_result = confusion_matrix(lv_y_test,lv_log_fertility.predict(lv_x_test))\n",
    "\n",
    "print(\"The accuracy of Logistic Regression is:\",lv_log_acc_score)\n",
    "print(\"The Confusion matrix is:\\n\",lv_log_result)"
   ]
  },
  {
   "cell_type": "code",
   "execution_count": 42,
   "metadata": {},
   "outputs": [
    {
     "name": "stdout",
     "output_type": "stream",
     "text": [
      "------------------------NAIVE BAYES MODEL------------------\n",
      "The Accuracy of Naive bayes model is : 0.8666666666666667\n",
      "The Confusion matrix is:\n",
      " [[26  1]\n",
      " [ 3  0]]\n"
     ]
    }
   ],
   "source": [
    "#Creating a Naive Bayes model\n",
    "\n",
    "print(\"------------------------NAIVE BAYES MODEL------------------\")\n",
    "\n",
    "lv_naive_fertility = GaussianNB()\n",
    "lv_naive_fertility.fit(lv_x_train,lv_y_train)\n",
    "lv_naive_acc_score = accuracy_score(lv_y_test,lv_naive_fertility.predict(lv_x_test))\n",
    "lv_naive_result = confusion_matrix(lv_y_test,lv_naive_fertility.predict(lv_x_test))\n",
    "\n",
    "print(\"The Accuracy of Naive bayes model is :\",lv_naive_acc_score)\n",
    "print(\"The Confusion matrix is:\\n\",lv_naive_result)"
   ]
  },
  {
   "cell_type": "code",
   "execution_count": 43,
   "metadata": {},
   "outputs": [
    {
     "name": "stdout",
     "output_type": "stream",
     "text": [
      "--------------------KNN MODEL--------------------------\n",
      "The Accuracy Score of KNN model is : 0.9\n",
      "The Confusion matrix is :\n",
      " [[27  0]\n",
      " [ 3  0]]\n",
      "The Accuracy Score of KNN model is : 0.9\n",
      "The Confusion matrix is :\n",
      " [[27  0]\n",
      " [ 3  0]]\n",
      "The Accuracy Score of KNN model is : 0.9\n",
      "The Confusion matrix is :\n",
      " [[27  0]\n",
      " [ 3  0]]\n",
      "The Accuracy Score of KNN model is : 0.9\n",
      "The Confusion matrix is :\n",
      " [[27  0]\n",
      " [ 3  0]]\n",
      "The Accuracy Score of KNN model is : 0.9\n",
      "The Confusion matrix is :\n",
      " [[27  0]\n",
      " [ 3  0]]\n",
      "The Accuracy Score of KNN model is : 0.9\n",
      "The Confusion matrix is :\n",
      " [[27  0]\n",
      " [ 3  0]]\n",
      "The Accuracy Score of KNN model is : 0.9\n",
      "The Confusion matrix is :\n",
      " [[27  0]\n",
      " [ 3  0]]\n",
      "The Accuracy Score of KNN model is : 0.9\n",
      "The Confusion matrix is :\n",
      " [[27  0]\n",
      " [ 3  0]]\n",
      "The Accuracy Score of KNN model is : 0.9\n",
      "The Confusion matrix is :\n",
      " [[27  0]\n",
      " [ 3  0]]\n",
      "The Accuracy Score of KNN model is : 0.9\n",
      "The Confusion matrix is :\n",
      " [[27  0]\n",
      " [ 3  0]]\n",
      "The Accuracy Score of KNN model is : 0.9\n",
      "The Confusion matrix is :\n",
      " [[27  0]\n",
      " [ 3  0]]\n",
      "The Accuracy Score of KNN model is : 0.9\n",
      "The Confusion matrix is :\n",
      " [[27  0]\n",
      " [ 3  0]]\n",
      "The Accuracy Score of KNN model is : 0.9\n",
      "The Confusion matrix is :\n",
      " [[27  0]\n",
      " [ 3  0]]\n",
      "The Accuracy Score of KNN model is : 0.9\n",
      "The Confusion matrix is :\n",
      " [[27  0]\n",
      " [ 3  0]]\n",
      "The Accuracy Score of KNN model is : 0.9\n",
      "The Confusion matrix is :\n",
      " [[27  0]\n",
      " [ 3  0]]\n",
      "The Accuracy Score of KNN model is : 0.9\n",
      "The Confusion matrix is :\n",
      " [[27  0]\n",
      " [ 3  0]]\n",
      "The Accuracy Score of KNN model is : 0.9\n",
      "The Confusion matrix is :\n",
      " [[27  0]\n",
      " [ 3  0]]\n",
      "The Accuracy Score of KNN model is : 0.9\n",
      "The Confusion matrix is :\n",
      " [[27  0]\n",
      " [ 3  0]]\n",
      "The Accuracy Score of KNN model is : 0.9\n",
      "The Confusion matrix is :\n",
      " [[27  0]\n",
      " [ 3  0]]\n",
      "The Accuracy Score of KNN model is : 0.9\n",
      "The Confusion matrix is :\n",
      " [[27  0]\n",
      " [ 3  0]]\n",
      "The Accuracy Score of KNN model is : 0.9\n",
      "The Confusion matrix is :\n",
      " [[27  0]\n",
      " [ 3  0]]\n"
     ]
    }
   ],
   "source": [
    "#Creating a K-NN model\n",
    "\n",
    "print(\"--------------------KNN MODEL--------------------------\")\n",
    "\n",
    "lv_knn_fertility_list = []\n",
    "for k in range(21):\n",
    "    k = k + 1\n",
    "    lv_knn_fertility = KNeighborsClassifier()\n",
    "    lv_knn_fertility.fit(lv_x_train,lv_y_train)\n",
    "    lv_knn_acc_score = accuracy_score(lv_y_test,lv_knn_fertility.predict(lv_x_test))\n",
    "    lv_knn_result = confusion_matrix(lv_y_test,lv_knn_fertility.predict(lv_x_test))\n",
    "    lv_knn_fertility_list.append(lv_knn_acc_score)\n",
    "    print(\"The Accuracy Score of KNN model is :\",lv_knn_acc_score)\n",
    "    print(\"The Confusion matrix is :\\n\",lv_knn_result)"
   ]
  },
  {
   "cell_type": "code",
   "execution_count": 44,
   "metadata": {},
   "outputs": [
    {
     "name": "stdout",
     "output_type": "stream",
     "text": [
      "The Maximum Accuracy using KNN is : 0.9\n"
     ]
    },
    {
     "data": {
      "text/plain": [
       "<matplotlib.axes._subplots.AxesSubplot at 0x7fac126d8350>"
      ]
     },
     "execution_count": 44,
     "metadata": {},
     "output_type": "execute_result"
    },
    {
     "data": {
      "image/png": "[encoded data removed]",
      "text/plain": [
       "<Figure size 432x288 with 1 Axes>"
      ]
     },
     "metadata": {
      "needs_background": "light"
     },
     "output_type": "display_data"
    }
   ],
   "source": [
    "print(\"The Maximum Accuracy using KNN is :\",max(lv_knn_fertility_list))\n",
    "\n",
    "lv_score = pd.DataFrame(lv_knn_fertility_list)\n",
    "lv_score.plot()"
   ]
  },
  {
   "cell_type": "code",
   "execution_count": null,
   "metadata": {},
   "outputs": [],
   "source": []
  }
 ],
 "metadata": {
  "kernelspec": {
   "display_name": "Python 3",
   "language": "python",
   "name": "python3"
  },
  "language_info": {
   "codemirror_mode": {
    "name": "ipython",
    "version": 3
   },
   "file_extension": ".py",
   "mimetype": "text/x-python",
   "name": "python",
   "nbconvert_exporter": "python",
   "pygments_lexer": "ipython3",
   "version": "3.7.6"
  }
 },
 "nbformat": 4,
 "nbformat_minor": 4
}
