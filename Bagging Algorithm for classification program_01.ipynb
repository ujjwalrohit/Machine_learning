{
 "cells": [
  {
   "cell_type": "code",
   "execution_count": 14,
   "metadata": {},
   "outputs": [],
   "source": [
    "#Importing necessary libraries\n",
    "\n",
    "from sklearn.model_selection import train_test_split\n",
    "from sklearn.ensemble        import BaggingClassifier\n",
    "from sklearn.metrics         import accuracy_score,confusion_matrix,classification_report\n",
    "from sklearn.metrics         import roc_auc_score,roc_curve\n",
    "from sklearn.model_selection import GridSearchCV\n",
    "\n",
    "import numpy             as np\n",
    "import pandas            as pd\n",
    "import matplotlib.pyplot as plt"
   ]
  },
  {
   "cell_type": "code",
   "execution_count": 2,
   "metadata": {},
   "outputs": [],
   "source": [
    "#Reading the data set\n",
    "\n",
    "lv_credit_card_df = pd.read_csv('/Users/ujjwalrohit/Dataset for machine Learning/UCI_Credit_Card.csv')"
   ]
  },
  {
   "cell_type": "code",
   "execution_count": 3,
   "metadata": {},
   "outputs": [
    {
     "name": "stdout",
     "output_type": "stream",
     "text": [
      "Dimensions of the data set is : (30000, 25)\n",
      "Names of the variables in data set :\n",
      " Index(['ID', 'LIMIT_BAL', 'SEX', 'EDUCATION', 'MARRIAGE', 'AGE', 'PAY_0',\n",
      "       'PAY_2', 'PAY_3', 'PAY_4', 'PAY_5', 'PAY_6', 'BILL_AMT1', 'BILL_AMT2',\n",
      "       'BILL_AMT3', 'BILL_AMT4', 'BILL_AMT5', 'BILL_AMT6', 'PAY_AMT1',\n",
      "       'PAY_AMT2', 'PAY_AMT3', 'PAY_AMT4', 'PAY_AMT5', 'PAY_AMT6',\n",
      "       'default.payment.next.month'],\n",
      "      dtype='object')\n",
      "<class 'pandas.core.frame.DataFrame'>\n",
      "RangeIndex: 30000 entries, 0 to 29999\n",
      "Data columns (total 25 columns):\n",
      " #   Column                      Non-Null Count  Dtype  \n",
      "---  ------                      --------------  -----  \n",
      " 0   ID                          30000 non-null  int64  \n",
      " 1   LIMIT_BAL                   30000 non-null  float64\n",
      " 2   SEX                         30000 non-null  int64  \n",
      " 3   EDUCATION                   30000 non-null  int64  \n",
      " 4   MARRIAGE                    30000 non-null  int64  \n",
      " 5   AGE                         30000 non-null  int64  \n",
      " 6   PAY_0                       30000 non-null  int64  \n",
      " 7   PAY_2                       30000 non-null  int64  \n",
      " 8   PAY_3                       30000 non-null  int64  \n",
      " 9   PAY_4                       30000 non-null  int64  \n",
      " 10  PAY_5                       30000 non-null  int64  \n",
      " 11  PAY_6                       30000 non-null  int64  \n",
      " 12  BILL_AMT1                   30000 non-null  float64\n",
      " 13  BILL_AMT2                   30000 non-null  float64\n",
      " 14  BILL_AMT3                   30000 non-null  float64\n",
      " 15  BILL_AMT4                   30000 non-null  float64\n",
      " 16  BILL_AMT5                   30000 non-null  float64\n",
      " 17  BILL_AMT6                   30000 non-null  float64\n",
      " 18  PAY_AMT1                    30000 non-null  float64\n",
      " 19  PAY_AMT2                    30000 non-null  float64\n",
      " 20  PAY_AMT3                    30000 non-null  float64\n",
      " 21  PAY_AMT4                    30000 non-null  float64\n",
      " 22  PAY_AMT5                    30000 non-null  float64\n",
      " 23  PAY_AMT6                    30000 non-null  float64\n",
      " 24  default.payment.next.month  30000 non-null  int64  \n",
      "dtypes: float64(13), int64(12)\n",
      "memory usage: 5.7 MB\n",
      "The information of data set is : None\n"
     ]
    }
   ],
   "source": [
    "#Displaying the characteristics of the credit card data set\n",
    "\n",
    "print(\"Dimensions of the data set is :\",lv_credit_card_df.shape)\n",
    "print(\"Names of the variables in data set :\\n\",lv_credit_card_df.columns)\n",
    "print(\"The information of data set is :\",lv_credit_card_df.info())"
   ]
  },
  {
   "cell_type": "code",
   "execution_count": 4,
   "metadata": {},
   "outputs": [],
   "source": [
    "#Using random seed function for generating the same data set\n",
    "\n",
    "np.random.seed(3000)\n",
    "\n",
    "lv_training,lv_test = train_test_split(lv_credit_card_df,test_size = 0.3,random_state = 0)\n",
    "\n",
    "lv_x_train = lv_credit_card_df.drop(['default.payment.next.month'],axis = 1)\n",
    "lv_y_train = lv_credit_card_df['default.payment.next.month']\n",
    "\n",
    "lv_x_test = lv_credit_card_df.drop(['default.payment.next.month'],axis = 1)\n",
    "lv_y_test = lv_credit_card_df['default.payment.next.month']"
   ]
  },
  {
   "cell_type": "code",
   "execution_count": 5,
   "metadata": {},
   "outputs": [
    {
     "name": "stdout",
     "output_type": "stream",
     "text": [
      "-----------------------BAGGING MODEL-------------------\n",
      "Accuracy of bagging model on training set 0.9809\n",
      "Classification Report:\n",
      "               precision    recall  f1-score   support\n",
      "\n",
      "           0       0.98      1.00      0.99     23364\n",
      "           1       1.00      0.92      0.96      6636\n",
      "\n",
      "    accuracy                           0.98     30000\n",
      "   macro avg       0.99      0.96      0.97     30000\n",
      "weighted avg       0.98      0.98      0.98     30000\n",
      "\n"
     ]
    }
   ],
   "source": [
    "#Creating a bagging model\n",
    "\n",
    "print(\"-----------------------BAGGING MODEL-------------------\")\n",
    "\n",
    "lv_credit_bag = BaggingClassifier(base_estimator=None ,n_estimators=10,\n",
    "                                 max_samples=1.0,max_features=1.0,\n",
    "                                 bootstrap=True)\n",
    "\n",
    "lv_credit_bag.fit(lv_x_train,lv_y_train)\n",
    "\n",
    "print(\"Accuracy of bagging model on training set\",lv_credit_bag.score(lv_x_train,lv_y_train))\n",
    "print(\"Classification Report:\\n\",classification_report(lv_y_test,lv_credit_bag.predict(lv_x_test)))\n"
   ]
  },
  {
   "cell_type": "code",
   "execution_count": 6,
   "metadata": {},
   "outputs": [
    {
     "name": "stdout",
     "output_type": "stream",
     "text": [
      "Accuracy of bagging model on test data set: 0.9809\n",
      "Results of confusion matrix is :\n",
      " [[23337    27]\n",
      " [  546  6090]]\n"
     ]
    }
   ],
   "source": [
    "#Determining accuracy of the created model through confusion matrix\n",
    "\n",
    "print(\"Accuracy of bagging model on test data set:\",accuracy_score(lv_y_test,\n",
    "                                                    lv_credit_bag.predict(lv_x_test)))\n",
    "\n",
    "print(\"Results of confusion matrix is :\\n\",confusion_matrix(lv_y_test,\n",
    "                                        lv_credit_bag.predict(lv_x_test)))\n"
   ]
  },
  {
   "cell_type": "code",
   "execution_count": 7,
   "metadata": {},
   "outputs": [
    {
     "name": "stdout",
     "output_type": "stream",
     "text": [
      "----------------BAGGING MODEL WITH BEST PARAMETERS----------------\n",
      "Best Parameters:\n",
      " {'max_features': 1.0, 'max_samples': 0.5, 'n_estimators': 30}\n"
     ]
    }
   ],
   "source": [
    "#Creating a new bagging model with best parameters\n",
    "\n",
    "print(\"----------------BAGGING MODEL WITH BEST PARAMETERS----------------\")\n",
    "\n",
    "lv_param_grid = {'n_estimators' : [10,20,30,],\n",
    "                'max_samples' :[0.5,0.8,1.0],\n",
    "                'max_features' :[0.5,0.7,1.0]}\n",
    "\n",
    "lv_credit_bag_grid = BaggingClassifier()\n",
    "lv_credit_bag_cv = GridSearchCV(estimator=lv_credit_bag_grid,\n",
    "                                param_grid = lv_param_grid,cv = 5)\n",
    "\n",
    "lv_credit_bag_result = lv_credit_bag_cv.fit(lv_x_train,lv_y_train)\n",
    "\n",
    "print(\"Best Parameters:\\n\",lv_credit_bag_cv.best_params_)\n"
   ]
  },
  {
   "cell_type": "code",
   "execution_count": 10,
   "metadata": {},
   "outputs": [],
   "source": [
    "#Creating the model with best score\n",
    "\n",
    "lv_credit_bag_best = BaggingClassifier(n_estimators= lv_credit_bag_result.best_params_['n_estimators'],\n",
    "                                      max_samples=lv_credit_bag_result.best_params_['max_samples'],\n",
    "                                      max_features= lv_credit_bag_result.best_params_['max_features'])"
   ]
  },
  {
   "cell_type": "code",
   "execution_count": 11,
   "metadata": {},
   "outputs": [
    {
     "name": "stdout",
     "output_type": "stream",
     "text": [
      "Accuracy on training set with best parameters: 0.9294\n"
     ]
    }
   ],
   "source": [
    "#Evaluating the model considering best parameters\n",
    "\n",
    "lv_credit_bag_best.fit(lv_x_train,lv_y_train)\n",
    "print(\"Accuracy on training set with best parameters:\",lv_credit_bag_best.score(lv_x_train,lv_y_train))\n"
   ]
  },
  {
   "cell_type": "code",
   "execution_count": 12,
   "metadata": {},
   "outputs": [
    {
     "name": "stdout",
     "output_type": "stream",
     "text": [
      "Classification Report:\n",
      "               precision    recall  f1-score   support\n",
      "\n",
      "           0       0.92      0.99      0.96     23364\n",
      "           1       0.96      0.71      0.82      6636\n",
      "\n",
      "    accuracy                           0.93     30000\n",
      "   macro avg       0.94      0.85      0.89     30000\n",
      "weighted avg       0.93      0.93      0.93     30000\n",
      "\n"
     ]
    }
   ],
   "source": [
    "#Predicting the new model\n",
    "\n",
    "lv_credit_bag_pred_02 = lv_credit_bag_best.predict(lv_x_test)\n",
    "\n",
    "print(\"Classification Report:\\n\",classification_report(lv_y_test,lv_credit_bag_pred_02))"
   ]
  },
  {
   "cell_type": "code",
   "execution_count": 13,
   "metadata": {},
   "outputs": [
    {
     "name": "stdout",
     "output_type": "stream",
     "text": [
      "Accuracy on the test set with best parameter 0.9294\n",
      "Result of the confusion matrix is :\n",
      " [[23189   175]\n",
      " [ 1943  4693]]\n"
     ]
    }
   ],
   "source": [
    "#Determining accuracy of the new model through confusion matrix\n",
    "\n",
    "print(\"Accuracy on the test set with best parameter\",\n",
    "     accuracy_score(lv_y_test,lv_credit_bag_best.predict(lv_x_test)))\n",
    "\n",
    "print(\"Result of the confusion matrix is :\\n\",\n",
    "     confusion_matrix(lv_y_test,lv_credit_bag_best.predict(lv_x_test)))"
   ]
  },
  {
   "cell_type": "code",
   "execution_count": 17,
   "metadata": {},
   "outputs": [],
   "source": [
    "# Predicting probabilities\n",
    "\n",
    "lv_bag_probs = lv_credit_bag_best.predict_proba(lv_x_test)\n",
    "\n",
    "#Considering probabilities for the positive outcome only\n",
    "\n",
    "lv_bag_probs = lv_bag_probs[:,1]\n"
   ]
  },
  {
   "cell_type": "code",
   "execution_count": 19,
   "metadata": {},
   "outputs": [],
   "source": [
    "#Calculate AUC Scores\n",
    "\n",
    "lv_bag_auc = roc_auc_score(lv_y_test,lv_bag_probs)\n",
    "\n",
    "#Calculate ROC Curve\n",
    "\n",
    "lv_bag_fpr,lv_bag_tpr,_ = roc_curve(lv_y_test,lv_bag_probs)"
   ]
  },
  {
   "cell_type": "code",
   "execution_count": 22,
   "metadata": {},
   "outputs": [
    {
     "data": {
      "image/png": "[encoded data removed]",
      "text/plain": [
       "<Figure size 432x288 with 1 Axes>"
      ]
     },
     "metadata": {
      "needs_background": "light"
     },
     "output_type": "display_data"
    }
   ],
   "source": [
    "#Plot the straight line for the model\n",
    "\n",
    "plt.plot([0,1],[0,1],color = 'green', lw = 1,linestyle = '--')\n",
    "\n",
    "#plot the ROC curve for the model\n",
    "\n",
    "plt.plot(lv_bag_fpr,lv_bag_tpr,color = \"red\", label = 'Bagging ROC Curve (area = {0})'.format(lv_bag_auc))\n",
    "\n",
    "#Defining the axis labels\n",
    "\n",
    "plt.xlabel('False Positive Rate')\n",
    "plt.ylabel('True Positive Rate')\n",
    "\n",
    "#Show the legend in lower right corner\n",
    "\n",
    "plt.legend(loc = \"lower right\")\n",
    "\n",
    "#Show the plot\n",
    "\n",
    "plt.show()"
   ]
  },
  {
   "cell_type": "code",
   "execution_count": null,
   "metadata": {},
   "outputs": [],
   "source": []
  }
 ],
 "metadata": {
  "kernelspec": {
   "display_name": "Python 3",
   "language": "python",
   "name": "python3"
  },
  "language_info": {
   "codemirror_mode": {
    "name": "ipython",
    "version": 3
   },
   "file_extension": ".py",
   "mimetype": "text/x-python",
   "name": "python",
   "nbconvert_exporter": "python",
   "pygments_lexer": "ipython3",
   "version": "3.7.6"
  }
 },
 "nbformat": 4,
 "nbformat_minor": 4
}
